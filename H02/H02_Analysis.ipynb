{
 "cells": [
  {
   "cell_type": "markdown",
   "id": "5927c9c6-3bcf-475f-b36f-e91f0564cd2c",
   "metadata": {},
   "source": [
    "### Initialization"
   ]
  },
  {
   "cell_type": "code",
   "execution_count": 1,
   "id": "5ff3ceb8",
   "metadata": {},
   "outputs": [],
   "source": [
    "\n",
    "import numpy as np\n",
    "import matplotlib.pyplot as plt\n",
    "import h5py\n",
    "import pickle\n",
    "\n",
    "import sys\n",
    "sys.path.append('../common')\n",
    "from utils import process_group\n",
    "\n",
    "fpath1 = '/home/8ididata/2021-2/babnigg202107_2/cluster_results_QZ'\n",
    "fpath2 ='/home/8ididata/2022-1/babnigg202203/cluster_results_QZ'\n"
   ]
  },
  {
   "cell_type": "markdown",
   "id": "c989fd57-64a2-4c0a-8ca0-9ee098b5a45d",
   "metadata": {},
   "source": [
    "### Averaging of SA-XPCS results, temperature ramp up"
   ]
  },
  {
   "cell_type": "code",
   "execution_count": 2,
   "id": "ca75cca3",
   "metadata": {
    "scrolled": true
   },
   "outputs": [
    {
     "name": "stderr",
     "output_type": "stream",
     "text": [
      "2023-12-20 16:26:31,431 utils                   : total number of files in B039  is 2780\n",
      "2023-12-20 16:26:40,981 utils                   : label='B039_section_01': remove 31 datasets out of 278\n",
      "2023-12-20 16:26:40,989 utils                   : label='B039_section_03': remove 32 datasets out of 278\n",
      "2023-12-20 16:26:41,063 utils                   : label='B039_section_02': remove 28 datasets out of 278\n",
      "2023-12-20 16:26:41,169 utils                   : label='B039_section_05': remove 33 datasets out of 278\n",
      "2023-12-20 16:26:41,228 utils                   : label='B039_section_04': remove 32 datasets out of 278\n",
      "2023-12-20 16:26:41,242 utils                   : label='B039_section_00': remove 28 datasets out of 278\n",
      "2023-12-20 16:26:41,354 utils                   : label='B039_section_07': remove 32 datasets out of 278\n",
      "2023-12-20 16:26:41,484 utils                   : label='B039_section_08': remove 30 datasets out of 278\n",
      "2023-12-20 16:26:41,509 utils                   : label='B039_section_06': remove 29 datasets out of 278\n",
      "2023-12-20 16:26:41,532 utils                   : label='B039_section_09': remove 32 datasets out of 278\n"
     ]
    }
   ],
   "source": [
    "\n",
    "\n",
    "avg_ramp_up, t_el, ql_dyn, ql_sta = process_group(group='B039',\n",
    "                                              num_sections=10,\n",
    "                                              prefix=fpath1, \n",
    "                                              zone_idx='auto',\n",
    "                                              num_cores=24)\n"
   ]
  },
  {
   "cell_type": "markdown",
   "id": "dc31acd9-80dc-4c6b-8bcd-e39f12cdd0e2",
   "metadata": {},
   "source": [
    "### Averaging of SA-XPCS results, temperature ramp down"
   ]
  },
  {
   "cell_type": "code",
   "execution_count": 3,
   "id": "e84e82ad",
   "metadata": {},
   "outputs": [
    {
     "name": "stderr",
     "output_type": "stream",
     "text": [
      "2023-12-20 16:26:42,501 utils                   : total number of files in B040  is 2780\n",
      "2023-12-20 16:26:52,603 utils                   : label='B040_section_01': remove 34 datasets out of 278\n",
      "2023-12-20 16:26:52,662 utils                   : label='B040_section_02': remove 31 datasets out of 278\n",
      "2023-12-20 16:26:52,698 utils                   : label='B040_section_03': remove 31 datasets out of 278\n",
      "2023-12-20 16:26:52,777 utils                   : label='B040_section_04': remove 32 datasets out of 278\n",
      "2023-12-20 16:26:52,849 utils                   : label='B040_section_05': remove 31 datasets out of 278\n",
      "2023-12-20 16:26:52,967 utils                   : label='B040_section_06': remove 31 datasets out of 278\n",
      "2023-12-20 16:26:53,140 utils                   : label='B040_section_09': remove 30 datasets out of 278\n",
      "2023-12-20 16:26:53,141 utils                   : label='B040_section_07': remove 31 datasets out of 278\n",
      "2023-12-20 16:26:53,206 utils                   : label='B040_section_08': remove 33 datasets out of 278\n",
      "2023-12-20 16:26:53,323 utils                   : label='B040_section_00': remove 31 datasets out of 278\n"
     ]
    }
   ],
   "source": [
    "\n",
    "avg_ramp_down, _, _, _ = process_group(group='B040',\n",
    "                                 num_sections=10, \n",
    "                                 prefix=fpath1,\n",
    "                                 zone_idx='auto',\n",
    "                                 num_cores=24)\n"
   ]
  },
  {
   "cell_type": "markdown",
   "id": "1da22e18-a750-4f1e-a0f2-8fe7df883e33",
   "metadata": {},
   "source": [
    "### Averaging of background "
   ]
  },
  {
   "cell_type": "code",
   "execution_count": 4,
   "id": "46520768",
   "metadata": {},
   "outputs": [
    {
     "name": "stderr",
     "output_type": "stream",
     "text": [
      "2023-12-20 16:26:54,262 utils                   : total number of files in D029  is 200\n",
      "2023-12-20 16:26:58,710 utils                   : label='D029_section_00': remove 26 datasets out of 200\n"
     ]
    }
   ],
   "source": [
    "\n",
    "avg_bg, _, _, _ = process_group(group='D029',\n",
    "                                 num_sections=1, \n",
    "                                 prefix='/home/8ididata/2021-2/babnigg202107_2/cluster_results_QZ',\n",
    "                                 zone_idx='auto',\n",
    "                                 num_cores=24)\n"
   ]
  },
  {
   "cell_type": "markdown",
   "id": "8406fd48-2f83-453e-a73a-255c0b1d97cb",
   "metadata": {},
   "source": [
    "### Data reduction\n",
    "\n",
    "Subtracting I(Q) with background, converting to absolute scattering cross-section, and dump to pickle file for plotting"
   ]
  },
  {
   "cell_type": "code",
   "execution_count": 7,
   "id": "c67464d6-5615-4417-a434-d6aa946164d7",
   "metadata": {},
   "outputs": [],
   "source": [
    "\n",
    "fname = 'E0110_S3_4_Ramp_340C10p_att00_Rq0_00001_0001-100000.hdf'\n",
    "\n",
    "with h5py.File(fpath2+'/'+fname, 'r') as f:\n",
    "    _ = f['measurement']['sample']['absolute_cross_section_scale'][()]\n",
    "    abs_coeff = _[0][0]\n",
    "\n",
    "for ii in range(len(avg_ramp_up)):\n",
    "    avg_ramp_up[ii][\"saxs_1d\"] = abs_coeff*(avg_ramp_up[ii][\"saxs_1d\"] - avg_bg[0][\"saxs_1d\"])\n",
    "\n",
    "for ii in range(len(avg_ramp_down)):\n",
    "    avg_ramp_down[ii][\"saxs_1d\"] = abs_coeff*(avg_ramp_down[ii][\"saxs_1d\"] - avg_bg[0][\"saxs_1d\"])\n",
    "\n",
    "\n",
    "with open('checkpoint.pickle', 'wb') as f:  # 'wb' for binary write mode\n",
    "    pickle.dump(avg_ramp_up, f)  # Dump the object to the file\n",
    "    pickle.dump(avg_ramp_down, f)\n",
    "    pickle.dump(t_el, f)\n",
    "    pickle.dump(ql_sta, f)\n",
    "    pickle.dump(ql_dyn, f)\n"
   ]
  },
  {
   "cell_type": "code",
   "execution_count": null,
   "id": "6bd3e55a-dbcc-4360-833e-8295339cb2e5",
   "metadata": {},
   "outputs": [],
   "source": []
  }
 ],
 "metadata": {
  "kernelspec": {
   "display_name": "Python 3 (ipykernel)",
   "language": "python",
   "name": "python3"
  },
  "language_info": {
   "codemirror_mode": {
    "name": "ipython",
    "version": 3
   },
   "file_extension": ".py",
   "mimetype": "text/x-python",
   "name": "python",
   "nbconvert_exporter": "python",
   "pygments_lexer": "ipython3",
   "version": "3.9.7"
  }
 },
 "nbformat": 4,
 "nbformat_minor": 5
}
