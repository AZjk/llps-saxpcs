{
 "cells": [
  {
   "cell_type": "markdown",
   "id": "5927c9c6-3bcf-475f-b36f-e91f0564cd2c",
   "metadata": {},
   "source": [
    "### Synopsis\n",
    "This code averages and reduces g2 for temperature ramping (up and down) of protein H02"
   ]
  },
  {
   "cell_type": "code",
   "execution_count": 2,
   "id": "5ff3ceb8",
   "metadata": {},
   "outputs": [
    {
     "ename": "ValueError",
     "evalue": "numpy.dtype size changed, may indicate binary incompatibility. Expected 96 from C header, got 88 from PyObject",
     "output_type": "error",
     "traceback": [
      "\u001b[0;31m---------------------------------------------------------------------------\u001b[0m",
      "\u001b[0;31mValueError\u001b[0m                                Traceback (most recent call last)",
      "Input \u001b[0;32mIn [2]\u001b[0m, in \u001b[0;36m<cell line: 8>\u001b[0;34m()\u001b[0m\n\u001b[1;32m      6\u001b[0m \u001b[38;5;28;01mimport\u001b[39;00m \u001b[38;5;21;01msys\u001b[39;00m\n\u001b[1;32m      7\u001b[0m sys\u001b[38;5;241m.\u001b[39mpath\u001b[38;5;241m.\u001b[39mappend(\u001b[38;5;124m'\u001b[39m\u001b[38;5;124m../common\u001b[39m\u001b[38;5;124m'\u001b[39m)\n\u001b[0;32m----> 8\u001b[0m \u001b[38;5;28;01mfrom\u001b[39;00m \u001b[38;5;21;01mutils\u001b[39;00m \u001b[38;5;28;01mimport\u001b[39;00m process_group\n\u001b[1;32m     10\u001b[0m mount_point \u001b[38;5;241m=\u001b[39m \u001b[38;5;124m'\u001b[39m\u001b[38;5;124m/gdata/s8id-dmdtn/\u001b[39m\u001b[38;5;124m'\u001b[39m\n\u001b[1;32m     12\u001b[0m fpath1 \u001b[38;5;241m=\u001b[39m mount_point \u001b[38;5;241m+\u001b[39m \u001b[38;5;124m'\u001b[39m\u001b[38;5;124m2021-2/babnigg202107_2/cluster_results_QZ\u001b[39m\u001b[38;5;124m'\u001b[39m\n",
      "File \u001b[0;32m/home/beams10/8IDIUSER/Documents/llps-saxpcs/H02/../common/utils.py:4\u001b[0m, in \u001b[0;36m<module>\u001b[0;34m\u001b[0m\n\u001b[1;32m      2\u001b[0m \u001b[38;5;28;01mimport\u001b[39;00m \u001b[38;5;21;01msys\u001b[39;00m\n\u001b[1;32m      3\u001b[0m \u001b[38;5;28;01mimport\u001b[39;00m \u001b[38;5;21;01mos\u001b[39;00m\n\u001b[0;32m----> 4\u001b[0m \u001b[38;5;28;01mfrom\u001b[39;00m \u001b[38;5;21;01mxpcs_viewer\u001b[39;00m \u001b[38;5;28;01mimport\u001b[39;00m XpcsFile \u001b[38;5;28;01mas\u001b[39;00m XF\n\u001b[1;32m      5\u001b[0m \u001b[38;5;28;01mimport\u001b[39;00m \u001b[38;5;21;01mskimage\u001b[39;00m \u001b[38;5;28;01mas\u001b[39;00m \u001b[38;5;21;01mskio\u001b[39;00m\n\u001b[1;32m      6\u001b[0m \u001b[38;5;28;01mimport\u001b[39;00m \u001b[38;5;21;01mh5py\u001b[39;00m\n",
      "File \u001b[0;32m/home/beams4/MQICHU/Tools_cloud/pyXpcsViewer/xpcs_viewer/__init__.py:2\u001b[0m, in \u001b[0;36m<module>\u001b[0;34m\u001b[0m\n\u001b[1;32m      1\u001b[0m \u001b[38;5;66;03m# from xpcs_viwer.viewer_kernel import Viewer_Kernel\u001b[39;00m\n\u001b[0;32m----> 2\u001b[0m \u001b[38;5;28;01mfrom\u001b[39;00m \u001b[38;5;21;01m.\u001b[39;00m\u001b[38;5;21;01mviewer\u001b[39;00m \u001b[38;5;28;01mimport\u001b[39;00m run \n\u001b[1;32m      3\u001b[0m \u001b[38;5;28;01mfrom\u001b[39;00m \u001b[38;5;21;01m.\u001b[39;00m\u001b[38;5;21;01mviewer_kernel\u001b[39;00m \u001b[38;5;28;01mimport\u001b[39;00m ViewerKernel\n\u001b[1;32m      4\u001b[0m \u001b[38;5;28;01mfrom\u001b[39;00m \u001b[38;5;21;01m.\u001b[39;00m\u001b[38;5;21;01mxpcs_file\u001b[39;00m \u001b[38;5;28;01mimport\u001b[39;00m XpcsFile \u001b[38;5;28;01mas\u001b[39;00m xf\n",
      "File \u001b[0;32m/home/beams4/MQICHU/Tools_cloud/pyXpcsViewer/xpcs_viewer/viewer.py:3\u001b[0m, in \u001b[0;36m<module>\u001b[0;34m\u001b[0m\n\u001b[1;32m      1\u001b[0m \u001b[38;5;28;01mfrom\u001b[39;00m \u001b[38;5;21;01mPyQt5\u001b[39;00m \u001b[38;5;28;01mimport\u001b[39;00m QtCore, QtWidgets\n\u001b[1;32m      2\u001b[0m \u001b[38;5;28;01mfrom\u001b[39;00m \u001b[38;5;21;01m.\u001b[39;00m\u001b[38;5;21;01mviewer_ui\u001b[39;00m \u001b[38;5;28;01mimport\u001b[39;00m Ui_mainWindow \u001b[38;5;28;01mas\u001b[39;00m Ui\n\u001b[0;32m----> 3\u001b[0m \u001b[38;5;28;01mfrom\u001b[39;00m \u001b[38;5;21;01m.\u001b[39;00m\u001b[38;5;21;01mviewer_kernel\u001b[39;00m \u001b[38;5;28;01mimport\u001b[39;00m ViewerKernel\n\u001b[1;32m      5\u001b[0m \u001b[38;5;28;01mimport\u001b[39;00m \u001b[38;5;21;01mos\u001b[39;00m\n\u001b[1;32m      6\u001b[0m \u001b[38;5;28;01mimport\u001b[39;00m \u001b[38;5;21;01mnumpy\u001b[39;00m \u001b[38;5;28;01mas\u001b[39;00m \u001b[38;5;21;01mnp\u001b[39;00m\n",
      "File \u001b[0;32m/home/beams4/MQICHU/Tools_cloud/pyXpcsViewer/xpcs_viewer/viewer_kernel.py:2\u001b[0m, in \u001b[0;36m<module>\u001b[0;34m\u001b[0m\n\u001b[1;32m      1\u001b[0m \u001b[38;5;28;01mimport\u001b[39;00m \u001b[38;5;21;01mnumpy\u001b[39;00m \u001b[38;5;28;01mas\u001b[39;00m \u001b[38;5;21;01mnp\u001b[39;00m\n\u001b[0;32m----> 2\u001b[0m \u001b[38;5;28;01mfrom\u001b[39;00m \u001b[38;5;21;01m.\u001b[39;00m\u001b[38;5;21;01mfile_locator\u001b[39;00m \u001b[38;5;28;01mimport\u001b[39;00m FileLocator\n\u001b[1;32m      3\u001b[0m \u001b[38;5;28;01mfrom\u001b[39;00m \u001b[38;5;21;01m.\u001b[39;00m\u001b[38;5;21;01mmodule\u001b[39;00m \u001b[38;5;28;01mimport\u001b[39;00m saxs2d, saxs1d, intt, stability, g2mod, tauq, twotime\n\u001b[1;32m      4\u001b[0m \u001b[38;5;28;01mfrom\u001b[39;00m \u001b[38;5;21;01m.\u001b[39;00m\u001b[38;5;21;01mmodule\u001b[39;00m\u001b[38;5;21;01m.\u001b[39;00m\u001b[38;5;21;01maverage_toolbox\u001b[39;00m \u001b[38;5;28;01mimport\u001b[39;00m AverageToolbox\n",
      "File \u001b[0;32m/home/beams4/MQICHU/Tools_cloud/pyXpcsViewer/xpcs_viewer/file_locator.py:5\u001b[0m, in \u001b[0;36m<module>\u001b[0;34m\u001b[0m\n\u001b[1;32m      3\u001b[0m \u001b[38;5;28;01mfrom\u001b[39;00m \u001b[38;5;21;01mos\u001b[39;00m\u001b[38;5;21;01m.\u001b[39;00m\u001b[38;5;21;01mpath\u001b[39;00m \u001b[38;5;28;01mimport\u001b[39;00m commonprefix\n\u001b[1;32m      4\u001b[0m \u001b[38;5;28;01mfrom\u001b[39;00m \u001b[38;5;21;01m.\u001b[39;00m\u001b[38;5;21;01mfileIO\u001b[39;00m\u001b[38;5;21;01m.\u001b[39;00m\u001b[38;5;21;01mhdf_reader\u001b[39;00m \u001b[38;5;28;01mimport\u001b[39;00m get_type\n\u001b[0;32m----> 5\u001b[0m \u001b[38;5;28;01mfrom\u001b[39;00m \u001b[38;5;21;01m.\u001b[39;00m\u001b[38;5;21;01mxpcs_file\u001b[39;00m \u001b[38;5;28;01mimport\u001b[39;00m XpcsFile \u001b[38;5;28;01mas\u001b[39;00m xf\n\u001b[1;32m      6\u001b[0m \u001b[38;5;28;01mimport\u001b[39;00m \u001b[38;5;21;01mlogging\u001b[39;00m\n\u001b[1;32m      7\u001b[0m \u001b[38;5;28;01mfrom\u001b[39;00m \u001b[38;5;21;01m.\u001b[39;00m\u001b[38;5;21;01mhelper\u001b[39;00m\u001b[38;5;21;01m.\u001b[39;00m\u001b[38;5;21;01mlistmodel\u001b[39;00m \u001b[38;5;28;01mimport\u001b[39;00m ListDataModel\n",
      "File \u001b[0;32m/home/beams4/MQICHU/Tools_cloud/pyXpcsViewer/xpcs_viewer/xpcs_file.py:8\u001b[0m, in \u001b[0;36m<module>\u001b[0;34m\u001b[0m\n\u001b[1;32m      6\u001b[0m \u001b[38;5;28;01mfrom\u001b[39;00m \u001b[38;5;21;01m.\u001b[39;00m\u001b[38;5;21;01mmodule\u001b[39;00m \u001b[38;5;28;01mimport\u001b[39;00m saxs2d, saxs1d, intt, stability, g2mod\n\u001b[1;32m      7\u001b[0m \u001b[38;5;28;01mfrom\u001b[39;00m \u001b[38;5;21;01m.\u001b[39;00m\u001b[38;5;21;01mmodule\u001b[39;00m\u001b[38;5;21;01m.\u001b[39;00m\u001b[38;5;21;01mg2mod\u001b[39;00m \u001b[38;5;28;01mimport\u001b[39;00m create_slice\n\u001b[0;32m----> 8\u001b[0m \u001b[38;5;28;01mfrom\u001b[39;00m \u001b[38;5;21;01m.\u001b[39;00m\u001b[38;5;21;01mhelper\u001b[39;00m\u001b[38;5;21;01m.\u001b[39;00m\u001b[38;5;21;01mfitting\u001b[39;00m \u001b[38;5;28;01mimport\u001b[39;00m fit_with_fixed\n\u001b[1;32m      9\u001b[0m \u001b[38;5;28;01mimport\u001b[39;00m \u001b[38;5;21;01mpyqtgraph\u001b[39;00m \u001b[38;5;28;01mas\u001b[39;00m \u001b[38;5;21;01mpg\u001b[39;00m\n\u001b[1;32m     10\u001b[0m \u001b[38;5;28;01mfrom\u001b[39;00m \u001b[38;5;21;01m.\u001b[39;00m\u001b[38;5;21;01mfileIO\u001b[39;00m\u001b[38;5;21;01m.\u001b[39;00m\u001b[38;5;21;01mhdf_to_str\u001b[39;00m \u001b[38;5;28;01mimport\u001b[39;00m get_hdf_info\n",
      "File \u001b[0;32m/home/beams4/MQICHU/Tools_cloud/pyXpcsViewer/xpcs_viewer/helper/fitting.py:4\u001b[0m, in \u001b[0;36m<module>\u001b[0;34m\u001b[0m\n\u001b[1;32m      2\u001b[0m \u001b[38;5;28;01mfrom\u001b[39;00m \u001b[38;5;21;01mscipy\u001b[39;00m\u001b[38;5;21;01m.\u001b[39;00m\u001b[38;5;21;01moptimize\u001b[39;00m \u001b[38;5;28;01mimport\u001b[39;00m curve_fit\n\u001b[1;32m      3\u001b[0m \u001b[38;5;28;01mimport\u001b[39;00m \u001b[38;5;21;01mtraceback\u001b[39;00m\n\u001b[0;32m----> 4\u001b[0m \u001b[38;5;28;01mfrom\u001b[39;00m \u001b[38;5;21;01msklearn\u001b[39;00m \u001b[38;5;28;01mimport\u001b[39;00m linear_model\n\u001b[1;32m      5\u001b[0m \u001b[38;5;28;01mimport\u001b[39;00m \u001b[38;5;21;01mos\u001b[39;00m\n\u001b[1;32m      6\u001b[0m \u001b[38;5;28;01mimport\u001b[39;00m \u001b[38;5;21;01mtraceback\u001b[39;00m\n",
      "File \u001b[0;32m~/miniconda3/envs/qzfigures_env/lib/python3.9/site-packages/sklearn/__init__.py:82\u001b[0m, in \u001b[0;36m<module>\u001b[0;34m\u001b[0m\n\u001b[1;32m     80\u001b[0m \u001b[38;5;28;01mfrom\u001b[39;00m \u001b[38;5;21;01m.\u001b[39;00m \u001b[38;5;28;01mimport\u001b[39;00m _distributor_init  \u001b[38;5;66;03m# noqa: F401\u001b[39;00m\n\u001b[1;32m     81\u001b[0m \u001b[38;5;28;01mfrom\u001b[39;00m \u001b[38;5;21;01m.\u001b[39;00m \u001b[38;5;28;01mimport\u001b[39;00m __check_build  \u001b[38;5;66;03m# noqa: F401\u001b[39;00m\n\u001b[0;32m---> 82\u001b[0m \u001b[38;5;28;01mfrom\u001b[39;00m \u001b[38;5;21;01m.\u001b[39;00m\u001b[38;5;21;01mbase\u001b[39;00m \u001b[38;5;28;01mimport\u001b[39;00m clone\n\u001b[1;32m     83\u001b[0m \u001b[38;5;28;01mfrom\u001b[39;00m \u001b[38;5;21;01m.\u001b[39;00m\u001b[38;5;21;01mutils\u001b[39;00m\u001b[38;5;21;01m.\u001b[39;00m\u001b[38;5;21;01m_show_versions\u001b[39;00m \u001b[38;5;28;01mimport\u001b[39;00m show_versions\n\u001b[1;32m     85\u001b[0m __all__ \u001b[38;5;241m=\u001b[39m [\n\u001b[1;32m     86\u001b[0m     \u001b[38;5;124m\"\u001b[39m\u001b[38;5;124mcalibration\u001b[39m\u001b[38;5;124m\"\u001b[39m,\n\u001b[1;32m     87\u001b[0m     \u001b[38;5;124m\"\u001b[39m\u001b[38;5;124mcluster\u001b[39m\u001b[38;5;124m\"\u001b[39m,\n\u001b[0;32m   (...)\u001b[0m\n\u001b[1;32m    128\u001b[0m     \u001b[38;5;124m\"\u001b[39m\u001b[38;5;124mshow_versions\u001b[39m\u001b[38;5;124m\"\u001b[39m,\n\u001b[1;32m    129\u001b[0m ]\n",
      "File \u001b[0;32m~/miniconda3/envs/qzfigures_env/lib/python3.9/site-packages/sklearn/base.py:17\u001b[0m, in \u001b[0;36m<module>\u001b[0;34m\u001b[0m\n\u001b[1;32m     15\u001b[0m \u001b[38;5;28;01mfrom\u001b[39;00m \u001b[38;5;21;01m.\u001b[39;00m \u001b[38;5;28;01mimport\u001b[39;00m __version__\n\u001b[1;32m     16\u001b[0m \u001b[38;5;28;01mfrom\u001b[39;00m \u001b[38;5;21;01m.\u001b[39;00m\u001b[38;5;21;01m_config\u001b[39;00m \u001b[38;5;28;01mimport\u001b[39;00m get_config\n\u001b[0;32m---> 17\u001b[0m \u001b[38;5;28;01mfrom\u001b[39;00m \u001b[38;5;21;01m.\u001b[39;00m\u001b[38;5;21;01mutils\u001b[39;00m \u001b[38;5;28;01mimport\u001b[39;00m _IS_32BIT\n\u001b[1;32m     18\u001b[0m \u001b[38;5;28;01mfrom\u001b[39;00m \u001b[38;5;21;01m.\u001b[39;00m\u001b[38;5;21;01mutils\u001b[39;00m\u001b[38;5;21;01m.\u001b[39;00m\u001b[38;5;21;01m_tags\u001b[39;00m \u001b[38;5;28;01mimport\u001b[39;00m (\n\u001b[1;32m     19\u001b[0m     _DEFAULT_TAGS,\n\u001b[1;32m     20\u001b[0m     _safe_tags,\n\u001b[1;32m     21\u001b[0m )\n\u001b[1;32m     22\u001b[0m \u001b[38;5;28;01mfrom\u001b[39;00m \u001b[38;5;21;01m.\u001b[39;00m\u001b[38;5;21;01mutils\u001b[39;00m\u001b[38;5;21;01m.\u001b[39;00m\u001b[38;5;21;01mvalidation\u001b[39;00m \u001b[38;5;28;01mimport\u001b[39;00m check_X_y\n",
      "File \u001b[0;32m~/miniconda3/envs/qzfigures_env/lib/python3.9/site-packages/sklearn/utils/__init__.py:23\u001b[0m, in \u001b[0;36m<module>\u001b[0;34m\u001b[0m\n\u001b[1;32m     20\u001b[0m \u001b[38;5;28;01mimport\u001b[39;00m \u001b[38;5;21;01mnumpy\u001b[39;00m \u001b[38;5;28;01mas\u001b[39;00m \u001b[38;5;21;01mnp\u001b[39;00m\n\u001b[1;32m     21\u001b[0m \u001b[38;5;28;01mfrom\u001b[39;00m \u001b[38;5;21;01mscipy\u001b[39;00m\u001b[38;5;21;01m.\u001b[39;00m\u001b[38;5;21;01msparse\u001b[39;00m \u001b[38;5;28;01mimport\u001b[39;00m issparse\n\u001b[0;32m---> 23\u001b[0m \u001b[38;5;28;01mfrom\u001b[39;00m \u001b[38;5;21;01m.\u001b[39;00m\u001b[38;5;21;01mmurmurhash\u001b[39;00m \u001b[38;5;28;01mimport\u001b[39;00m murmurhash3_32\n\u001b[1;32m     24\u001b[0m \u001b[38;5;28;01mfrom\u001b[39;00m \u001b[38;5;21;01m.\u001b[39;00m\u001b[38;5;21;01mclass_weight\u001b[39;00m \u001b[38;5;28;01mimport\u001b[39;00m compute_class_weight, compute_sample_weight\n\u001b[1;32m     25\u001b[0m \u001b[38;5;28;01mfrom\u001b[39;00m \u001b[38;5;21;01m.\u001b[39;00m \u001b[38;5;28;01mimport\u001b[39;00m _joblib\n",
      "File \u001b[0;32msklearn/utils/murmurhash.pyx:1\u001b[0m, in \u001b[0;36minit sklearn.utils.murmurhash\u001b[0;34m()\u001b[0m\n",
      "\u001b[0;31mValueError\u001b[0m: numpy.dtype size changed, may indicate binary incompatibility. Expected 96 from C header, got 88 from PyObject"
     ]
    }
   ],
   "source": [
    "\n",
    "import numpy as np\n",
    "import matplotlib.pyplot as plt\n",
    "import h5py\n",
    "import pickle\n",
    "\n",
    "import sys\n",
    "sys.path.append('../common')\n",
    "from utils import process_group\n",
    "\n",
    "mount_point = '/gdata/s8id-dmdtn/'\n",
    "\n",
    "fpath1 = mount_point + '2021-2/babnigg202107_2/cluster_results_QZ'\n",
    "fpath2 = mount_point + '2022-1/babnigg202203/cluster_results_QZ'\n",
    "# fpath3 = mount_point + '2021-2/babnigg202107_2/cluster_results_part1'\n",
    "# fpath4 = mount_point + '2021-2/babnigg202107_2/cluster_results_part2'\n",
    "\n",
    "coef_sam = 6.93e4  # Absolute scattering cross-section coefficient for the samples\n",
    "coef_buf = 7.62e4  # Absolute scattering cross-section coefficient for the buffer\n"
   ]
  },
  {
   "cell_type": "code",
   "execution_count": null,
   "id": "02fe1619-19ea-4b0a-9a38-cef21b2e2e9a",
   "metadata": {},
   "outputs": [],
   "source": [
    "\n",
    "\n",
    "avg_ramp_up, t_el, ql_dyn, ql_sta = process_group(group='B039',\n",
    "                                              num_sections=10,\n",
    "                                              prefix=fpath1, \n",
    "                                              zone_idx='auto',\n",
    "                                              num_cores=24)"
   ]
  },
  {
   "cell_type": "markdown",
   "id": "c989fd57-64a2-4c0a-8ca0-9ee098b5a45d",
   "metadata": {},
   "source": [
    "### Averaging of SA-XPCS results, temperature ramp up"
   ]
  },
  {
   "cell_type": "code",
   "execution_count": 2,
   "id": "ca75cca3",
   "metadata": {
    "scrolled": true
   },
   "outputs": [
    {
     "name": "stderr",
     "output_type": "stream",
     "text": [
      "2024-10-14 15:34:57,368 utils                   : total number of files in B039  is 2780\n",
      "2024-10-14 15:34:57,369 utils                   : skip_first_files=0, skip_last_files=0\n"
     ]
    },
    {
     "name": "stdout",
     "output_type": "stream",
     "text": [
      "index\t T-min(C)\t T-max(C)\t T-mean(C)\t points\n",
      "n=00\t    20.03\t    22.52\t  21.2783\t 278\n",
      "n=01\t    22.54\t    25.04\t  23.7871\t 278\n",
      "n=02\t    25.05\t    27.55\t  26.2965\t 278\n",
      "n=03\t    27.55\t    30.06\t  28.8104\t 278\n",
      "n=04\t    30.07\t    32.58\t  31.3258\t 278\n",
      "n=05\t    32.59\t     35.1\t  33.8523\t 278\n",
      "n=06\t    35.12\t    37.64\t  36.3797\t 278\n",
      "n=07\t    37.65\t    40.19\t  38.9117\t 278\n",
      "n=08\t     40.2\t    42.71\t  41.4595\t 278\n",
      "n=09\t    42.73\t    45.23\t  43.9819\t 278\n"
     ]
    },
    {
     "name": "stderr",
     "output_type": "stream",
     "text": [
      "2024-10-14 15:36:21,237 utils                   : label='B039_section_01': remove 31 datasets out of 278\n",
      "2024-10-14 15:36:21,243 utils                   : label='B039_section_03': remove 32 datasets out of 278\n",
      "2024-10-14 15:36:21,253 utils                   : label='B039_section_04': remove 32 datasets out of 278\n",
      "2024-10-14 15:36:21,267 utils                   : label='B039_section_02': remove 28 datasets out of 278\n",
      "2024-10-14 15:36:21,271 utils                   : label='B039_section_06': remove 29 datasets out of 278\n",
      "2024-10-14 15:36:21,288 utils                   : label='B039_section_08': remove 30 datasets out of 278\n",
      "2024-10-14 15:36:21,375 utils                   : label='B039_section_05': remove 33 datasets out of 278\n",
      "2024-10-14 15:36:21,405 utils                   : label='B039_section_09': remove 32 datasets out of 278\n",
      "2024-10-14 15:36:21,434 utils                   : label='B039_section_00': remove 28 datasets out of 278\n",
      "2024-10-14 15:36:21,476 utils                   : label='B039_section_07': remove 32 datasets out of 278\n"
     ]
    }
   ],
   "source": [
    "\n",
    "\n",
    "avg_ramp_up, t_el, ql_dyn, ql_sta = process_group(group='B039',\n",
    "                                              num_sections=10,\n",
    "                                              prefix=fpath1, \n",
    "                                              zone_idx='auto',\n",
    "                                              num_cores=24)\n"
   ]
  },
  {
   "cell_type": "code",
   "execution_count": null,
   "id": "3588a29d-9fec-471c-a605-6f45d8933500",
   "metadata": {},
   "outputs": [],
   "source": []
  },
  {
   "cell_type": "markdown",
   "id": "dc31acd9-80dc-4c6b-8bcd-e39f12cdd0e2",
   "metadata": {},
   "source": [
    "### Averaging of SA-XPCS results, temperature ramp down"
   ]
  },
  {
   "cell_type": "code",
   "execution_count": 3,
   "id": "e84e82ad",
   "metadata": {},
   "outputs": [
    {
     "name": "stderr",
     "output_type": "stream",
     "text": [
      "2024-10-14 15:36:21,532 utils                   : total number of files in B040  is 2780\n",
      "2024-10-14 15:36:21,532 utils                   : skip_first_files=0, skip_last_files=0\n"
     ]
    },
    {
     "name": "stdout",
     "output_type": "stream",
     "text": [
      "index\t T-min(C)\t T-max(C)\t T-mean(C)\t points\n",
      "n=00\t    42.72\t    45.23\t  43.9767\t 278\n",
      "n=01\t    40.18\t    42.71\t  41.4464\t 278\n",
      "n=02\t    37.65\t    40.17\t  38.9206\t 278\n",
      "n=03\t    35.11\t    37.65\t  36.3813\t 278\n",
      "n=04\t    32.56\t     35.1\t  33.8364\t 278\n",
      "n=05\t    30.06\t    32.55\t  31.3012\t 278\n",
      "n=06\t    27.55\t    30.05\t  28.7991\t 278\n",
      "n=07\t    25.05\t    27.54\t  26.2949\t 278\n",
      "n=08\t    22.55\t    25.04\t  23.7972\t 278\n",
      "n=09\t    20.05\t    22.54\t  21.2994\t 278\n"
     ]
    },
    {
     "name": "stderr",
     "output_type": "stream",
     "text": [
      "2024-10-14 15:37:48,782 utils                   : label='B040_section_00': remove 31 datasets out of 278\n",
      "2024-10-14 15:37:48,816 utils                   : label='B040_section_02': remove 31 datasets out of 278\n",
      "2024-10-14 15:37:48,821 utils                   : label='B040_section_04': remove 32 datasets out of 278\n",
      "2024-10-14 15:37:48,831 utils                   : label='B040_section_05': remove 31 datasets out of 278\n",
      "2024-10-14 15:37:48,847 utils                   : label='B040_section_07': remove 31 datasets out of 278\n",
      "2024-10-14 15:37:48,882 utils                   : label='B040_section_01': remove 34 datasets out of 278\n",
      "2024-10-14 15:37:48,894 utils                   : label='B040_section_06': remove 31 datasets out of 278\n",
      "2024-10-14 15:37:48,939 utils                   : label='B040_section_08': remove 33 datasets out of 278\n",
      "2024-10-14 15:37:49,000 utils                   : label='B040_section_03': remove 31 datasets out of 278\n",
      "2024-10-14 15:37:49,049 utils                   : label='B040_section_09': remove 30 datasets out of 278\n"
     ]
    }
   ],
   "source": [
    "\n",
    "avg_ramp_down, _, _, _ = process_group(group='B040',\n",
    "                                 num_sections=10, \n",
    "                                 prefix=fpath1,\n",
    "                                 zone_idx='auto',\n",
    "                                 num_cores=24)\n"
   ]
  },
  {
   "cell_type": "markdown",
   "id": "1da22e18-a750-4f1e-a0f2-8fe7df883e33",
   "metadata": {},
   "source": [
    "### Averaging of background "
   ]
  },
  {
   "cell_type": "code",
   "execution_count": 4,
   "id": "46520768",
   "metadata": {},
   "outputs": [
    {
     "name": "stderr",
     "output_type": "stream",
     "text": [
      "2024-10-14 15:37:49,121 utils                   : total number of files in D029  is 200\n",
      "2024-10-14 15:37:49,122 utils                   : skip_first_files=0, skip_last_files=0\n"
     ]
    },
    {
     "name": "stdout",
     "output_type": "stream",
     "text": [
      "index\t T-min(C)\t T-max(C)\t T-mean(C)\t points\n",
      "n=00\t    24.98\t    25.02\t  25.0006\t 200\n"
     ]
    },
    {
     "name": "stderr",
     "output_type": "stream",
     "text": [
      "2024-10-14 15:37:57,771 utils                   : label='D029_section_00': remove 26 datasets out of 200\n"
     ]
    }
   ],
   "source": [
    "\n",
    "avg_bg, _, _, _ = process_group(group='D029',\n",
    "                                 num_sections=1, \n",
    "                                 prefix=mount_point+'2021-2/babnigg202107_2/cluster_results_QZ',\n",
    "                                 zone_idx='auto',\n",
    "                                 num_cores=24)\n"
   ]
  },
  {
   "cell_type": "markdown",
   "id": "8406fd48-2f83-453e-a73a-255c0b1d97cb",
   "metadata": {},
   "source": [
    "### Data reduction\n",
    "\n",
    "Subtracting I(Q) with background, converting to absolute scattering cross-section, and dump to pickle file for plotting"
   ]
  },
  {
   "cell_type": "code",
   "execution_count": 5,
   "id": "c67464d6-5615-4417-a434-d6aa946164d7",
   "metadata": {},
   "outputs": [],
   "source": [
    "\n",
    "for ii in range(len(avg_ramp_up)):\n",
    "    avg_ramp_up[ii][\"saxs_1d\"] = coef_sam*avg_ramp_up[ii][\"saxs_1d\"] - coef_buf*avg_bg[0][\"saxs_1d\"]\n",
    "\n",
    "for ii in range(len(avg_ramp_down)):\n",
    "    avg_ramp_down[ii][\"saxs_1d\"] = coef_sam*avg_ramp_down[ii][\"saxs_1d\"] - coef_buf*avg_bg[0][\"saxs_1d\"]\n",
    "\n",
    "with open('checkpoint.pickle', 'wb') as f:  # 'wb' for binary write mode\n",
    "    pickle.dump(avg_ramp_up, f)  # Dump the object to the file\n",
    "    pickle.dump(avg_ramp_down, f)\n",
    "    pickle.dump(t_el, f)\n",
    "    pickle.dump(ql_sta, f)\n",
    "    pickle.dump(ql_dyn, f)\n"
   ]
  },
  {
   "cell_type": "code",
   "execution_count": null,
   "id": "6bd3e55a-dbcc-4360-833e-8295339cb2e5",
   "metadata": {},
   "outputs": [],
   "source": []
  }
 ],
 "metadata": {
  "kernelspec": {
   "display_name": "Python 3 (ipykernel)",
   "language": "python",
   "name": "python3"
  },
  "language_info": {
   "codemirror_mode": {
    "name": "ipython",
    "version": 3
   },
   "file_extension": ".py",
   "mimetype": "text/x-python",
   "name": "python",
   "nbconvert_exporter": "python",
   "pygments_lexer": "ipython3",
   "version": "3.9.7"
  }
 },
 "nbformat": 4,
 "nbformat_minor": 5
}
