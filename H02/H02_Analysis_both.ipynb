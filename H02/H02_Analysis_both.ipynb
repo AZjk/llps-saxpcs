{
 "cells": [
  {
   "cell_type": "markdown",
   "id": "5927c9c6-3bcf-475f-b36f-e91f0564cd2c",
   "metadata": {},
   "source": [
    "### Synopsis\n",
    "This code averages and reduces g2 for temperature ramping (up and down) of protein H02"
   ]
  },
  {
   "cell_type": "code",
   "execution_count": 1,
   "id": "5ff3ceb8",
   "metadata": {},
   "outputs": [],
   "source": [
    "\n",
    "import numpy as np\n",
    "import matplotlib.pyplot as plt\n",
    "import h5py\n",
    "import pickle\n",
    "\n",
    "import sys\n",
    "\n",
    "sys.path.append('../common')\n",
    "from utils import process_group\n",
    "\n",
    "# mount_point = '/gdata/s8id-dmdtn/'\n",
    "# mount_point = \"/home/beams/8IDIUSER/Documents/llps-saxpcs/reanalysis_2025_0311/results/\"\n",
    "mount_point = \"/home/beams/8IDIUSER/Documents/llps-saxpcs/reanalysis_2025_0428/results/2025_04_analysis/\"\n",
    "\n",
    "fpath1 = mount_point + '2021-2/cluster_results_all'\n",
    "\n",
    "coef_sam = 6.93e4  # Absolute scattering cross-section coefficient for the samples\n",
    "coef_buf = 7.62e4  # Absolute scattering cross-section coefficient for the buffer\n"
   ]
  },
  {
   "cell_type": "markdown",
   "id": "c989fd57-64a2-4c0a-8ca0-9ee098b5a45d",
   "metadata": {},
   "source": [
    "### Averaging of SA-XPCS results, temperature ramp up"
   ]
  },
  {
   "cell_type": "code",
   "execution_count": 2,
   "id": "ca75cca3",
   "metadata": {
    "scrolled": true
   },
   "outputs": [
    {
     "name": "stdout",
     "output_type": "stream",
     "text": [
      "index\t T-min(C)\t T-max(C)\t T-mean(C)\t points\n",
      "n=00\t    20.03\t    22.52\t  21.2783\t 278\n",
      "n=01\t    22.54\t    25.04\t  23.7871\t 278\n",
      "n=02\t    25.05\t    27.55\t  26.2965\t 278\n",
      "n=03\t    27.55\t    30.06\t  28.8104\t 278\n",
      "n=04\t    30.07\t    32.58\t  31.3258\t 278\n",
      "n=05\t    32.59\t     35.1\t  33.8523\t 278\n",
      "n=06\t    35.12\t    37.64\t  36.3797\t 278\n",
      "n=07\t    37.65\t    40.19\t  38.9117\t 278\n",
      "n=08\t     40.2\t    42.71\t  41.4595\t 278\n",
      "n=09\t    42.73\t    45.23\t  43.9819\t 278\n"
     ]
    }
   ],
   "source": [
    "avg_ramp_up, t_el, ql_dyn, ql_sta = process_group(group='B039',\n",
    "                                              num_sections=10,\n",
    "                                              prefix=fpath1, \n",
    "                                              zone_idx='auto',\n",
    "                                              num_cores=24)\n"
   ]
  },
  {
   "cell_type": "markdown",
   "id": "dc31acd9-80dc-4c6b-8bcd-e39f12cdd0e2",
   "metadata": {},
   "source": [
    "### Averaging of SA-XPCS results, temperature ramp down"
   ]
  },
  {
   "cell_type": "code",
   "execution_count": 3,
   "id": "e84e82ad",
   "metadata": {},
   "outputs": [
    {
     "name": "stdout",
     "output_type": "stream",
     "text": [
      "index\t T-min(C)\t T-max(C)\t T-mean(C)\t points\n",
      "n=00\t    42.72\t    45.23\t  43.9767\t 278\n",
      "n=01\t    40.18\t    42.71\t  41.4464\t 278\n",
      "n=02\t    37.65\t    40.17\t  38.9206\t 278\n",
      "n=03\t    35.11\t    37.65\t  36.3813\t 278\n",
      "n=04\t    32.56\t     35.1\t  33.8364\t 278\n",
      "n=05\t    30.06\t    32.55\t  31.3012\t 278\n",
      "n=06\t    27.55\t    30.05\t  28.7991\t 278\n",
      "n=07\t    25.05\t    27.54\t  26.2949\t 278\n",
      "n=08\t    22.55\t    25.04\t  23.7972\t 278\n",
      "n=09\t    20.05\t    22.54\t  21.2994\t 278\n"
     ]
    }
   ],
   "source": [
    "\n",
    "avg_ramp_down, _, _, _ = process_group(group='B040',\n",
    "                                 num_sections=10, \n",
    "                                 prefix=fpath1,\n",
    "                                 zone_idx='auto',\n",
    "                                 num_cores=24)\n"
   ]
  },
  {
   "cell_type": "markdown",
   "id": "a93f0915-52b1-4888-bedf-efcf32dbc87e",
   "metadata": {},
   "source": [
    "### Averaging of background "
   ]
  },
  {
   "cell_type": "code",
   "execution_count": 4,
   "id": "29909de1-84ef-4e89-964f-c9abc85dd487",
   "metadata": {},
   "outputs": [
    {
     "name": "stdout",
     "output_type": "stream",
     "text": [
      "index\t T-min(C)\t T-max(C)\t T-mean(C)\t points\n",
      "n=00\t    24.98\t    25.02\t  25.0006\t 200\n"
     ]
    }
   ],
   "source": [
    "\n",
    "avg_bg, _, _, _ = process_group(group='D029',\n",
    "                                 num_sections=1, \n",
    "                                 prefix=fpath1,\n",
    "                                 zone_idx='auto',\n",
    "                                 num_cores=24)"
   ]
  },
  {
   "cell_type": "markdown",
   "id": "8406fd48-2f83-453e-a73a-255c0b1d97cb",
   "metadata": {},
   "source": [
    "### Data reduction, full result\n",
    "\n",
    "Subtracting I(Q) with background, converting to absolute scattering cross-section, and dump to pickle file for plotting"
   ]
  },
  {
   "cell_type": "code",
   "execution_count": 5,
   "id": "c67464d6-5615-4417-a434-d6aa946164d7",
   "metadata": {},
   "outputs": [],
   "source": [
    "\n",
    "for ii in range(len(avg_ramp_up)):\n",
    "    avg_ramp_up[ii][\"saxs_1d\"] = coef_sam*avg_ramp_up[ii][\"saxs_1d\"] - coef_buf*avg_bg[0][\"saxs_1d\"]\n",
    "\n",
    "for ii in range(len(avg_ramp_down)):\n",
    "    avg_ramp_down[ii][\"saxs_1d\"] = coef_sam*avg_ramp_down[ii][\"saxs_1d\"] - coef_buf*avg_bg[0][\"saxs_1d\"]\n",
    "\n",
    "with open('checkpoint_both.pickle', 'wb') as f:  # 'wb' for binary write mode\n",
    "    pickle.dump(avg_ramp_up, f)  # Dump the object to the file\n",
    "    pickle.dump(avg_ramp_down, f)\n",
    "    pickle.dump(t_el, f)\n",
    "    pickle.dump(ql_sta, f)\n",
    "    pickle.dump(ql_dyn, f)\n"
   ]
  },
  {
   "cell_type": "code",
   "execution_count": null,
   "id": "df72971d-f864-4972-bc80-d0ea25127c6d",
   "metadata": {},
   "outputs": [],
   "source": []
  }
 ],
 "metadata": {
  "kernelspec": {
   "display_name": "Python 3 (ipykernel)",
   "language": "python",
   "name": "python3"
  },
  "language_info": {
   "codemirror_mode": {
    "name": "ipython",
    "version": 3
   },
   "file_extension": ".py",
   "mimetype": "text/x-python",
   "name": "python",
   "nbconvert_exporter": "python",
   "pygments_lexer": "ipython3",
   "version": "3.12.8"
  }
 },
 "nbformat": 4,
 "nbformat_minor": 5
}
