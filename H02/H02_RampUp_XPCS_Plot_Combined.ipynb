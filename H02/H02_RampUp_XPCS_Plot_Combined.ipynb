{
 "cells": [
  {
   "cell_type": "code",
   "execution_count": 1,
   "id": "5d3a8eea-dc23-4ea0-9999-9b5ba42fcc13",
   "metadata": {},
   "outputs": [],
   "source": [
    "import numpy as np\n",
    "import matplotlib\n",
    "import matplotlib.pyplot as plt\n",
    "import pickle\n",
    "import matplotlib.ticker as ticker\n",
    "\n"
   ]
  },
  {
   "cell_type": "code",
   "execution_count": 2,
   "id": "1e715c5e-d46d-4b3f-a4f8-a0d2932435fd",
   "metadata": {},
   "outputs": [],
   "source": [
    "# Define file names\n",
    "pickle_files = [\n",
    "    'checkpoint_both.pickle',\n",
    "    'checkpoint_part1.pickle',\n",
    "    'checkpoint_part2.pickle'\n",
    "]\n",
    "\n",
    "# Initialize empty lists to store data\n",
    "avg_ramp_up = []\n",
    "avg_ramp_down = []\n",
    "t_el = None\n",
    "ql_sta = None\n",
    "ql_dyn = None\n",
    "\n",
    "# Read and combine data from all pickle files\n",
    "for file in pickle_files:\n",
    "    with open(file, 'rb') as f:\n",
    "        avg_ramp_up.extend(pickle.load(f))  # Assuming this is a list\n",
    "        avg_ramp_down.extend(pickle.load(f))  # Assuming this is a list\n",
    "        if t_el is None:\n",
    "            t_el = pickle.load(f)\n",
    "        if ql_sta is None:\n",
    "            ql_sta = pickle.load(f)\n",
    "        if ql_dyn is None:\n",
    "            ql_dyn = pickle.load(f)\n",
    "\n",
    "# Plot configuration\n",
    "plt.rcParams['pdf.fonttype'] = 42\n",
    "plt.rcParams[\"font.family\"] = \"Times New Roman\"\n",
    "plt.rcParams['font.size'] = 8\n",
    "plt.rcParams['figure.dpi'] = 300\n"
   ]
  },
  {
   "cell_type": "code",
   "execution_count": 3,
   "id": "e2af275b-7fdb-4d94-a961-c2ac7f626723",
   "metadata": {},
   "outputs": [
    {
     "data": {
      "image/png": "[encoded data removed]",
      "text/plain": [
       "<Figure size 243.78x219.402 with 1 Axes>"
      ]
     },
     "metadata": {
      "needs_background": "light"
     },
     "output_type": "display_data"
    }
   ],
   "source": [
    "# Define figure width (86 mm) and convert to inches\n",
    "figure_width_mm = 86\n",
    "figure_width_inches = figure_width_mm / 25.4  # Convert mm to inches\n",
    "\n",
    "# Create figure with correct aspect ratio\n",
    "fig, ax = plt.subplots(1, 1, figsize=(figure_width_inches, figure_width_inches * 0.9))  # Adjust height\n",
    "\n",
    "g2_idx = 0\n",
    "total_size = sum(len(avg_dict['temperature_x']) for avg_dict in avg_ramp_up)\n",
    "\n",
    "accu_size = 0\n",
    "marker_types = ['o', 's', '^']  # Circle, Square, Triangle\n",
    "\n",
    "# Create a mapping for temperature-based colors\n",
    "unique_temps = sorted(set(temp for avg_dict in avg_ramp_up for temp in avg_dict['temperature_x']))\n",
    "temp_to_color = {temp: plt.get_cmap('jet')(i / len(unique_temps)) for i, temp in enumerate(unique_temps)}\n",
    "\n",
    "for i, avg_dict in enumerate(avg_ramp_up):\n",
    "    curr_size = len(avg_dict['temperature_x'])\n",
    "    idx = accu_size + np.arange(curr_size) * 1.0\n",
    "    idx /= total_size\n",
    "    accu_size += curr_size\n",
    "    \n",
    "    for j, temp in enumerate(avg_dict['temperature_x']):\n",
    "        color = temp_to_color[temp]\n",
    "        marker = marker_types[i % len(marker_types)]  # Cycle through marker types\n",
    "\n",
    "        g2_values = avg_dict['g2'][:, g2_idx]\n",
    "        g2_err_values = avg_dict['g2_err'][:, g2_idx]\n",
    "        min_length = min(len(t_el), len(g2_values))\n",
    "\n",
    "        # Filter out noisy data below 1.0\n",
    "        valid_idx = g2_values[:min_length] >= 0.99\n",
    "        ax.errorbar(t_el[:min_length][valid_idx], g2_values[:min_length][valid_idx], \n",
    "                    yerr=g2_err_values[:min_length][valid_idx], fmt=marker, color=color, \n",
    "                    lw=0.5, ms=4, mew=0.5, mfc='none')\n",
    "\n",
    "# Set x and y labels\n",
    "ax.set_xlabel(r'Delay Time $\\mathdefault{\\Delta t}$ (s)', fontsize=7)\n",
    "ax.set_ylabel(r'$\\mathdefault{g_1^2}$(Q = 0.03 nm$\\mathdefault{^{-1}}$, $\\mathdefault{\\Delta t}$ = 0.1 s)', fontsize=7)\n",
    "\n",
    "# Set log scale and axis limits\n",
    "ax.set_xscale('log')\n",
    "ax.set_xlim(1e-5, None)  # Start x-axis from 1e-5\n",
    "ax.set_ylim(0.99, 1.23)  # Set y-axis range from 0.99 to 1.23\n",
    "\n",
    "# Ensure tick labels are also in 7 pt\n",
    "ax.tick_params(axis='both', which='major', labelsize=7)\n",
    "\n",
    "# Save the figure\n",
    "plt.savefig('H02_RampUp_XPCS_combined.pdf', bbox_inches=\"tight\", dpi=600)\n",
    "plt.show()\n"
   ]
  },
  {
   "cell_type": "code",
   "execution_count": null,
   "id": "083212a5-2924-4f68-ab79-87df3d979bc9",
   "metadata": {},
   "outputs": [],
   "source": []
  }
 ],
 "metadata": {
  "kernelspec": {
   "display_name": "Python 3 (ipykernel)",
   "language": "python",
   "name": "python3"
  },
  "language_info": {
   "codemirror_mode": {
    "name": "ipython",
    "version": 3
   },
   "file_extension": ".py",
   "mimetype": "text/x-python",
   "name": "python",
   "nbconvert_exporter": "python",
   "pygments_lexer": "ipython3",
   "version": "3.9.7"
  }
 },
 "nbformat": 4,
 "nbformat_minor": 5
}
