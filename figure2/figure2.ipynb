{
 "cells": [
  {
   "cell_type": "code",
   "execution_count": 1,
   "id": "5ff3ceb8",
   "metadata": {},
   "outputs": [],
   "source": [
    "import numpy as np\n",
    "import matplotlib.pyplot as plt\n",
    "\n",
    "import sys\n",
    "sys.path.append('../common')\n",
    "from utils import process_group"
   ]
  },
  {
   "cell_type": "code",
   "execution_count": 2,
   "id": "ca75cca3",
   "metadata": {},
   "outputs": [
    {
     "name": "stderr",
     "output_type": "stream",
     "text": [
      "2023-12-09 17:03:39,630 utils                   : total number of files in B039  is 2780\n",
      "2023-12-09 17:05:08,618 utils                   : label='B039_section_00': remove 28 datasets out of 278\n",
      "2023-12-09 17:05:08,744 utils                   : label='B039_section_06': remove 29 datasets out of 278\n",
      "2023-12-09 17:05:08,780 utils                   : label='B039_section_03': remove 32 datasets out of 278\n",
      "2023-12-09 17:05:08,782 utils                   : label='B039_section_04': remove 32 datasets out of 278\n",
      "2023-12-09 17:05:08,907 utils                   : label='B039_section_05': remove 33 datasets out of 278\n",
      "2023-12-09 17:05:09,065 utils                   : label='B039_section_09': remove 32 datasets out of 278\n",
      "2023-12-09 17:05:09,156 utils                   : label='B039_section_01': remove 31 datasets out of 278\n",
      "2023-12-09 17:05:09,453 utils                   : label='B039_section_08': remove 30 datasets out of 278\n",
      "2023-12-09 17:05:09,479 utils                   : label='B039_section_02': remove 28 datasets out of 278\n",
      "2023-12-09 17:05:09,794 utils                   : label='B039_section_07': remove 32 datasets out of 278\n"
     ]
    }
   ],
   "source": [
    "avg_039, t_el, ql_dyn, ql_sta = process_group(group='B039',\n",
    "                                              num_sections=10,\n",
    "                                              prefix='/home/8ididata/2021-2/babnigg202107_2/cluster_results_QZ', \n",
    "                                              zone_idx='auto',\n",
    "                                              num_cores=24)"
   ]
  },
  {
   "cell_type": "code",
   "execution_count": null,
   "id": "e84e82ad",
   "metadata": {},
   "outputs": [
    {
     "name": "stderr",
     "output_type": "stream",
     "text": [
      "2023-12-09 17:05:10,641 utils                   : total number of files in B040  is 2780\n"
     ]
    }
   ],
   "source": [
    "avg_040, _, _, _ = process_group(group='B040',\n",
    "                                 num_sections=10, \n",
    "                                 prefix='/home/8ididata/2021-2/babnigg202107_2/cluster_results_QZ',\n",
    "                                 zone_idx='auto',\n",
    "                                 num_cores=24)"
   ]
  },
  {
   "cell_type": "code",
   "execution_count": null,
   "id": "46520768",
   "metadata": {},
   "outputs": [],
   "source": []
  },
  {
   "cell_type": "code",
   "execution_count": null,
   "id": "878df6cb",
   "metadata": {
    "scrolled": true
   },
   "outputs": [],
   "source": [
    "plt.rcParams['pdf.fonttype'] = 42\n",
    "# plt.rcParams['font.sans-serif'] = 'Helvetica'   # not installed on tanzanite\n",
    "# plt.rcParams['font.sans-serif'] = 'Arial'\n",
    "plt.rcParams[\"font.family\"] = \"Times New Roman\"\n",
    "plt.rcParams['font.size'] = 8\n",
    "plt.rcParams['figure.dpi'] = 600\n",
    "\n",
    "\n",
    "fig, ax = plt.subplots(3, 2, figsize=(3.8, 4.0))\n",
    "for n in range(3):\n",
    "    ax[n, 1].get_yaxis().set_visible(False)\n",
    "    # ax[n, 0].xaxis.set_label_coords(0.9, -0.25)\n",
    "\n",
    "\n",
    "\n",
    "def plot_one_column(ax, avg_data_list, second_column=False, g2_idx=0):\n",
    "    total_size = 0\n",
    "    for avg_dict in avg_data_list:\n",
    "        total_size += len(avg_dict['temperature_x'])\n",
    "\n",
    "    if second_column:\n",
    "        cmap = plt.get_cmap('jet_r')\n",
    "    else:\n",
    "        cmap = plt.get_cmap('jet')\n",
    "    \n",
    "    accu_size = 0\n",
    "    for avg_dict in avg_data_list:\n",
    "        curr_size = len(avg_dict['temperature_x'])\n",
    "        idx = accu_size + np.arange(curr_size) * 1.0\n",
    "        idx /= total_size\n",
    "        accu_size += curr_size\n",
    "        # print(idx.shape, np.min(idx), np.max(idx))\n",
    "        # ax[0].plot(avg_dict['temperature_x'], avg_dict['temperature'], color=idx, cmap=plt.cm.jet)\n",
    "        ax[0].scatter(avg_dict['temperature_x'] * 6 / 1000, avg_dict['temperature'], c=cmap(idx), s=0.5)\n",
    "\n",
    "        color = cmap(np.mean(idx))\n",
    "        # have to remove the last few points\n",
    "        ax[1].loglog(ql_sta[:-4], avg_dict['saxs_1d'][:-4], 'o-', color=color, lw=1, ms=2, mew=0.5, mfc='none')\n",
    "        \n",
    "        # ax[2].plot(t_el, avg_dict['g2'][:, g2_idx], 'o--', color=color, lw=1, ms=2, mew=0.5, mfc='none')\n",
    "        ax[2].errorbar(t_el, avg_dict['g2'][:, g2_idx],  yerr=avg_dict['g2_err'][:, g2_idx],\n",
    "                       fmt='o', color=color, lw=1, ms=2, mew=0.5, mfc='none')\n",
    "        # x, y, yerr=None, xerr=None, fmt='', ecolor=None,\n",
    "        ax[2].set_ylim(0.97, 1.23)\n",
    "        \n",
    "    if not second_column:\n",
    "        ax[0].set_ylabel('Temperature ($^\\circ$ C)')\n",
    "        ax[1].set_ylabel('I (cm$^{-1}$)')\n",
    "        ax[2].set_ylabel('g2')\n",
    "\n",
    "        ax[0].set_xlabel('Time (s) $\\\\times 1000$')\n",
    "        ax[1].set_xlabel('q ($\\\\AA^{-1}$)')\n",
    "        ax[2].set_xlabel('Delay (s)')\n",
    "        ax[0].xaxis.set_label_coords(1.0, -0.5)\n",
    "        ax[1].xaxis.set_label_coords(1.0, -0.5)\n",
    "        ax[2].xaxis.set_label_coords(1.0, -0.5)\n",
    "\n",
    "    # additional setup\n",
    "    ax[0].set_xlim(0, None)\n",
    "    ax[2].set_xscale('log')\n",
    "        \n",
    "plot_one_column(ax[:, 0], avg_039)\n",
    "plot_one_column(ax[:, 1], avg_040, second_column=True)\n",
    " \n",
    "plt.tight_layout(w_pad=-1, h_pad=0.125)\n",
    "plt.savefig('figure2.png', dpi=300)\n",
    "# plt.savefig('figure2.pdf')\n",
    "# plt.tight_layout()"
   ]
  },
  {
   "cell_type": "code",
   "execution_count": null,
   "id": "14cef26f-a79e-42f6-b60c-9a0b848b59b1",
   "metadata": {},
   "outputs": [],
   "source": [
    "avg_039"
   ]
  },
  {
   "cell_type": "code",
   "execution_count": null,
   "id": "6bd3e55a-dbcc-4360-833e-8295339cb2e5",
   "metadata": {},
   "outputs": [],
   "source": []
  }
 ],
 "metadata": {
  "kernelspec": {
   "display_name": "Python 3 (ipykernel)",
   "language": "python",
   "name": "python3"
  },
  "language_info": {
   "codemirror_mode": {
    "name": "ipython",
    "version": 3
   },
   "file_extension": ".py",
   "mimetype": "text/x-python",
   "name": "python",
   "nbconvert_exporter": "python",
   "pygments_lexer": "ipython3",
   "version": "3.9.16"
  }
 },
 "nbformat": 4,
 "nbformat_minor": 5
}
