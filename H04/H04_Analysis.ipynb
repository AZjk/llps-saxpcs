{
 "cells": [
  {
   "cell_type": "markdown",
   "id": "b3252e50-91b8-42a4-a36a-4c81836b958f",
   "metadata": {},
   "source": [
    "### Synopsis\n",
    "This code averages and reduces g2 for temperature ramping (up and down) of protein H04"
   ]
  },
  {
   "cell_type": "code",
   "execution_count": 1,
   "id": "5ff3ceb8",
   "metadata": {},
   "outputs": [],
   "source": [
    "\n",
    "import numpy as np\n",
    "import matplotlib.pyplot as plt\n",
    "import h5py\n",
    "import pickle\n",
    "\n",
    "import sys\n",
    "sys.path.append('../common')\n",
    "from utils import process_group\n",
    "\n",
    "# mount_point = '/gdata/s8id-dmdtn/'\n",
    "# fpath1 = mount_point + '2021-2/babnigg202107_2/cluster_results_QZ'\n",
    "# fpath2 = mount_point + '2022-1/babnigg202203/cluster_results_QZ'\n",
    "\n",
    "mount_point = \"/home/8-id-i/2024-3/2024_1228_qz_llps_analysis/2025_08_analysis/\"\n",
    "fpath1 = mount_point + '2021-2/cluster_results_all'\n",
    "fpath2 = mount_point + '2022-1/cluster_results_all'\n",
    "\n",
    "coef_sam = 6.93e4  # Absolute scattering cross-section coefficient for the samples\n",
    "coef_buf = 7.62e4  # Absolute scattering cross-section coefficient for the buffer\n"
   ]
  },
  {
   "cell_type": "markdown",
   "id": "b547b47e-54fd-45dc-afb8-c033fd2431e0",
   "metadata": {},
   "source": [
    "### Averaging of SA-XPCS results, temperature ramp up"
   ]
  },
  {
   "cell_type": "code",
   "execution_count": 2,
   "id": "ca75cca3",
   "metadata": {},
   "outputs": [
    {
     "name": "stdout",
     "output_type": "stream",
     "text": [
      "index\t T-min(C)\t T-max(C)\t T-mean(C)\t points\n",
      "n=00\t    20.01\t    21.07\t  20.5428\t 120\n",
      "n=01\t    21.08\t    22.15\t  21.6162\t 120\n",
      "n=02\t    22.15\t     23.2\t  22.6776\t 120\n",
      "n=03\t    23.21\t    24.27\t  23.7387\t 120\n",
      "n=04\t    24.28\t    25.35\t   24.815\t 120\n",
      "n=05\t    25.35\t    26.41\t  25.8803\t 120\n",
      "n=06\t    26.42\t    27.49\t  26.9545\t 120\n",
      "n=07\t    27.49\t    28.56\t  28.0278\t 120\n",
      "n=08\t    28.58\t    29.63\t  29.0962\t 120\n",
      "n=09\t    29.64\t    30.71\t    30.17\t 119\n",
      "n=10\t    30.73\t    31.77\t  31.2451\t 119\n",
      "n=11\t    31.77\t    32.85\t  32.3104\t 119\n",
      "n=12\t    32.86\t    33.91\t  33.3849\t 119\n",
      "n=13\t    33.92\t    34.99\t  34.4613\t 119\n",
      "n=14\t     35.0\t    36.05\t  35.5318\t 119\n",
      "n=15\t    36.07\t    37.12\t  36.5973\t 119\n",
      "n=16\t    37.13\t    38.22\t  37.6797\t 119\n",
      "n=17\t    38.23\t    39.28\t  38.7471\t 119\n",
      "n=18\t    39.29\t    40.36\t  39.8242\t 119\n",
      "n=19\t    40.37\t    41.42\t  40.8936\t 119\n"
     ]
    }
   ],
   "source": [
    "avg_ramp_up, t_el, ql_dyn, ql_sta = process_group(group='T214',\n",
    "                                              num_sections=20,\n",
    "                                              prefix=fpath1, \n",
    "                                              zone_idx=1,\n",
    "                                              num_cores=24)"
   ]
  },
  {
   "cell_type": "markdown",
   "id": "7cdddfe7-38a3-4319-9d4e-8ea27bf8b9cc",
   "metadata": {},
   "source": [
    "### Averaging of SA-XPCS results, temperature ramp down"
   ]
  },
  {
   "cell_type": "code",
   "execution_count": 3,
   "id": "e84e82ad",
   "metadata": {},
   "outputs": [
    {
     "name": "stdout",
     "output_type": "stream",
     "text": [
      "index\t T-min(C)\t T-max(C)\t T-mean(C)\t points\n",
      "n=00\t    40.33\t     41.4\t  40.8807\t 120\n",
      "n=01\t    39.25\t    40.33\t  39.7944\t 120\n",
      "n=02\t    38.19\t    39.25\t  38.7252\t 120\n",
      "n=03\t    37.12\t    38.19\t  37.6515\t 120\n",
      "n=04\t    36.02\t    37.11\t  36.5615\t 120\n",
      "n=05\t    34.93\t    36.01\t  35.4707\t 120\n",
      "n=06\t    33.83\t    34.91\t  34.3743\t 120\n",
      "n=07\t    32.74\t    33.81\t  33.2795\t 120\n",
      "n=08\t    31.64\t    32.73\t  32.1815\t 120\n",
      "n=09\t    30.58\t    31.63\t  31.1047\t 120\n",
      "n=10\t     29.5\t    30.57\t  30.0445\t 119\n",
      "n=11\t    28.43\t     29.5\t   28.961\t 119\n",
      "n=12\t    27.38\t    28.43\t  27.9027\t 119\n",
      "n=13\t     26.3\t    27.38\t  26.8413\t 119\n",
      "n=14\t    25.26\t    26.29\t  25.7751\t 119\n",
      "n=15\t    24.19\t    25.24\t  24.7182\t 119\n",
      "n=16\t    23.11\t    24.18\t   23.648\t 119\n",
      "n=17\t    22.06\t    23.11\t   22.581\t 119\n",
      "n=18\t    21.01\t    22.05\t  21.5256\t 119\n",
      "n=19\t    19.99\t    20.99\t  20.4811\t 119\n"
     ]
    }
   ],
   "source": [
    "avg_ramp_down, t_el, ql_dyn, ql_sta = process_group(group='T215',\n",
    "                                              num_sections=20,\n",
    "                                              prefix=fpath1, \n",
    "                                              zone_idx=1,\n",
    "                                              num_cores=24)"
   ]
  },
  {
   "cell_type": "markdown",
   "id": "ce93bd28-5233-4cd1-8bf1-a52e23141f20",
   "metadata": {},
   "source": [
    "### Averaging of background "
   ]
  },
  {
   "cell_type": "code",
   "execution_count": 4,
   "id": "46520768",
   "metadata": {},
   "outputs": [
    {
     "name": "stdout",
     "output_type": "stream",
     "text": [
      "index\t T-min(C)\t T-max(C)\t T-mean(C)\t points\n",
      "n=00\t    24.98\t    25.02\t  25.0006\t 200\n"
     ]
    }
   ],
   "source": [
    "\n",
    "avg_bg, _, _, _ = process_group(group='D029',\n",
    "                                 num_sections=1, \n",
    "                                 prefix=fpath1,\n",
    "                                 zone_idx='auto',\n",
    "                                 num_cores=24)\n"
   ]
  },
  {
   "cell_type": "markdown",
   "id": "98eea5a7-f1c5-4e70-a044-6de1b548ad1b",
   "metadata": {},
   "source": [
    "### Data reduction\n",
    "\n",
    "Subtracting I(Q) with background, converting to absolute scattering cross-section, and dump to pickle file for plotting"
   ]
  },
  {
   "cell_type": "code",
   "execution_count": 6,
   "id": "6bd3e55a-dbcc-4360-833e-8295339cb2e5",
   "metadata": {},
   "outputs": [],
   "source": [
    "\n",
    "\n",
    "for ii in range(len(avg_ramp_up)):\n",
    "    avg_ramp_up[ii][\"saxs_1d\"] = coef_sam*avg_ramp_up[ii][\"saxs_1d\"] - coef_buf*avg_bg[0][\"saxs_1d\"]\n",
    "\n",
    "for ii in range(len(avg_ramp_down)):\n",
    "    avg_ramp_down[ii][\"saxs_1d\"] = coef_sam*avg_ramp_down[ii][\"saxs_1d\"] - coef_buf*avg_bg[0][\"saxs_1d\"]\n",
    "\n",
    "with open('checkpoint.pickle', 'wb') as f:  # 'wb' for binary write mode\n",
    "    pickle.dump(avg_ramp_up, f)  # Dump the object to the file\n",
    "    pickle.dump(avg_ramp_down, f)\n",
    "    pickle.dump(t_el, f)\n",
    "    pickle.dump(ql_sta, f)\n",
    "    pickle.dump(ql_dyn, f)\n",
    "    "
   ]
  }
 ],
 "metadata": {
  "kernelspec": {
   "display_name": "Python 3 (ipykernel)",
   "language": "python",
   "name": "python3"
  },
  "language_info": {
   "codemirror_mode": {
    "name": "ipython",
    "version": 3
   },
   "file_extension": ".py",
   "mimetype": "text/x-python",
   "name": "python",
   "nbconvert_exporter": "python",
   "pygments_lexer": "ipython3",
   "version": "3.12.8"
  }
 },
 "nbformat": 4,
 "nbformat_minor": 5
}
