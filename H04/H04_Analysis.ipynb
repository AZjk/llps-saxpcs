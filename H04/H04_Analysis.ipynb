{
 "cells": [
  {
   "cell_type": "markdown",
   "id": "b3252e50-91b8-42a4-a36a-4c81836b958f",
   "metadata": {},
   "source": [
    "### Initialization"
   ]
  },
  {
   "cell_type": "code",
   "execution_count": 1,
   "id": "5ff3ceb8",
   "metadata": {},
   "outputs": [],
   "source": [
    "\n",
    "import numpy as np\n",
    "import matplotlib.pyplot as plt\n",
    "import h5py\n",
    "import pickle\n",
    "\n",
    "import sys\n",
    "sys.path.append('../common')\n",
    "from utils import process_group\n",
    "\n",
    "fpath1 = '/home/8ididata/2021-2/babnigg202107_2/cluster_results_QZ'\n",
    "fpath2 ='/home/8ididata/2022-1/babnigg202203/cluster_results_QZ'\n"
   ]
  },
  {
   "cell_type": "markdown",
   "id": "b547b47e-54fd-45dc-afb8-c033fd2431e0",
   "metadata": {},
   "source": [
    "### Averaging of SA-XPCS results, temperature ramp up"
   ]
  },
  {
   "cell_type": "code",
   "execution_count": 2,
   "id": "ca75cca3",
   "metadata": {},
   "outputs": [
    {
     "name": "stderr",
     "output_type": "stream",
     "text": [
      "2023-12-20 16:48:47,830 utils                   : total number of files in T214  is 2390\n",
      "2023-12-20 16:50:05,751 xpcs_viewer.fileIO.hdf_reader: key not found: /xpcs/sphilist\n",
      "2023-12-20 16:50:05,759 utils                   : failed to read file /home/8ididata/2021-2/babnigg202107_2/cluster_results_QZ/T214_H04_2nd_500C10p_att00_Rq0_01075_0001-100000.hdf, skip this file\n",
      "2023-12-20 16:50:08,503 utils                   : label='T214_section_01': remove 13 datasets out of 120\n",
      "2023-12-20 16:50:08,524 utils                   : label='T214_section_00': remove 13 datasets out of 120\n",
      "2023-12-20 16:50:08,530 utils                   : label='T214_section_03': remove 13 datasets out of 120\n",
      "2023-12-20 16:50:08,577 utils                   : label='T214_section_04': remove 14 datasets out of 120\n",
      "2023-12-20 16:50:08,571 utils                   : label='T214_section_02': remove 16 datasets out of 120\n",
      "2023-12-20 16:50:08,738 utils                   : label='T214_section_08': remove 13 datasets out of 119\n",
      "2023-12-20 16:50:08,721 utils                   : label='T214_section_05': remove 15 datasets out of 120\n",
      "2023-12-20 16:50:08,751 utils                   : label='T214_section_06': remove 14 datasets out of 120\n",
      "2023-12-20 16:50:08,769 utils                   : label='T214_section_15': remove 14 datasets out of 119\n",
      "2023-12-20 16:50:08,820 utils                   : label='T214_section_07': remove 13 datasets out of 120\n",
      "2023-12-20 16:50:08,843 utils                   : label='T214_section_13': remove 15 datasets out of 119\n",
      "2023-12-20 16:50:08,889 utils                   : label='T214_section_14': remove 15 datasets out of 119\n",
      "2023-12-20 16:50:08,908 utils                   : label='T214_section_09': remove 16 datasets out of 120\n",
      "2023-12-20 16:50:08,916 utils                   : label='T214_section_12': remove 15 datasets out of 119\n",
      "2023-12-20 16:50:08,944 utils                   : label='T214_section_17': remove 17 datasets out of 119\n",
      "2023-12-20 16:50:08,953 utils                   : label='T214_section_11': remove 15 datasets out of 119\n",
      "2023-12-20 16:50:09,018 utils                   : label='T214_section_19': remove 12 datasets out of 119\n",
      "2023-12-20 16:50:08,988 utils                   : label='T214_section_10': remove 15 datasets out of 119\n",
      "2023-12-20 16:50:09,064 utils                   : label='T214_section_16': remove 14 datasets out of 119\n",
      "2023-12-20 16:50:09,133 utils                   : label='T214_section_18': remove 14 datasets out of 119\n"
     ]
    }
   ],
   "source": [
    "avg_ramp_up, t_el, ql_dyn, ql_sta = process_group(group='T214',\n",
    "                                              num_sections=20,\n",
    "                                              prefix=fpath1, \n",
    "                                              zone_idx=1,\n",
    "                                              num_cores=24)"
   ]
  },
  {
   "cell_type": "markdown",
   "id": "7cdddfe7-38a3-4319-9d4e-8ea27bf8b9cc",
   "metadata": {},
   "source": [
    "### Averaging of SA-XPCS results, temperature ramp down"
   ]
  },
  {
   "cell_type": "code",
   "execution_count": 3,
   "id": "e84e82ad",
   "metadata": {},
   "outputs": [
    {
     "name": "stderr",
     "output_type": "stream",
     "text": [
      "2023-12-20 16:50:10,528 utils                   : total number of files in T215  is 2390\n",
      "2023-12-20 16:50:17,363 utils                   : label='T215_section_01': remove 11 datasets out of 120\n",
      "2023-12-20 16:50:17,419 utils                   : label='T215_section_00': remove 13 datasets out of 120\n",
      "2023-12-20 16:50:17,424 utils                   : label='T215_section_02': remove 12 datasets out of 120\n",
      "2023-12-20 16:50:17,527 utils                   : label='T215_section_03': remove 14 datasets out of 120\n",
      "2023-12-20 16:50:17,578 utils                   : label='T215_section_04': remove 12 datasets out of 120\n",
      "2023-12-20 16:50:17,693 utils                   : label='T215_section_06': remove 15 datasets out of 120\n",
      "2023-12-20 16:50:17,714 utils                   : label='T215_section_08': remove 15 datasets out of 120\n",
      "2023-12-20 16:50:17,714 utils                   : label='T215_section_05': remove 14 datasets out of 120\n",
      "2023-12-20 16:50:17,717 utils                   : label='T215_section_07': remove 15 datasets out of 120\n",
      "2023-12-20 16:50:17,847 utils                   : label='T215_section_15': remove 13 datasets out of 119\n",
      "2023-12-20 16:50:17,848 utils                   : label='T215_section_10': remove 14 datasets out of 119\n",
      "2023-12-20 16:50:17,883 utils                   : label='T215_section_11': remove 12 datasets out of 119\n",
      "2023-12-20 16:50:17,881 utils                   : label='T215_section_13': remove 13 datasets out of 119\n",
      "2023-12-20 16:50:17,975 utils                   : label='T215_section_14': remove 17 datasets out of 119\n",
      "2023-12-20 16:50:17,989 utils                   : label='T215_section_18': remove 13 datasets out of 119\n",
      "2023-12-20 16:50:17,988 utils                   : label='T215_section_09': remove 15 datasets out of 120\n",
      "2023-12-20 16:50:17,976 utils                   : label='T215_section_16': remove 14 datasets out of 119\n",
      "2023-12-20 16:50:18,011 utils                   : label='T215_section_19': remove 14 datasets out of 119\n",
      "2023-12-20 16:50:18,029 utils                   : label='T215_section_17': remove 12 datasets out of 119\n",
      "2023-12-20 16:50:18,009 utils                   : label='T215_section_12': remove 16 datasets out of 119\n"
     ]
    }
   ],
   "source": [
    "avg_ramp_down, t_el, ql_dyn, ql_sta = process_group(group='T215',\n",
    "                                              num_sections=20,\n",
    "                                              prefix=fpath1, \n",
    "                                              zone_idx=1,\n",
    "                                              num_cores=24)"
   ]
  },
  {
   "cell_type": "markdown",
   "id": "ce93bd28-5233-4cd1-8bf1-a52e23141f20",
   "metadata": {},
   "source": [
    "### Averaging of background "
   ]
  },
  {
   "cell_type": "code",
   "execution_count": 4,
   "id": "46520768",
   "metadata": {},
   "outputs": [
    {
     "name": "stderr",
     "output_type": "stream",
     "text": [
      "2023-12-20 16:50:19,457 utils                   : total number of files in D029  is 200\n",
      "2023-12-20 16:50:23,883 utils                   : label='D029_section_00': remove 26 datasets out of 200\n"
     ]
    }
   ],
   "source": [
    "\n",
    "avg_bg, _, _, _ = process_group(group='D029',\n",
    "                                 num_sections=1, \n",
    "                                 prefix=fpath1,\n",
    "                                 zone_idx='auto',\n",
    "                                 num_cores=24)\n"
   ]
  },
  {
   "cell_type": "markdown",
   "id": "8d0cbd0d-3ca0-4a4c-b0fd-b2d1c271d559",
   "metadata": {},
   "source": [
    "### Data reduction\n",
    "\n",
    "Subtracting I(Q) with background, converting to absolute scattering cross-section, and dump to pickle file for plotting"
   ]
  },
  {
   "cell_type": "code",
   "execution_count": 5,
   "id": "fdabec19-3e57-4e7e-a200-5317277c23e1",
   "metadata": {},
   "outputs": [],
   "source": [
    "\n",
    "fname = 'E0110_S3_4_Ramp_340C10p_att00_Rq0_00001_0001-100000.hdf'\n",
    "\n",
    "with h5py.File(fpath2+'/'+fname, 'r') as f:\n",
    "    _ = f['measurement']['sample']['absolute_cross_section_scale'][()]\n",
    "    abs_coeff = _[0][0]\n",
    "\n",
    "for ii in range(len(avg_ramp_up)):\n",
    "    avg_ramp_up[ii][\"saxs_1d\"] = abs_coeff*(avg_ramp_up[ii][\"saxs_1d\"] - avg_bg[0][\"saxs_1d\"])\n",
    "\n",
    "for ii in range(len(avg_ramp_down)):\n",
    "    avg_ramp_down[ii][\"saxs_1d\"] = abs_coeff*(avg_ramp_down[ii][\"saxs_1d\"] - avg_bg[0][\"saxs_1d\"])\n",
    "\n",
    "\n",
    "with open('checkpoint.pickle', 'wb') as f:  # 'wb' for binary write mode\n",
    "    pickle.dump(avg_ramp_up, f)  # Dump the object to the file\n",
    "    pickle.dump(avg_ramp_down, f)\n",
    "    pickle.dump(t_el, f)\n",
    "    pickle.dump(ql_sta, f)\n",
    "    pickle.dump(ql_dyn, f)\n"
   ]
  },
  {
   "cell_type": "code",
   "execution_count": null,
   "id": "6bd3e55a-dbcc-4360-833e-8295339cb2e5",
   "metadata": {},
   "outputs": [],
   "source": []
  }
 ],
 "metadata": {
  "kernelspec": {
   "display_name": "Python 3 (ipykernel)",
   "language": "python",
   "name": "python3"
  },
  "language_info": {
   "codemirror_mode": {
    "name": "ipython",
    "version": 3
   },
   "file_extension": ".py",
   "mimetype": "text/x-python",
   "name": "python",
   "nbconvert_exporter": "python",
   "pygments_lexer": "ipython3",
   "version": "3.9.16"
  }
 },
 "nbformat": 4,
 "nbformat_minor": 5
}
