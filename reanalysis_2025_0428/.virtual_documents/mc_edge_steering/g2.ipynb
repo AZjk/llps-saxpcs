!ls ../results/2025_04_analysis_qmin0.0025/2022-2/cluster_results_all/E0111_* | wc


import glob
import matplotlib.pyplot as plt
flist = glob.glob("../results/2025_04_analysis_qmin0.0025/2022-2/cluster_results_all/E0110_*") # H06
# flist = glob.glob("../results/2025_04_analysis_qmin0.0025/2021-2/cluster_results_all/B039_*") # H02
flist.sort()
print(len(flist))
print(flist[0])
print(flist[-1])


from pyxpcsviewer import XpcsFile as XF
from tqdm import trange
import numpy as np


a = XF(flist[0])
q = a.saxs_1d["q"]


Iq = []
for n in trange(0, len(flist)):
# for n in trange(0, 512):
    obj_tmp = XF(flist[n], fields=["saxs_1d"])
    Iq.append(obj_tmp.saxs_1d["Iq"])


size_list = [x.size for x in Iq]


Iq = np.array(Iq)
# Iq_sp = np.nanmean(Iq, axis=1)
Iq_sp = Iq[:, 1]
print(Iq_sp.shape)


# for n in range(9):
#     plt.semilogy(q, Iq[0, n])
plt.semilogy(q, Iq_sp[0], 'o')


def get_saxs_avg(Iq_sp, n=100):
    data = Iq_sp[0:n]
    # print(data.shape)
    avg = np.nanmean(data, axis=0)
    err = np.nanstd(data, axis=0) / np.sqrt(data.shape[0])
    return avg, err



fig, axes = plt.subplots(nrows=5, ncols=1, figsize=(6, 6), sharex=True)

for n in range(5):
    avg, err = get_saxs_avg(Iq_sp, (n + 1) * 2)

    q_down = q[::3]
    avg_down = avg[::3]
    err_down = err[::3]

    ax = axes[n]
    ax.plot(q_down, avg_down, linewidth=1, label=f'Avg {2*(n+1)}')
    ax.fill_between(q_down, avg_down - err_down, avg_down + err_down, alpha=0.3)

    ax.set_yscale('log')
    ax.set_ylabel('Intensity')
    ax.legend()
    ax.grid(True, which='both', ls='--')

axes[-1].set_xlabel('q')
fig.suptitle('SAXS Measurements with Shaded Error (Log Y Scale)', y=1.02)
fig.tight_layout()
plt.show()



data = []
for n in range(5, 100):
    avg, err = get_saxs_avg(Iq_sp, (n + 1) * 2)
    rel_err = err / avg
    data.append(rel_err)

data = np.array(data)
# plt.plot(data[:, 0]) 
# plt.plot(data[:, 6]) 
plt.plot(np.nanmedian(data, axis=1), 'ro')

    # plt.errorbar(q[::3], avg[::3], yerr=err[::3], fmt='-', capsize=3, elinewidth=1, linewidth=1, label=f'Avg {2*(n+1)}')
# Set y-axis to log scale
# plt.yscale('log')


Iq_sp_log = np.copy(Iq_sp)
Iq_sp_log[Iq_sp_log <= 0] = 1 
Iq_sp_log = np.log(Iq_sp_log)
Iq_sp_log[Iq_sp_log == np.nan] = 0
print(np.sum(Iq_sp_log == np.nan))


norm_dn = np.nanmean(Iq_sp_log, axis=1).reshape(-1, 1) * np.sqrt(Iq_sp_log.shape[1])
plt.plot(norm_dn)
print(norm_dn.shape)

# norm_dn[norm_dn == 0] = 1
# norm_dn[norm_dn == np.nan] = 1
norm = Iq_sp_log / norm_dn
norm[np.isnan(norm)] = 0
diff = np.matmul(norm, norm.T)
print(np.sum(Iq_sp_log == np.nan), np.sum(norm == np.nan))



print(np.nanmin(diff), np.nanmax(diff))


plt.imshow(diff, vmin=1.00, vmax=1.015)
plt.colorbar()


plt.plot(diff[np.diag_indices(diff.shape[0])])


u, s, v = np.linalg.svd(norm)


plt.plot(s, 'ro')


norm2 = u[:, 0:2] @ np.diag(s[0:2]) @ v[0:2]


plt.imshow(norm2 @ norm2.T, vmin=1.00, vmax=1.015)
plt.colorbar()



plt.plot(u[:, 0])
plt.plot(u[:, 1])


print(norm.shape)


for n in range(0, norm.shape[0], 100):
    plt.semilogy(q, Iq_sp[n])













