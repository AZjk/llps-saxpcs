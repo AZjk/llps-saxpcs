



import numpy as np
import matplotlib.pyplot as plt
import h5py
import pickle

import sys

sys.path.append('../common')
from utils import process_group

# mount_point = '/gdata/s8id-dmdtn/'
# mount_point = "/home/beams/8IDIUSER/Documents/llps-saxpcs/reanalysis_2025_0311/results/"
mount_point = "/home/8-id-i/2024-3/2024_1228_qz_llps_analysis/2025_04_analysis/2021-2/"

fpath1 = mount_point + '/cluster_results_all'
# fpath2 = mount_point + 'cluster_results'

coef_sam = 6.93e4  # Absolute scattering cross-section coefficient for the samples
coef_buf = 7.62e4  # Absolute scattering cross-section coefficient for the buffer






avg_ramp_up, t_el, ql_dyn, ql_sta = process_group(group='B039',
                                              num_sections=10,
                                              prefix=fpath1, 
                                              zone_idx='auto',
                                              num_cores=24)







avg_ramp_down, _, _, _ = process_group(group='B040',
                                 num_sections=10, 
                                 prefix=fpath1,
                                 zone_idx='auto',
                                 num_cores=24)







avg_bg, _, _, _ = process_group(group='D029',
                                 num_sections=1, 
                                 prefix=fpath1,
                                 zone_idx='auto',
                                 num_cores=24)






for ii in range(len(avg_ramp_up)):
    avg_ramp_up[ii]["saxs_1d"] = coef_sam*avg_ramp_up[ii]["saxs_1d"] - coef_buf*avg_bg[0]["saxs_1d"]

for ii in range(len(avg_ramp_down)):
    avg_ramp_down[ii]["saxs_1d"] = coef_sam*avg_ramp_down[ii]["saxs_1d"] - coef_buf*avg_bg[0]["saxs_1d"]

with open('checkpoint_both.pickle', 'wb') as f:  # 'wb' for binary write mode
    pickle.dump(avg_ramp_up, f)  # Dump the object to the file
    pickle.dump(avg_ramp_down, f)
    pickle.dump(t_el, f)
    pickle.dump(ql_sta, f)
    pickle.dump(ql_dyn, f)




