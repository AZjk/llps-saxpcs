



import numpy as np
import matplotlib.pyplot as plt
import h5py
import pickle

import sys
sys.path.append('../common')
from utils import process_group

mount_point = '/gdata/s8id-dmdtn/'

fpath1 = mount_point + '2021-2/babnigg202107_2/cluster_results_QZ'
fpath2 = mount_point + '2022-1/babnigg202203/cluster_results_QZ'
coef_sam = 6.93e4  # Absolute scattering cross-section coefficient for the samples
coef_buf = 7.62e4  # Absolute scattering cross-section coefficient for the buffer






avg_ramp_up, t_el, ql_dyn, ql_sta = process_group(group='T214',
                                              num_sections=20,
                                              prefix=fpath1, 
                                              zone_idx=1,
                                              num_cores=24)





avg_ramp_down, t_el, ql_dyn, ql_sta = process_group(group='T215',
                                              num_sections=20,
                                              prefix=fpath1, 
                                              zone_idx=1,
                                              num_cores=24)






avg_bg, _, _, _ = process_group(group='D029',
                                 num_sections=1, 
                                 prefix=fpath1,
                                 zone_idx='auto',
                                 num_cores=24)




# fname = 'E0110_S3_4_Ramp_340C10p_att00_Rq0_00001_0001-100000.hdf'

# with h5py.File(fpath2+'/'+fname, 'r') as f:
#     _ = f['measurement']['sample']['absolute_cross_section_scale'][()]
#     abs_coeff = _[0][0]

# for ii in range(len(avg_ramp_up)):
#     avg_ramp_up[ii]["saxs_1d"] = abs_coeff*(avg_ramp_up[ii]["saxs_1d"] - avg_bg[0]["saxs_1d"])

# for ii in range(len(avg_ramp_down)):
#     avg_ramp_down[ii]["saxs_1d"] = abs_coeff*(avg_ramp_down[ii]["saxs_1d"] - avg_bg[0]["saxs_1d"])


# with open('checkpoint.pickle', 'wb') as f:  # 'wb' for binary write mode
#     pickle.dump(avg_ramp_up, f)  # Dump the object to the file
#     pickle.dump(avg_ramp_down, f)
#     pickle.dump(t_el, f)
#     pickle.dump(ql_sta, f)
#     pickle.dump(ql_dyn, f)








for ii in range(len(avg_ramp_up)):
    avg_ramp_up[ii]["saxs_1d"] = coef_sam*avg_ramp_up[ii]["saxs_1d"] - coef_buf*avg_bg[0]["saxs_1d"]

for ii in range(len(avg_ramp_down)):
    avg_ramp_down[ii]["saxs_1d"] = coef_sam*avg_ramp_down[ii]["saxs_1d"] - coef_buf*avg_bg[0]["saxs_1d"]

with open('checkpoint.pickle', 'wb') as f:  # 'wb' for binary write mode
    pickle.dump(avg_ramp_up, f)  # Dump the object to the file
    pickle.dump(avg_ramp_down, f)
    pickle.dump(t_el, f)
    pickle.dump(ql_sta, f)
    pickle.dump(ql_dyn, f)
    
