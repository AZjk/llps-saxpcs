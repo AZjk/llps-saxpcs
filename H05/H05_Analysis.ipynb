{
 "cells": [
  {
   "cell_type": "markdown",
   "id": "0b3734d3-cd6c-4e6e-b191-39eac513bc58",
   "metadata": {},
   "source": [
    "### Initialization"
   ]
  },
  {
   "cell_type": "code",
   "execution_count": 1,
   "id": "5ff3ceb8",
   "metadata": {},
   "outputs": [],
   "source": [
    "\n",
    "import numpy as np\n",
    "import matplotlib.pyplot as plt\n",
    "import h5py\n",
    "import pickle\n",
    "\n",
    "import sys\n",
    "sys.path.append('../common')\n",
    "from utils import process_group\n",
    "\n",
    "fpath1 = '/home/8ididata/2021-2/babnigg202107_2/cluster_results_QZ'\n",
    "fpath2 ='/home/8ididata/2022-1/babnigg202203/cluster_results_QZ'\n",
    "\n"
   ]
  },
  {
   "cell_type": "markdown",
   "id": "02c74454-b4dd-4494-88e5-1f8f5b09daca",
   "metadata": {},
   "source": [
    "### Averaging of SA-XPCS results, temperature ramp up"
   ]
  },
  {
   "cell_type": "code",
   "execution_count": 2,
   "id": "ca75cca3",
   "metadata": {},
   "outputs": [
    {
     "name": "stderr",
     "output_type": "stream",
     "text": [
      "2023-12-20 16:40:28,435 utils                   : total number of files in H041  is 1450\n",
      "2023-12-20 16:40:29,281 utils                   : Failed to get temperature for file /home/8ididata/2021-2/babnigg202107_2/cluster_results_QZ/H041_VPAVG_H05_2_500C10p_att00_Rq0_01270_0001-100000.hdf, return nan\n",
      "2023-12-20 16:40:30,237 xpcs_viewer.fileIO.hdf_reader: key not found: /exchange/partition-mean-total\n",
      "2023-12-20 16:40:30,246 utils                   : failed to read file /home/8ididata/2021-2/babnigg202107_2/cluster_results_QZ/H041_VPAVG_H05_2_500C10p_att00_Rq0_01270_0001-100000.hdf, skip this file\n",
      "2023-12-20 16:40:31,491 utils                   : label='H041_section_01': remove 8 datasets out of 73\n",
      "2023-12-20 16:40:31,511 utils                   : label='H041_section_00': remove 10 datasets out of 73\n",
      "2023-12-20 16:40:31,552 utils                   : label='H041_section_02': remove 9 datasets out of 73\n",
      "2023-12-20 16:40:31,583 utils                   : label='H041_section_03': remove 8 datasets out of 73\n",
      "2023-12-20 16:40:31,647 utils                   : label='H041_section_04': remove 8 datasets out of 73\n",
      "2023-12-20 16:40:31,677 utils                   : label='H041_section_06': remove 9 datasets out of 73\n",
      "2023-12-20 16:40:31,751 utils                   : label='H041_section_05': remove 10 datasets out of 73\n",
      "2023-12-20 16:40:31,735 utils                   : label='H041_section_09': remove 8 datasets out of 73\n",
      "2023-12-20 16:40:31,784 utils                   : label='H041_section_11': remove 9 datasets out of 72\n",
      "2023-12-20 16:40:31,773 utils                   : label='H041_section_07': remove 9 datasets out of 73\n",
      "2023-12-20 16:40:31,788 utils                   : label='H041_section_08': remove 10 datasets out of 73\n",
      "2023-12-20 16:40:31,864 utils                   : label='H041_section_15': remove 11 datasets out of 72\n",
      "2023-12-20 16:40:31,884 utils                   : label='H041_section_14': remove 10 datasets out of 72\n",
      "2023-12-20 16:40:31,880 utils                   : label='H041_section_10': remove 9 datasets out of 72\n",
      "2023-12-20 16:40:31,901 utils                   : label='H041_section_16': remove 10 datasets out of 72\n",
      "2023-12-20 16:40:31,900 utils                   : label='H041_section_12': remove 11 datasets out of 72\n",
      "2023-12-20 16:40:31,970 utils                   : label='H041_section_13': remove 9 datasets out of 72\n",
      "2023-12-20 16:40:31,981 utils                   : label='H041_section_17': remove 11 datasets out of 71\n",
      "2023-12-20 16:40:32,026 utils                   : label='H041_section_19': remove 10 datasets out of 72\n",
      "2023-12-20 16:40:32,113 utils                   : label='H041_section_18': remove 11 datasets out of 72\n"
     ]
    }
   ],
   "source": [
    "\n",
    "avg_ramp_up, t_el, ql_dyn, ql_sta = process_group(group='H041',\n",
    "                                              num_sections=20,\n",
    "                                              prefix=fpath1, \n",
    "                                              zone_idx='auto',\n",
    "                                              num_cores=24)\n"
   ]
  },
  {
   "cell_type": "markdown",
   "id": "d4ea67a8-bcc1-4972-98ab-2b4635ede4b5",
   "metadata": {},
   "source": [
    "### Averaging of SA-XPCS results, temperature ramp down"
   ]
  },
  {
   "cell_type": "code",
   "execution_count": 3,
   "id": "e84e82ad",
   "metadata": {},
   "outputs": [
    {
     "name": "stderr",
     "output_type": "stream",
     "text": [
      "2023-12-20 16:40:33,452 utils                   : total number of files in H042  is 1450\n",
      "2023-12-20 16:40:36,425 utils                   : label='H042_section_00': remove 10 datasets out of 73\n",
      "2023-12-20 16:40:36,426 utils                   : label='H042_section_01': remove 11 datasets out of 73\n",
      "2023-12-20 16:40:36,443 utils                   : label='H042_section_02': remove 10 datasets out of 73\n",
      "2023-12-20 16:40:36,448 utils                   : label='H042_section_03': remove 9 datasets out of 73\n",
      "2023-12-20 16:40:36,530 utils                   : label='H042_section_04': remove 11 datasets out of 73\n",
      "2023-12-20 16:40:36,547 utils                   : label='H042_section_06': remove 10 datasets out of 73\n",
      "2023-12-20 16:40:36,547 utils                   : label='H042_section_05': remove 9 datasets out of 73\n",
      "2023-12-20 16:40:36,563 utils                   : label='H042_section_10': remove 11 datasets out of 72\n",
      "2023-12-20 16:40:36,562 utils                   : label='H042_section_11': remove 9 datasets out of 72\n",
      "2023-12-20 16:40:36,569 utils                   : label='H042_section_15': remove 10 datasets out of 72\n",
      "2023-12-20 16:40:36,580 utils                   : label='H042_section_08': remove 10 datasets out of 73\n",
      "2023-12-20 16:40:36,594 utils                   : label='H042_section_07': remove 10 datasets out of 73\n",
      "2023-12-20 16:40:36,605 utils                   : label='H042_section_14': remove 10 datasets out of 72\n",
      "2023-12-20 16:40:36,626 utils                   : label='H042_section_13': remove 11 datasets out of 72\n",
      "2023-12-20 16:40:36,643 utils                   : label='H042_section_18': remove 10 datasets out of 72\n",
      "2023-12-20 16:40:36,649 utils                   : label='H042_section_16': remove 10 datasets out of 72\n",
      "2023-12-20 16:40:36,682 utils                   : label='H042_section_09': remove 11 datasets out of 73\n",
      "2023-12-20 16:40:36,766 utils                   : label='H042_section_17': remove 10 datasets out of 72\n",
      "2023-12-20 16:40:36,769 utils                   : label='H042_section_12': remove 9 datasets out of 72\n",
      "2023-12-20 16:40:36,805 utils                   : label='H042_section_19': remove 9 datasets out of 72\n"
     ]
    }
   ],
   "source": [
    "\n",
    "avg_ramp_down, t_el, ql_dyn, ql_sta = process_group(group='H042',\n",
    "                                              num_sections=20,\n",
    "                                              prefix=fpath1, \n",
    "                                              zone_idx='auto',\n",
    "                                              num_cores=24)"
   ]
  },
  {
   "cell_type": "markdown",
   "id": "2de0d78d-38a5-4ea5-9d04-6ac2fe04a38b",
   "metadata": {},
   "source": [
    "### Averaging of background "
   ]
  },
  {
   "cell_type": "code",
   "execution_count": 4,
   "id": "46520768",
   "metadata": {},
   "outputs": [
    {
     "name": "stderr",
     "output_type": "stream",
     "text": [
      "2023-12-20 16:40:38,191 utils                   : total number of files in D029  is 200\n",
      "2023-12-20 16:40:42,629 utils                   : label='D029_section_00': remove 26 datasets out of 200\n"
     ]
    }
   ],
   "source": [
    "\n",
    "avg_bg, _, _, _ = process_group(group='D029',\n",
    "                                 num_sections=1, \n",
    "                                 prefix=fpath1,\n",
    "                                 zone_idx='auto',\n",
    "                                 num_cores=24)\n"
   ]
  },
  {
   "cell_type": "markdown",
   "id": "5fb3bea0-b9c3-47db-bbaf-43bd1e95286c",
   "metadata": {},
   "source": [
    "### Data reduction\n",
    "\n",
    "Subtracting I(Q) with background, converting to absolute scattering cross-section, and dump to pickle file for plotting"
   ]
  },
  {
   "cell_type": "code",
   "execution_count": 5,
   "id": "902e09d6-167b-46e4-b839-470bcb54e1a4",
   "metadata": {},
   "outputs": [],
   "source": [
    "\n",
    "fname = 'E0110_S3_4_Ramp_340C10p_att00_Rq0_00001_0001-100000.hdf'\n",
    "\n",
    "with h5py.File(fpath2+'/'+fname, 'r') as f:\n",
    "    _ = f['measurement']['sample']['absolute_cross_section_scale'][()]\n",
    "    abs_coeff = _[0][0]\n",
    "\n",
    "for ii in range(len(avg_ramp_up)):\n",
    "    avg_ramp_up[ii][\"saxs_1d\"] = abs_coeff*(avg_ramp_up[ii][\"saxs_1d\"] - avg_bg[0][\"saxs_1d\"])\n",
    "\n",
    "for ii in range(len(avg_ramp_down)):\n",
    "    avg_ramp_down[ii][\"saxs_1d\"] = abs_coeff*(avg_ramp_down[ii][\"saxs_1d\"] - avg_bg[0][\"saxs_1d\"])\n",
    "\n",
    "\n",
    "with open('checkpoint.pickle', 'wb') as f:  # 'wb' for binary write mode\n",
    "    pickle.dump(avg_ramp_up, f)  # Dump the object to the file\n",
    "    pickle.dump(avg_ramp_down, f)\n",
    "    pickle.dump(t_el, f)\n",
    "    pickle.dump(ql_sta, f)\n",
    "    pickle.dump(ql_dyn, f)\n"
   ]
  },
  {
   "cell_type": "code",
   "execution_count": null,
   "id": "6bd3e55a-dbcc-4360-833e-8295339cb2e5",
   "metadata": {},
   "outputs": [],
   "source": []
  }
 ],
 "metadata": {
  "kernelspec": {
   "display_name": "Python 3 (ipykernel)",
   "language": "python",
   "name": "python3"
  },
  "language_info": {
   "codemirror_mode": {
    "name": "ipython",
    "version": 3
   },
   "file_extension": ".py",
   "mimetype": "text/x-python",
   "name": "python",
   "nbconvert_exporter": "python",
   "pygments_lexer": "ipython3",
   "version": "3.9.16"
  }
 },
 "nbformat": 4,
 "nbformat_minor": 5
}
