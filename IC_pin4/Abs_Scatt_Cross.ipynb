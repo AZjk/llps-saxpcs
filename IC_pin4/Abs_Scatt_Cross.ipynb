{
 "cells": [
  {
   "cell_type": "markdown",
   "id": "9dda31d4-0e32-4f57-9b4a-4be1060f0f7d",
   "metadata": {},
   "source": [
    "### Synopsis\n",
    "This code calculates the absolute cross-section coefficient using the 1) metadata in the result files and 2) linear fitting coefficients in IC-to-photons conversion.\n",
    "\n",
    "Theory: Sheyfer et al., Phys. Rev. Lett. 125, 125504 (2020), Eq. S1\n",
    "\n",
    "### $I(Q) = (F_sT_st_{exp}f\\Delta\\Omega)^{-1}I_s(Q) - (F_{bg}T_{bg}t_{exp}f\\Delta\\Omega)^{-1}I_{bg}(Q)$\n",
    "\n",
    "Here:\n",
    "\n",
    "$F_s, F_{bg}$  : Incoming x-ray flux for the sample and the background (buffer sample).  \n",
    "$T_s, T_{bg}$  : Transmission coefficient for the sample and the buffer.  \n",
    "$t_{exp}$  : Exposure time. Note that there is a time mismatch between I(Q) (photon per frame) and measured flux (photon per second).  \n",
    "$f$  : Sample thickness.  \n",
    "$\\Delta\\Omega$  : Solid angle spanned by a single detector pixel.   \n",
    "\n",
    "\n",
    "$(F_sT_st_{exp}f\\Delta\\Omega)^{-1}$  : Absolute scattering cross-section coefficient for the sample.  \n",
    "$(F_{bg}T_{bg}t_{exp}f\\Delta\\Omega)^{-1}$  : Absolute scattering cross-section coefficient for the buffer."
   ]
  },
  {
   "cell_type": "code",
   "execution_count": 1,
   "id": "8386d5f3-6fb2-4513-a944-423fbeacef8f",
   "metadata": {},
   "outputs": [],
   "source": [
    "\n",
    "import numpy as np\n",
    "import matplotlib\n",
    "import matplotlib.pyplot as plt\n",
    "from matplotlib.colors import LogNorm\n",
    "import os\n",
    "from scipy.optimize import curve_fit\n",
    "\n",
    "import h5py\n"
   ]
  },
  {
   "cell_type": "code",
   "execution_count": 2,
   "id": "a45df846-0717-4782-81ad-e55e83c8ccc8",
   "metadata": {},
   "outputs": [],
   "source": [
    "\n",
    "mount_point = '/gdata/s8id-dmdtn/'\n",
    "\n",
    "fn_dir = mount_point + '2022-1/babnigg202203/cluster_results_QZ/'\n",
    "fn = 'E0110_S3_4_Ramp_340C10p_att00_Rq0_00001_0001-100000.hdf'\n",
    "\n",
    "with h5py.File(fn_dir+fn, 'r') as HDF_Result:\n",
    "    det_dist = np.squeeze(HDF_Result.get('/measurement/instrument/detector/distance')[()])\n",
    "    pix_dim_x = np.squeeze(HDF_Result.get('/measurement/instrument/detector/x_pixel_size')[()])\n",
    "    pix_dim_y = np.squeeze(HDF_Result.get('/measurement/instrument/detector/x_pixel_size')[()])\n",
    "    Up_IC = np.squeeze(HDF_Result.get('/measurement/instrument/source_end/I0Monitor')[()])\n",
    "    Dn_IC = np.squeeze(HDF_Result.get('/measurement/instrument/source_end/TransmissionMonitor')[()])\n",
    "    sample_thickness = np.squeeze(HDF_Result.get('/measurement/sample/thickness')[()])\n",
    "\n",
    "    num_frames = np.squeeze(HDF_Result.get('/xpcs/data_end')[()])\n",
    "    t0 = np.squeeze(HDF_Result.get('/measurement/instrument/detector/exposure_period')[()])\n",
    "\n",
    "t_exp = t0*num_frames\n",
    "F_ec = 6.25e4*(Up_IC/t_exp)-1.28e7\n",
    "T_ec = Dn_IC/Up_IC/0.868\n",
    "f = sample_thickness\n",
    "Delta_Omega = (pix_dim_x/det_dist)*(pix_dim_y/det_dist)\n",
    "\n",
    "coef_sam = num_frames/(t_exp*F_ec*T_ec*f*Delta_Omega)\n"
   ]
  },
  {
   "cell_type": "code",
   "execution_count": 3,
   "id": "0c4f55b2-8c6d-45df-aefe-d36d3181f1f7",
   "metadata": {},
   "outputs": [],
   "source": [
    "\n",
    "mount_point = '/gdata/s8id-dmdtn/'\n",
    "\n",
    "fn_dir = mount_point + '/2022-1/babnigg202203/cluster_results_QZ/'\n",
    "fn = 'D0138_Buffer_034C_att00_Rq0_00001_0001-100000.hdf'\n",
    "\n",
    "with h5py.File(fn_dir+fn, 'r') as HDF_Result:\n",
    "    det_dist = np.squeeze(HDF_Result.get('/measurement/instrument/detector/distance')[()])\n",
    "    pix_dim_x = np.squeeze(HDF_Result.get('/measurement/instrument/detector/x_pixel_size')[()])\n",
    "    pix_dim_y = np.squeeze(HDF_Result.get('/measurement/instrument/detector/x_pixel_size')[()])\n",
    "    Up_IC = np.squeeze(HDF_Result.get('/measurement/instrument/source_end/I0Monitor')[()])\n",
    "    Dn_IC = np.squeeze(HDF_Result.get('/measurement/instrument/source_end/TransmissionMonitor')[()])\n",
    "    sample_thickness = np.squeeze(HDF_Result.get('/measurement/sample/thickness')[()])\n",
    "\n",
    "    num_frames = np.squeeze(HDF_Result.get('/xpcs/data_end')[()])\n",
    "    t0 = np.squeeze(HDF_Result.get('/measurement/instrument/detector/exposure_period')[()])\n",
    "\n",
    "t_exp = t0*num_frames\n",
    "F_ec = 6.25e4*(Up_IC/t_exp)-1.28e7\n",
    "T_ec = Dn_IC/Up_IC/0.868\n",
    "f = sample_thickness\n",
    "Delta_Omega = (pix_dim_x/det_dist)*(pix_dim_y/det_dist)\n",
    "\n",
    "coef_buf = num_frames/(t_exp*F_ec*T_ec*f*Delta_Omega)\n"
   ]
  },
  {
   "cell_type": "code",
   "execution_count": 4,
   "id": "cb3e24d3-28cc-4ad0-9a10-51cffbe6e22a",
   "metadata": {},
   "outputs": [
    {
     "name": "stdout",
     "output_type": "stream",
     "text": [
      "Absolute scattering cross-section coefficient for the sample is 6.93e+04\n",
      "Absolute scattering cross-section coefficient for the sample is 7.62e+04\n"
     ]
    }
   ],
   "source": [
    "\n",
    "print(f'Absolute scattering cross-section coefficient for the sample is {coef_sam:.2e}')\n",
    "print(f'Absolute scattering cross-section coefficient for the sample is {coef_buf:.2e}')\n"
   ]
  }
 ],
 "metadata": {
  "kernelspec": {
   "display_name": "Python 3 (ipykernel)",
   "language": "python",
   "name": "python3"
  },
  "language_info": {
   "codemirror_mode": {
    "name": "ipython",
    "version": 3
   },
   "file_extension": ".py",
   "mimetype": "text/x-python",
   "name": "python",
   "nbconvert_exporter": "python",
   "pygments_lexer": "ipython3",
   "version": "3.9.7"
  }
 },
 "nbformat": 4,
 "nbformat_minor": 5
}
