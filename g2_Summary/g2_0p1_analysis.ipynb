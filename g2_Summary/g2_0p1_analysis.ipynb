{
 "cells": [
  {
   "cell_type": "markdown",
   "id": "80b78df8-b697-42d0-91f0-6619aec8cb70",
   "metadata": {},
   "source": [
    "### Synopsis\n",
    "This code averages and reduces the g2 during temperature ramping (with smaller averaing window to provide more sampling points)"
   ]
  },
  {
   "cell_type": "code",
   "execution_count": 1,
   "id": "9208e4d8",
   "metadata": {},
   "outputs": [],
   "source": [
    "import numpy as np\n",
    "import matplotlib.pyplot as plt\n",
    "import pickle\n",
    "\n",
    "import sys\n",
    "sys.path.append('../common')\n",
    "from utils import process_group\n",
    "\n",
    "# mount_point = '/gdata/s8id-dmdtn/'\n",
    "# fpath1 = mount_point + '2021-2/babnigg202107_2/cluster_results_QZ'\n",
    "# fpath2 = mount_point + '2022-1/babnigg202203/cluster_results_QZ'\n",
    "\n",
    "mount_point = \"/home/8-id-i/2024-3/2024_1228_qz_llps_analysis/2025_08_analysis/\"\n",
    "fpath1 = mount_point + '2021-2/cluster_results_all'\n",
    "fpath2 = mount_point + '2022-2/cluster_results_all'\n",
    "\n",
    "coef_sam = 6.93e4  # Absolute scattering cross-section coefficient for the samples\n",
    "coef_buf = 7.62e4  # Absolute scattering cross-section coefficient for the buffer\n"
   ]
  },
  {
   "cell_type": "markdown",
   "id": "314322eb-da65-4169-b317-9313f6a2e7ee",
   "metadata": {},
   "source": [
    "### Averaging g2 for temperature ramping up for H02"
   ]
  },
  {
   "cell_type": "code",
   "execution_count": 2,
   "id": "080ebc8d",
   "metadata": {},
   "outputs": [
    {
     "name": "stdout",
     "output_type": "stream",
     "text": [
      "index\t T-min(C)\t T-max(C)\t T-mean(C)\t points\n",
      "n=00\t    20.66\t    21.87\t  21.2698\t 136\n",
      "n=01\t    21.88\t     23.1\t  22.4962\t 136\n",
      "n=02\t    23.12\t    24.33\t  23.7245\t 136\n",
      "n=03\t    24.34\t    25.56\t  24.9493\t 136\n",
      "n=04\t    25.57\t     26.8\t  26.1768\t 136\n",
      "n=05\t     26.8\t    28.02\t  27.4124\t 136\n",
      "n=06\t    28.03\t    29.25\t   28.639\t 136\n",
      "n=07\t    29.26\t    30.47\t  29.8653\t 136\n",
      "n=08\t    30.47\t    31.71\t  31.0986\t 136\n",
      "n=09\t    31.72\t    32.94\t  32.3334\t 136\n",
      "n=10\t    32.95\t    34.17\t  33.5656\t 135\n",
      "n=11\t    34.18\t     35.4\t  34.7941\t 135\n",
      "n=12\t    35.41\t    36.63\t  36.0217\t 135\n",
      "n=13\t    36.64\t    37.86\t  37.2484\t 135\n",
      "n=14\t    37.87\t    39.09\t  38.4756\t 135\n",
      "n=15\t    39.09\t    40.34\t  39.7136\t 135\n",
      "n=16\t    40.34\t    41.58\t  40.9547\t 135\n",
      "n=17\t    41.57\t    42.79\t  42.1824\t 135\n",
      "n=18\t    42.79\t    44.01\t  43.4058\t 135\n",
      "n=19\t    44.01\t    45.23\t  44.6307\t 135\n"
     ]
    }
   ],
   "source": [
    "# H02\n",
    "avg_H02, t_el, ql_dyn, ql_sta = process_group(group='B039',\n",
    "                                              num_sections=20,\n",
    "                                              prefix=fpath1, \n",
    "                                              zone_idx='auto',\n",
    "                                              num_cores=24,\n",
    "                                              skip_first_files=70,\n",
    "                                              skip_last_files=0)"
   ]
  },
  {
   "cell_type": "markdown",
   "id": "a0d9ca31-e21f-4d95-9806-01ee55c50923",
   "metadata": {},
   "source": [
    "\n",
    "### Averaging g2 for temperature ramping up for H04\n"
   ]
  },
  {
   "cell_type": "code",
   "execution_count": 3,
   "id": "38e9bd38",
   "metadata": {},
   "outputs": [
    {
     "name": "stdout",
     "output_type": "stream",
     "text": [
      "index\t T-min(C)\t T-max(C)\t T-mean(C)\t points\n",
      "n=00\t    20.01\t    21.07\t  20.5428\t 120\n",
      "n=01\t    21.08\t    22.15\t  21.6162\t 120\n",
      "n=02\t    22.15\t     23.2\t  22.6776\t 120\n",
      "n=03\t    23.21\t    24.27\t  23.7387\t 120\n",
      "n=04\t    24.28\t    25.35\t   24.815\t 120\n",
      "n=05\t    25.35\t    26.41\t  25.8803\t 120\n",
      "n=06\t    26.42\t    27.49\t  26.9545\t 120\n",
      "n=07\t    27.49\t    28.56\t  28.0278\t 120\n",
      "n=08\t    28.58\t    29.63\t  29.0962\t 120\n",
      "n=09\t    29.64\t    30.71\t    30.17\t 119\n",
      "n=10\t    30.73\t    31.77\t  31.2451\t 119\n",
      "n=11\t    31.77\t    32.85\t  32.3104\t 119\n",
      "n=12\t    32.86\t    33.91\t  33.3849\t 119\n",
      "n=13\t    33.92\t    34.99\t  34.4613\t 119\n",
      "n=14\t     35.0\t    36.05\t  35.5318\t 119\n",
      "n=15\t    36.07\t    37.12\t  36.5973\t 119\n",
      "n=16\t    37.13\t    38.22\t  37.6797\t 119\n",
      "n=17\t    38.23\t    39.28\t  38.7471\t 119\n",
      "n=18\t    39.29\t    40.36\t  39.8242\t 119\n",
      "n=19\t    40.37\t    41.42\t  40.8936\t 119\n"
     ]
    }
   ],
   "source": [
    "# H04\n",
    "avg_H04, t_el, ql_dyn, ql_sta = process_group(group='T214',\n",
    "                                              num_sections=20,\n",
    "                                              prefix=fpath1, \n",
    "                                              zone_idx=1,\n",
    "                                              num_cores=24)"
   ]
  },
  {
   "cell_type": "markdown",
   "id": "76391d88-7c75-4fb1-a525-4b4b2802e3d0",
   "metadata": {},
   "source": [
    "\n",
    "### Averaging g2 for temperature ramping up for H06\n"
   ]
  },
  {
   "cell_type": "code",
   "execution_count": 4,
   "id": "3575288f",
   "metadata": {},
   "outputs": [
    {
     "name": "stdout",
     "output_type": "stream",
     "text": [
      "index\t T-min(C)\t T-max(C)\t T-mean(C)\t points\n",
      "n=00\t    20.01\t    20.63\t  20.3208\t 60\n",
      "n=01\t    20.64\t    21.28\t  20.9708\t 60\n",
      "n=02\t     21.3\t    21.91\t  21.6058\t 60\n",
      "n=03\t    21.92\t    22.54\t   22.228\t 60\n",
      "n=04\t    22.55\t    23.17\t  22.8647\t 60\n",
      "n=05\t    23.18\t    23.81\t  23.5027\t 60\n",
      "n=06\t    23.82\t    24.43\t  24.1247\t 60\n",
      "n=07\t    24.43\t    25.07\t  24.7625\t 60\n",
      "n=08\t    25.08\t    25.69\t   25.399\t 60\n",
      "n=09\t     25.7\t    26.35\t  26.0325\t 60\n",
      "n=10\t    26.36\t     27.0\t  26.6807\t 60\n",
      "n=11\t    27.02\t    27.65\t   27.335\t 60\n",
      "n=12\t    27.67\t    28.31\t  27.9847\t 60\n",
      "n=13\t    28.32\t    28.97\t  28.6455\t 60\n",
      "n=14\t    28.98\t    29.59\t   29.289\t 60\n",
      "n=15\t     29.6\t    30.26\t  29.9333\t 60\n",
      "n=16\t    30.27\t    30.91\t  30.5813\t 60\n",
      "n=17\t    30.92\t    31.59\t  31.2427\t 60\n",
      "n=18\t     31.6\t     32.2\t  31.9027\t 59\n",
      "n=19\t    32.21\t    32.84\t  32.5266\t 59\n"
     ]
    }
   ],
   "source": [
    "\n",
    "avg_H06, t_el, ql_dyn, ql_sta = process_group(group='E0110', \n",
    "                                              num_sections=20,\n",
    "                                              prefix=fpath2,\n",
    "                                              zone_idx='auto',\n",
    "                                              num_cores=24)"
   ]
  },
  {
   "cell_type": "markdown",
   "id": "4b3e317c-d6aa-4af9-8f56-b92f3b9c73b2",
   "metadata": {},
   "source": [
    "### Dump the results into `.pickle` file"
   ]
  },
  {
   "cell_type": "code",
   "execution_count": 5,
   "id": "fdd7c182",
   "metadata": {},
   "outputs": [],
   "source": [
    "\n",
    "with open('checkpoint.pickle', 'wb') as f: \n",
    "    pickle.dump(avg_H02, f)  \n",
    "    pickle.dump(avg_H04, f)\n",
    "    pickle.dump(avg_H06, f)\n",
    "    pickle.dump(t_el, f)\n",
    "    pickle.dump(ql_dyn, f)\n",
    "    pickle.dump(ql_sta, f)\n",
    "    "
   ]
  },
  {
   "cell_type": "code",
   "execution_count": null,
   "id": "7ce308f8-89bc-4996-87a5-8703afdb9864",
   "metadata": {},
   "outputs": [],
   "source": []
  }
 ],
 "metadata": {
  "kernelspec": {
   "display_name": "Python 3 (ipykernel)",
   "language": "python",
   "name": "python3"
  },
  "language_info": {
   "codemirror_mode": {
    "name": "ipython",
    "version": 3
   },
   "file_extension": ".py",
   "mimetype": "text/x-python",
   "name": "python",
   "nbconvert_exporter": "python",
   "pygments_lexer": "ipython3",
   "version": "3.12.8"
  }
 },
 "nbformat": 4,
 "nbformat_minor": 5
}
