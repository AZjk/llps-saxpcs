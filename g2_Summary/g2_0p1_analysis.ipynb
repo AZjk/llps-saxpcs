{
 "cells": [
  {
   "cell_type": "markdown",
   "id": "80b78df8-b697-42d0-91f0-6619aec8cb70",
   "metadata": {},
   "source": [
    "### Synopsis\n",
    "This code averages and reduces the g2 during temperature ramping (with smaller averaing window to provide more sampling points)"
   ]
  },
  {
   "cell_type": "code",
   "execution_count": 6,
   "id": "9208e4d8",
   "metadata": {},
   "outputs": [],
   "source": [
    "import numpy as np\n",
    "import matplotlib.pyplot as plt\n",
    "import pickle\n",
    "\n",
    "import sys\n",
    "sys.path.append('../common')\n",
    "from utils import process_group\n",
    "\n",
    "fpath1 ='/home/8ididata/2021-2/babnigg202107_2/cluster_results_QZ'\n",
    "fpath2 ='/home/8ididata/2022-1/babnigg202203/cluster_results_QZ'\n"
   ]
  },
  {
   "cell_type": "markdown",
   "id": "314322eb-da65-4169-b317-9313f6a2e7ee",
   "metadata": {},
   "source": [
    "### Averaging g2 for temperature ramping up for H02"
   ]
  },
  {
   "cell_type": "code",
   "execution_count": 2,
   "id": "080ebc8d",
   "metadata": {},
   "outputs": [
    {
     "name": "stderr",
     "output_type": "stream",
     "text": [
      "2023-12-25 14:02:30,465 utils                   : total number of files in B039  is 2780\n",
      "2023-12-25 14:04:25,484 utils                   : label='B039_section_00': remove 15 datasets out of 139\n",
      "2023-12-25 14:04:25,524 utils                   : label='B039_section_02': remove 16 datasets out of 139\n",
      "2023-12-25 14:04:25,585 utils                   : label='B039_section_01': remove 15 datasets out of 139\n",
      "2023-12-25 14:04:25,716 utils                   : label='B039_section_05': remove 14 datasets out of 139\n",
      "2023-12-25 14:04:25,725 utils                   : label='B039_section_03': remove 14 datasets out of 139\n",
      "2023-12-25 14:04:25,717 utils                   : label='B039_section_04': remove 15 datasets out of 139\n",
      "2023-12-25 14:04:25,749 utils                   : label='B039_section_06': remove 17 datasets out of 139\n",
      "2023-12-25 14:04:25,901 utils                   : label='B039_section_07': remove 16 datasets out of 139\n",
      "2023-12-25 14:04:25,952 utils                   : label='B039_section_11': remove 17 datasets out of 139\n",
      "2023-12-25 14:04:25,964 utils                   : label='B039_section_09': remove 15 datasets out of 139\n",
      "2023-12-25 14:04:25,982 utils                   : label='B039_section_16': remove 14 datasets out of 139\n",
      "2023-12-25 14:04:26,021 utils                   : label='B039_section_10': remove 16 datasets out of 139\n",
      "2023-12-25 14:04:26,015 utils                   : label='B039_section_12': remove 16 datasets out of 139\n",
      "2023-12-25 14:04:26,074 utils                   : label='B039_section_13': remove 15 datasets out of 139\n",
      "2023-12-25 14:04:26,106 utils                   : label='B039_section_17': remove 17 datasets out of 139\n",
      "2023-12-25 14:04:26,146 utils                   : label='B039_section_15': remove 17 datasets out of 139\n",
      "2023-12-25 14:04:26,207 utils                   : label='B039_section_08': remove 18 datasets out of 139\n",
      "2023-12-25 14:04:26,197 utils                   : label='B039_section_19': remove 16 datasets out of 139\n",
      "2023-12-25 14:04:26,385 utils                   : label='B039_section_14': remove 14 datasets out of 139\n",
      "2023-12-25 14:04:26,643 utils                   : label='B039_section_18': remove 16 datasets out of 139\n"
     ]
    }
   ],
   "source": [
    "# H02\n",
    "avg_H02, t_el, ql_dyn, ql_sta = process_group(group='B039',\n",
    "                                              num_sections=20,\n",
    "                                              prefix=fpath1, \n",
    "                                              zone_idx='auto',\n",
    "                                              num_cores=24)"
   ]
  },
  {
   "cell_type": "markdown",
   "id": "a0d9ca31-e21f-4d95-9806-01ee55c50923",
   "metadata": {},
   "source": [
    "\n",
    "### Averaging g2 for temperature ramping up for H04\n"
   ]
  },
  {
   "cell_type": "code",
   "execution_count": 3,
   "id": "38e9bd38",
   "metadata": {},
   "outputs": [
    {
     "name": "stderr",
     "output_type": "stream",
     "text": [
      "2023-12-25 14:04:27,729 utils                   : total number of files in T214  is 2390\n",
      "2023-12-25 14:04:56,636 xpcs_viewer.fileIO.hdf_reader: key not found: /exchange/norm-0-g2\n",
      "2023-12-25 14:04:56,642 utils                   : failed to read file /home/8ididata/2021-2/babnigg202107_2/cluster_results_QZ/T214_H04_2nd_500C10p_att00_Rq0_01075_0001-100000.hdf, skip this file\n",
      "2023-12-25 14:05:00,369 utils                   : label='T214_section_00': remove 13 datasets out of 120\n",
      "2023-12-25 14:05:00,423 utils                   : label='T214_section_02': remove 16 datasets out of 120\n",
      "2023-12-25 14:05:00,504 utils                   : label='T214_section_03': remove 13 datasets out of 120\n",
      "2023-12-25 14:05:00,530 utils                   : label='T214_section_01': remove 13 datasets out of 120\n",
      "2023-12-25 14:05:00,551 utils                   : label='T214_section_05': remove 15 datasets out of 120\n",
      "2023-12-25 14:05:00,700 utils                   : label='T214_section_04': remove 14 datasets out of 120\n",
      "2023-12-25 14:05:00,711 utils                   : label='T214_section_07': remove 13 datasets out of 120\n",
      "2023-12-25 14:05:00,723 utils                   : label='T214_section_08': remove 13 datasets out of 119\n",
      "2023-12-25 14:05:00,723 utils                   : label='T214_section_10': remove 15 datasets out of 119\n",
      "2023-12-25 14:05:00,737 utils                   : label='T214_section_06': remove 14 datasets out of 120\n",
      "2023-12-25 14:05:00,739 utils                   : label='T214_section_14': remove 15 datasets out of 119\n",
      "2023-12-25 14:05:00,791 utils                   : label='T214_section_16': remove 14 datasets out of 119\n",
      "2023-12-25 14:05:00,854 utils                   : label='T214_section_15': remove 14 datasets out of 119\n",
      "2023-12-25 14:05:00,890 utils                   : label='T214_section_11': remove 15 datasets out of 119\n",
      "2023-12-25 14:05:00,985 utils                   : label='T214_section_13': remove 15 datasets out of 119\n",
      "2023-12-25 14:05:00,993 utils                   : label='T214_section_09': remove 16 datasets out of 120\n",
      "2023-12-25 14:05:01,010 utils                   : label='T214_section_12': remove 15 datasets out of 119\n",
      "2023-12-25 14:05:01,025 utils                   : label='T214_section_17': remove 17 datasets out of 119\n",
      "2023-12-25 14:05:01,185 utils                   : label='T214_section_19': remove 12 datasets out of 119\n",
      "2023-12-25 14:05:01,479 utils                   : label='T214_section_18': remove 14 datasets out of 119\n"
     ]
    }
   ],
   "source": [
    "# H04\n",
    "avg_H04, t_el, ql_dyn, ql_sta = process_group(group='T214',\n",
    "                                              num_sections=20,\n",
    "                                              prefix=fpath1, \n",
    "                                              zone_idx=1,\n",
    "                                              num_cores=24)"
   ]
  },
  {
   "cell_type": "markdown",
   "id": "76391d88-7c75-4fb1-a525-4b4b2802e3d0",
   "metadata": {},
   "source": [
    "\n",
    "### Averaging g2 for temperature ramping up for H06\n"
   ]
  },
  {
   "cell_type": "code",
   "execution_count": 4,
   "id": "3575288f",
   "metadata": {},
   "outputs": [
    {
     "name": "stderr",
     "output_type": "stream",
     "text": [
      "2023-12-25 14:05:02,650 utils                   : total number of files in E0110  is 1200\n",
      "2023-12-25 14:05:03,130 utils                   : Failed to get temperature for file /home/8ididata/2022-1/babnigg202203/cluster_results_QZ/E0110_S3_4_Ramp_340C10p_att00_Rq0_00493_0001-100000.hdf, return nan\n",
      "2023-12-25 14:05:03,294 utils                   : Failed to get temperature for file /home/8ididata/2022-1/babnigg202203/cluster_results_QZ/E0110_S3_4_Ramp_340C10p_att00_Rq0_00618_0001-100000.hdf, return nan\n",
      "2023-12-25 14:05:15,525 xpcs_viewer.fileIO.hdf_reader: key not found: /exchange/norm-0-g2\n",
      "2023-12-25 14:05:15,531 utils                   : failed to read file /home/8ididata/2022-1/babnigg202203/cluster_results_QZ/E0110_S3_4_Ramp_340C10p_att00_Rq0_00493_0001-100000.hdf, skip this file\n",
      "2023-12-25 14:05:20,436 xpcs_viewer.fileIO.hdf_reader: key not found: /exchange/norm-0-g2\n",
      "2023-12-25 14:05:20,444 utils                   : failed to read file /home/8ididata/2022-1/babnigg202203/cluster_results_QZ/E0110_S3_4_Ramp_340C10p_att00_Rq0_00618_0001-100000.hdf, skip this file\n",
      "2023-12-25 14:06:03,000 utils                   : label='E0110_section_02': remove 7 datasets out of 60\n",
      "2023-12-25 14:06:03,030 utils                   : label='E0110_section_03': remove 6 datasets out of 60\n",
      "2023-12-25 14:06:03,030 utils                   : label='E0110_section_00': remove 8 datasets out of 60\n",
      "2023-12-25 14:06:03,045 utils                   : label='E0110_section_01': remove 9 datasets out of 60\n",
      "2023-12-25 14:06:03,102 utils                   : label='E0110_section_07': remove 9 datasets out of 60\n",
      "2023-12-25 14:06:03,111 utils                   : label='E0110_section_05': remove 7 datasets out of 60\n",
      "2023-12-25 14:06:03,158 utils                   : label='E0110_section_08': remove 7 datasets out of 59\n",
      "2023-12-25 14:06:03,146 utils                   : label='E0110_section_06': remove 8 datasets out of 60\n",
      "2023-12-25 14:06:03,192 utils                   : label='E0110_section_09': remove 8 datasets out of 60\n",
      "2023-12-25 14:06:03,176 utils                   : label='E0110_section_17': remove 6 datasets out of 60\n",
      "2023-12-25 14:06:03,188 utils                   : label='E0110_section_14': remove 7 datasets out of 60\n",
      "2023-12-25 14:06:03,197 utils                   : label='E0110_section_04': remove 8 datasets out of 60\n",
      "2023-12-25 14:06:03,207 utils                   : label='E0110_section_15': remove 7 datasets out of 60\n",
      "2023-12-25 14:06:03,176 utils                   : label='E0110_section_16': remove 7 datasets out of 60\n",
      "2023-12-25 14:06:03,232 utils                   : label='E0110_section_12': remove 8 datasets out of 60\n",
      "2023-12-25 14:06:03,262 utils                   : label='E0110_section_10': remove 8 datasets out of 59\n",
      "2023-12-25 14:06:03,248 utils                   : label='E0110_section_13': remove 9 datasets out of 60\n",
      "2023-12-25 14:06:03,268 utils                   : label='E0110_section_11': remove 8 datasets out of 60\n",
      "2023-12-25 14:06:03,418 utils                   : label='E0110_section_18': remove 6 datasets out of 60\n",
      "2023-12-25 14:06:03,559 utils                   : label='E0110_section_19': remove 8 datasets out of 60\n"
     ]
    }
   ],
   "source": [
    "\n",
    "avg_H06, t_el, ql_dyn, ql_sta = process_group(group='E0110', \n",
    "                                              num_sections=20,\n",
    "                                              prefix=fpath2,\n",
    "                                              zone_idx='auto',\n",
    "                                              num_cores=24)"
   ]
  },
  {
   "cell_type": "markdown",
   "id": "4b3e317c-d6aa-4af9-8f56-b92f3b9c73b2",
   "metadata": {},
   "source": [
    "### Dump the results into `.pickle` file"
   ]
  },
  {
   "cell_type": "code",
   "execution_count": 7,
   "id": "fdd7c182",
   "metadata": {},
   "outputs": [],
   "source": [
    "\n",
    "with open('checkpoint.pickle', 'wb') as f: \n",
    "    pickle.dump(avg_H02, f)  \n",
    "    pickle.dump(avg_H04, f)\n",
    "    pickle.dump(avg_H06, f)\n",
    "    pickle.dump(t_el, f)\n",
    "    pickle.dump(ql_dyn, f)\n",
    "    "
   ]
  },
  {
   "cell_type": "code",
   "execution_count": null,
   "id": "7ce308f8-89bc-4996-87a5-8703afdb9864",
   "metadata": {},
   "outputs": [],
   "source": []
  }
 ],
 "metadata": {
  "kernelspec": {
   "display_name": "Python 3 (ipykernel)",
   "language": "python",
   "name": "python3"
  },
  "language_info": {
   "codemirror_mode": {
    "name": "ipython",
    "version": 3
   },
   "file_extension": ".py",
   "mimetype": "text/x-python",
   "name": "python",
   "nbconvert_exporter": "python",
   "pygments_lexer": "ipython3",
   "version": "3.9.16"
  }
 },
 "nbformat": 4,
 "nbformat_minor": 5
}
