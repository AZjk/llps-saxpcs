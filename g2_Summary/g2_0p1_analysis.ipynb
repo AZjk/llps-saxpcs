{
 "cells": [
  {
   "cell_type": "markdown",
   "id": "80b78df8-b697-42d0-91f0-6619aec8cb70",
   "metadata": {},
   "source": [
    "### Synopsis\n",
    "This code averages and reduces the g2 during temperature ramping (with smaller averaing window to provide more sampling points)"
   ]
  },
  {
   "cell_type": "code",
   "execution_count": 1,
   "id": "9208e4d8",
   "metadata": {},
   "outputs": [],
   "source": [
    "import numpy as np\n",
    "import matplotlib.pyplot as plt\n",
    "import pickle\n",
    "\n",
    "import sys\n",
    "sys.path.append('../common')\n",
    "from utils import process_group\n",
    "\n",
    "# mount_point = '/gdata/s8id-dmdtn/'\n",
    "# fpath1 = mount_point + '2021-2/babnigg202107_2/cluster_results_QZ'\n",
    "# fpath2 = mount_point + '2022-1/babnigg202203/cluster_results_QZ'\n",
    "\n",
    "mount_point = \"/home/8-id-i/2024-3/2024_1228_qz_llps_analysis/2025_08_analysis/\"\n",
    "fpath1 = mount_point + '2021-2/cluster_results_all'\n",
    "fpath2 = mount_point + '2022-1/cluster_results_all'\n",
    "\n",
    "coef_sam = 6.93e4  # Absolute scattering cross-section coefficient for the samples\n",
    "coef_buf = 7.62e4  # Absolute scattering cross-section coefficient for the buffer\n"
   ]
  },
  {
   "cell_type": "markdown",
   "id": "314322eb-da65-4169-b317-9313f6a2e7ee",
   "metadata": {},
   "source": [
    "### Averaging g2 for temperature ramping up for H02"
   ]
  },
  {
   "cell_type": "code",
   "execution_count": 2,
   "id": "080ebc8d",
   "metadata": {},
   "outputs": [
    {
     "ename": "AssertionError",
     "evalue": "no dataset is found in /home/8-id-i/2024-3/2024_1228_qz_llps_analysis/2025_08_analysis/2021-2/cluster_results_all",
     "output_type": "error",
     "traceback": [
      "\u001b[31m---------------------------------------------------------------------------\u001b[39m",
      "\u001b[31mAssertionError\u001b[39m                            Traceback (most recent call last)",
      "\u001b[36mCell\u001b[39m\u001b[36m \u001b[39m\u001b[32mIn[2]\u001b[39m\u001b[32m, line 2\u001b[39m\n\u001b[32m      1\u001b[39m \u001b[38;5;66;03m# H02\u001b[39;00m\n\u001b[32m----> \u001b[39m\u001b[32m2\u001b[39m avg_H02, t_el, ql_dyn, ql_sta = \u001b[43mprocess_group\u001b[49m\u001b[43m(\u001b[49m\u001b[43mgroup\u001b[49m\u001b[43m=\u001b[49m\u001b[33;43m'\u001b[39;49m\u001b[33;43mB039\u001b[39;49m\u001b[33;43m'\u001b[39;49m\u001b[43m,\u001b[49m\n\u001b[32m      3\u001b[39m \u001b[43m                                              \u001b[49m\u001b[43mnum_sections\u001b[49m\u001b[43m=\u001b[49m\u001b[32;43m20\u001b[39;49m\u001b[43m,\u001b[49m\n\u001b[32m      4\u001b[39m \u001b[43m                                              \u001b[49m\u001b[43mprefix\u001b[49m\u001b[43m=\u001b[49m\u001b[43mfpath1\u001b[49m\u001b[43m,\u001b[49m\u001b[43m \u001b[49m\n\u001b[32m      5\u001b[39m \u001b[43m                                              \u001b[49m\u001b[43mzone_idx\u001b[49m\u001b[43m=\u001b[49m\u001b[33;43m'\u001b[39;49m\u001b[33;43mauto\u001b[39;49m\u001b[33;43m'\u001b[39;49m\u001b[43m,\u001b[49m\n\u001b[32m      6\u001b[39m \u001b[43m                                              \u001b[49m\u001b[43mnum_cores\u001b[49m\u001b[43m=\u001b[49m\u001b[32;43m24\u001b[39;49m\u001b[43m,\u001b[49m\n\u001b[32m      7\u001b[39m \u001b[43m                                              \u001b[49m\u001b[43mskip_first_files\u001b[49m\u001b[43m=\u001b[49m\u001b[32;43m70\u001b[39;49m\u001b[43m,\u001b[49m\n\u001b[32m      8\u001b[39m \u001b[43m                                              \u001b[49m\u001b[43mskip_last_files\u001b[49m\u001b[43m=\u001b[49m\u001b[32;43m0\u001b[39;49m\u001b[43m)\u001b[49m\n",
      "\u001b[36mFile \u001b[39m\u001b[32m/home/beams10/8IDIUSER/Documents/llps-saxpcs/g2_Summary/../common/utils.py:295\u001b[39m, in \u001b[36mprocess_group\u001b[39m\u001b[34m(group, prefix, num_sections, zone_idx, num_cores, skip_first_files, skip_last_files)\u001b[39m\n\u001b[32m    293\u001b[39m flist = glob.glob(os.path.join(prefix, \u001b[33mf\u001b[39m\u001b[33m'\u001b[39m\u001b[38;5;132;01m{\u001b[39;00mgroup\u001b[38;5;132;01m}\u001b[39;00m\u001b[33m*.hdf\u001b[39m\u001b[33m'\u001b[39m))\n\u001b[32m    294\u001b[39m flist.sort()\n\u001b[32m--> \u001b[39m\u001b[32m295\u001b[39m \u001b[38;5;28;01massert\u001b[39;00m \u001b[38;5;28mlen\u001b[39m(flist) > \u001b[32m0\u001b[39m, \u001b[33mf\u001b[39m\u001b[33m'\u001b[39m\u001b[33mno dataset is found in \u001b[39m\u001b[38;5;132;01m{\u001b[39;00mprefix\u001b[38;5;132;01m}\u001b[39;00m\u001b[33m'\u001b[39m\n\u001b[32m    297\u001b[39m logger.info(\u001b[33mf\u001b[39m\u001b[33m'\u001b[39m\u001b[33mtotal number of files in \u001b[39m\u001b[38;5;132;01m{\u001b[39;00mgroup\u001b[38;5;132;01m}\u001b[39;00m\u001b[33m  is \u001b[39m\u001b[38;5;132;01m{\u001b[39;00m\u001b[38;5;28mlen\u001b[39m(flist)\u001b[38;5;132;01m}\u001b[39;00m\u001b[33m'\u001b[39m)\n\u001b[32m    299\u001b[39m logger.info(\u001b[33mf\u001b[39m\u001b[33m'\u001b[39m\u001b[38;5;132;01m{\u001b[39;00mskip_first_files\u001b[38;5;132;01m=}\u001b[39;00m\u001b[33m, \u001b[39m\u001b[38;5;132;01m{\u001b[39;00mskip_last_files\u001b[38;5;132;01m=}\u001b[39;00m\u001b[33m'\u001b[39m)\n",
      "\u001b[31mAssertionError\u001b[39m: no dataset is found in /home/8-id-i/2024-3/2024_1228_qz_llps_analysis/2025_08_analysis/2021-2/cluster_results_all"
     ]
    }
   ],
   "source": [
    "# H02\n",
    "avg_H02, t_el, ql_dyn, ql_sta = process_group(group='B039',\n",
    "                                              num_sections=20,\n",
    "                                              prefix=fpath1, \n",
    "                                              zone_idx='auto',\n",
    "                                              num_cores=24,\n",
    "                                              skip_first_files=70,\n",
    "                                              skip_last_files=0)"
   ]
  },
  {
   "cell_type": "markdown",
   "id": "a0d9ca31-e21f-4d95-9806-01ee55c50923",
   "metadata": {},
   "source": [
    "\n",
    "### Averaging g2 for temperature ramping up for H04\n"
   ]
  },
  {
   "cell_type": "code",
   "execution_count": null,
   "id": "38e9bd38",
   "metadata": {},
   "outputs": [],
   "source": [
    "# H04\n",
    "avg_H04, t_el, ql_dyn, ql_sta = process_group(group='T214',\n",
    "                                              num_sections=20,\n",
    "                                              prefix=fpath1, \n",
    "                                              zone_idx=1,\n",
    "                                              num_cores=24)"
   ]
  },
  {
   "cell_type": "markdown",
   "id": "76391d88-7c75-4fb1-a525-4b4b2802e3d0",
   "metadata": {},
   "source": [
    "\n",
    "### Averaging g2 for temperature ramping up for H06\n"
   ]
  },
  {
   "cell_type": "code",
   "execution_count": null,
   "id": "3575288f",
   "metadata": {},
   "outputs": [],
   "source": [
    "\n",
    "avg_H06, t_el, ql_dyn, ql_sta = process_group(group='E0110', \n",
    "                                              num_sections=20,\n",
    "                                              prefix=fpath2,\n",
    "                                              zone_idx='auto',\n",
    "                                              num_cores=24)"
   ]
  },
  {
   "cell_type": "markdown",
   "id": "4b3e317c-d6aa-4af9-8f56-b92f3b9c73b2",
   "metadata": {},
   "source": [
    "### Dump the results into `.pickle` file"
   ]
  },
  {
   "cell_type": "code",
   "execution_count": null,
   "id": "fdd7c182",
   "metadata": {},
   "outputs": [],
   "source": [
    "\n",
    "with open('checkpoint.pickle', 'wb') as f: \n",
    "    pickle.dump(avg_H02, f)  \n",
    "    pickle.dump(avg_H04, f)\n",
    "    pickle.dump(avg_H06, f)\n",
    "    pickle.dump(t_el, f)\n",
    "    pickle.dump(ql_dyn, f)\n",
    "    pickle.dump(ql_sta, f)\n",
    "    "
   ]
  },
  {
   "cell_type": "code",
   "execution_count": null,
   "id": "7ce308f8-89bc-4996-87a5-8703afdb9864",
   "metadata": {},
   "outputs": [],
   "source": []
  }
 ],
 "metadata": {
  "kernelspec": {
   "display_name": "Python 3 (ipykernel)",
   "language": "python",
   "name": "python3"
  },
  "language_info": {
   "codemirror_mode": {
    "name": "ipython",
    "version": 3
   },
   "file_extension": ".py",
   "mimetype": "text/x-python",
   "name": "python",
   "nbconvert_exporter": "python",
   "pygments_lexer": "ipython3",
   "version": "3.12.8"
  }
 },
 "nbformat": 4,
 "nbformat_minor": 5
}
