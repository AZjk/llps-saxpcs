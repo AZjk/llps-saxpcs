{
 "cells": [
  {
   "cell_type": "markdown",
   "id": "80b78df8-b697-42d0-91f0-6619aec8cb70",
   "metadata": {},
   "source": [
    "### Synopsis\n",
    "This code averages and reduces the g2 during temperature ramping (with smaller averaing window to provide more sampling points)"
   ]
  },
  {
   "cell_type": "code",
   "execution_count": 1,
   "id": "9208e4d8",
   "metadata": {},
   "outputs": [],
   "source": [
    "import numpy as np\n",
    "import matplotlib.pyplot as plt\n",
    "import pickle\n",
    "\n",
    "import sys\n",
    "sys.path.append('../common')\n",
    "from utils import process_group\n",
    "\n",
    "mount_point = '/gdata/s8id-dmdtn/'\n",
    "\n",
    "fpath1 = mount_point + '2021-2/babnigg202107_2/cluster_results_QZ'\n",
    "fpath2 = mount_point + '2022-1/babnigg202203/cluster_results_QZ'\n",
    "\n",
    "coef_sam = 6.93e4  # Absolute scattering cross-section coefficient for the samples\n",
    "coef_buf = 7.62e4  # Absolute scattering cross-section coefficient for the buffer\n"
   ]
  },
  {
   "cell_type": "markdown",
   "id": "314322eb-da65-4169-b317-9313f6a2e7ee",
   "metadata": {},
   "source": [
    "### Averaging g2 for temperature ramping up for H02"
   ]
  },
  {
   "cell_type": "code",
   "execution_count": 2,
   "id": "080ebc8d",
   "metadata": {},
   "outputs": [
    {
     "name": "stderr",
     "output_type": "stream",
     "text": [
      "2024-10-14 16:06:16,971 utils                   : total number of files in B039  is 2780\n",
      "2024-10-14 16:06:16,972 utils                   : skip_first_files=70, skip_last_files=0\n"
     ]
    },
    {
     "name": "stdout",
     "output_type": "stream",
     "text": [
      "index\t T-min(C)\t T-max(C)\t T-mean(C)\t points\n",
      "n=00\t    20.66\t    21.87\t  21.2698\t 136\n",
      "n=01\t    21.88\t     23.1\t  22.4962\t 136\n",
      "n=02\t    23.12\t    24.33\t  23.7245\t 136\n",
      "n=03\t    24.34\t    25.56\t  24.9493\t 136\n",
      "n=04\t    25.57\t     26.8\t  26.1768\t 136\n",
      "n=05\t     26.8\t    28.02\t  27.4124\t 136\n",
      "n=06\t    28.03\t    29.25\t   28.639\t 136\n",
      "n=07\t    29.26\t    30.47\t  29.8653\t 136\n",
      "n=08\t    30.47\t    31.71\t  31.0986\t 136\n",
      "n=09\t    31.72\t    32.94\t  32.3334\t 136\n",
      "n=10\t    32.95\t    34.17\t  33.5656\t 135\n",
      "n=11\t    34.18\t     35.4\t  34.7941\t 135\n",
      "n=12\t    35.41\t    36.63\t  36.0217\t 135\n",
      "n=13\t    36.64\t    37.86\t  37.2484\t 135\n",
      "n=14\t    37.87\t    39.09\t  38.4756\t 135\n",
      "n=15\t    39.09\t    40.34\t  39.7136\t 135\n",
      "n=16\t    40.34\t    41.58\t  40.9547\t 135\n",
      "n=17\t    41.57\t    42.79\t  42.1824\t 135\n",
      "n=18\t    42.79\t    44.01\t  43.4058\t 135\n",
      "n=19\t    44.01\t    45.23\t  44.6307\t 135\n"
     ]
    },
    {
     "name": "stderr",
     "output_type": "stream",
     "text": [
      "2024-10-14 16:07:35,776 utils                   : label='B039_section_01': remove 16 datasets out of 136\n",
      "2024-10-14 16:07:35,806 utils                   : label='B039_section_15': remove 17 datasets out of 135\n",
      "2024-10-14 16:07:35,807 utils                   : label='B039_section_16': remove 14 datasets out of 135\n",
      "2024-10-14 16:07:35,812 utils                   : label='B039_section_17': remove 15 datasets out of 135\n",
      "2024-10-14 16:07:35,817 utils                   : label='B039_section_04': remove 14 datasets out of 136\n",
      "2024-10-14 16:07:35,819 utils                   : label='B039_section_18': remove 15 datasets out of 135\n",
      "2024-10-14 16:07:35,820 utils                   : label='B039_section_19': remove 15 datasets out of 135\n",
      "2024-10-14 16:07:35,871 utils                   : label='B039_section_11': remove 15 datasets out of 135\n",
      "2024-10-14 16:07:35,906 utils                   : label='B039_section_03': remove 15 datasets out of 136\n",
      "2024-10-14 16:07:35,955 utils                   : label='B039_section_10': remove 16 datasets out of 135\n",
      "2024-10-14 16:07:35,962 utils                   : label='B039_section_02': remove 16 datasets out of 136\n",
      "2024-10-14 16:07:35,975 utils                   : label='B039_section_07': remove 17 datasets out of 136\n",
      "2024-10-14 16:07:35,977 utils                   : label='B039_section_09': remove 14 datasets out of 136\n",
      "2024-10-14 16:07:35,983 utils                   : label='B039_section_00': remove 17 datasets out of 136\n",
      "2024-10-14 16:07:35,999 utils                   : label='B039_section_14': remove 14 datasets out of 135\n",
      "2024-10-14 16:07:36,011 utils                   : label='B039_section_08': remove 15 datasets out of 136\n",
      "2024-10-14 16:07:36,014 utils                   : label='B039_section_06': remove 17 datasets out of 136\n",
      "2024-10-14 16:07:36,022 utils                   : label='B039_section_05': remove 18 datasets out of 136\n",
      "2024-10-14 16:07:36,033 utils                   : label='B039_section_13': remove 15 datasets out of 135\n",
      "2024-10-14 16:07:36,043 utils                   : label='B039_section_12': remove 16 datasets out of 135\n"
     ]
    }
   ],
   "source": [
    "# H02\n",
    "avg_H02, t_el, ql_dyn, ql_sta = process_group(group='B039',\n",
    "                                              num_sections=20,\n",
    "                                              prefix=fpath1, \n",
    "                                              zone_idx='auto',\n",
    "                                              num_cores=24,\n",
    "                                              skip_first_files=70,\n",
    "                                              skip_last_files=0)"
   ]
  },
  {
   "cell_type": "markdown",
   "id": "a0d9ca31-e21f-4d95-9806-01ee55c50923",
   "metadata": {},
   "source": [
    "\n",
    "### Averaging g2 for temperature ramping up for H04\n"
   ]
  },
  {
   "cell_type": "code",
   "execution_count": 3,
   "id": "38e9bd38",
   "metadata": {},
   "outputs": [
    {
     "name": "stderr",
     "output_type": "stream",
     "text": [
      "2024-10-14 16:07:36,093 utils                   : total number of files in T214  is 2390\n",
      "2024-10-14 16:07:36,094 utils                   : skip_first_files=0, skip_last_files=0\n"
     ]
    },
    {
     "name": "stdout",
     "output_type": "stream",
     "text": [
      "index\t T-min(C)\t T-max(C)\t T-mean(C)\t points\n",
      "n=00\t    20.01\t    21.07\t  20.5428\t 120\n",
      "n=01\t    21.08\t    22.15\t  21.6162\t 120\n",
      "n=02\t    22.15\t     23.2\t  22.6776\t 120\n",
      "n=03\t    23.21\t    24.27\t  23.7387\t 120\n",
      "n=04\t    24.28\t    25.35\t   24.815\t 120\n",
      "n=05\t    25.35\t    26.41\t  25.8803\t 120\n",
      "n=06\t    26.42\t    27.49\t  26.9545\t 120\n",
      "n=07\t    27.49\t    28.56\t  28.0278\t 120\n",
      "n=08\t    28.58\t    29.63\t  29.0957\t 120\n",
      "n=09\t    29.63\t    30.71\t  30.1655\t 120\n",
      "n=10\t    30.73\t    31.77\t  31.2451\t 119\n",
      "n=11\t    31.77\t    32.85\t  32.3104\t 119\n",
      "n=12\t    32.86\t    33.91\t  33.3849\t 119\n",
      "n=13\t    33.92\t    34.99\t  34.4613\t 119\n",
      "n=14\t     35.0\t    36.05\t  35.5318\t 119\n",
      "n=15\t    36.07\t    37.12\t  36.5973\t 119\n",
      "n=16\t    37.13\t    38.22\t  37.6797\t 119\n",
      "n=17\t    38.23\t    39.28\t  38.7471\t 119\n",
      "n=18\t    39.29\t    40.36\t  39.8242\t 119\n",
      "n=19\t    40.37\t    41.42\t  40.8936\t 119\n"
     ]
    },
    {
     "name": "stderr",
     "output_type": "stream",
     "text": [
      "2024-10-14 16:08:48,787 xpcs_viewer.fileIO.hdf_reader: key not found: /exchange/partition-mean-partial\n",
      "2024-10-14 16:08:48,789 utils                   : failed to read file /gdata/s8id-dmdtn/2021-2/babnigg202107_2/cluster_results_QZ/T214_H04_2nd_500C10p_att00_Rq0_01075_0001-100000.hdf, skip this file\n",
      "2024-10-14 16:08:49,805 utils                   : label='T214_section_10': remove 15 datasets out of 119\n",
      "2024-10-14 16:08:49,825 utils                   : label='T214_section_16': remove 14 datasets out of 119\n",
      "2024-10-14 16:08:49,826 utils                   : label='T214_section_15': remove 14 datasets out of 119\n",
      "2024-10-14 16:08:49,832 utils                   : label='T214_section_17': remove 17 datasets out of 119\n",
      "2024-10-14 16:08:49,838 utils                   : label='T214_section_19': remove 12 datasets out of 119\n",
      "2024-10-14 16:08:49,863 utils                   : label='T214_section_02': remove 16 datasets out of 120\n",
      "2024-10-14 16:08:49,865 utils                   : label='T214_section_18': remove 14 datasets out of 119\n",
      "2024-10-14 16:08:49,878 utils                   : label='T214_section_12': remove 15 datasets out of 119\n",
      "2024-10-14 16:08:49,889 utils                   : label='T214_section_09': remove 16 datasets out of 120\n",
      "2024-10-14 16:08:49,892 utils                   : label='T214_section_06': remove 14 datasets out of 120\n",
      "2024-10-14 16:08:49,908 utils                   : label='T214_section_00': remove 13 datasets out of 120\n",
      "2024-10-14 16:08:49,941 utils                   : label='T214_section_01': remove 13 datasets out of 120\n",
      "2024-10-14 16:08:49,947 utils                   : label='T214_section_13': remove 15 datasets out of 119\n",
      "2024-10-14 16:08:49,959 utils                   : label='T214_section_04': remove 14 datasets out of 120\n",
      "2024-10-14 16:08:49,964 utils                   : label='T214_section_03': remove 13 datasets out of 120\n",
      "2024-10-14 16:08:49,967 utils                   : label='T214_section_07': remove 13 datasets out of 120\n",
      "2024-10-14 16:08:49,972 utils                   : label='T214_section_05': remove 15 datasets out of 120\n",
      "2024-10-14 16:08:49,976 utils                   : label='T214_section_08': remove 13 datasets out of 119\n",
      "2024-10-14 16:08:49,980 utils                   : label='T214_section_14': remove 15 datasets out of 119\n",
      "2024-10-14 16:08:49,986 utils                   : label='T214_section_11': remove 15 datasets out of 119\n"
     ]
    }
   ],
   "source": [
    "# H04\n",
    "avg_H04, t_el, ql_dyn, ql_sta = process_group(group='T214',\n",
    "                                              num_sections=20,\n",
    "                                              prefix=fpath1, \n",
    "                                              zone_idx=1,\n",
    "                                              num_cores=24)"
   ]
  },
  {
   "cell_type": "markdown",
   "id": "76391d88-7c75-4fb1-a525-4b4b2802e3d0",
   "metadata": {},
   "source": [
    "\n",
    "### Averaging g2 for temperature ramping up for H06\n"
   ]
  },
  {
   "cell_type": "code",
   "execution_count": 4,
   "id": "3575288f",
   "metadata": {},
   "outputs": [
    {
     "name": "stderr",
     "output_type": "stream",
     "text": [
      "2024-10-14 16:08:50,040 utils                   : total number of files in E0110  is 1200\n",
      "2024-10-14 16:08:50,041 utils                   : skip_first_files=0, skip_last_files=0\n",
      "2024-10-14 16:09:04,779 utils                   : Failed to get temperature for file /gdata/s8id-dmdtn/2022-1/babnigg202203/cluster_results_QZ/E0110_S3_4_Ramp_340C10p_att00_Rq0_00493_0001-100000.hdf, return nan\n",
      "2024-10-14 16:09:08,424 utils                   : Failed to get temperature for file /gdata/s8id-dmdtn/2022-1/babnigg202203/cluster_results_QZ/E0110_S3_4_Ramp_340C10p_att00_Rq0_00618_0001-100000.hdf, return nan\n"
     ]
    },
    {
     "name": "stdout",
     "output_type": "stream",
     "text": [
      "index\t T-min(C)\t T-max(C)\t T-mean(C)\t points\n",
      "n=00\t    20.01\t    20.63\t  20.3208\t 60\n",
      "n=01\t    20.64\t    21.28\t  20.9708\t 60\n",
      "n=02\t     21.3\t    21.91\t  21.6058\t 60\n",
      "n=03\t    21.92\t    22.54\t   22.228\t 60\n",
      "n=04\t    22.55\t    23.17\t  22.8647\t 60\n",
      "n=05\t    23.18\t    23.81\t  23.5027\t 60\n",
      "n=06\t    23.82\t    24.43\t  24.1247\t 60\n",
      "n=07\t    24.43\t    25.07\t  24.7625\t 60\n",
      "n=08\t      nan\t      nan\t      nan\t 60\n",
      "n=09\t    25.69\t    26.34\t  26.0215\t 60\n",
      "n=10\t      nan\t      nan\t      nan\t 60\n",
      "n=11\t    26.99\t    27.63\t  27.3133\t 60\n",
      "n=12\t    27.64\t    28.28\t  27.9627\t 60\n",
      "n=13\t     28.3\t    28.94\t  28.6237\t 60\n",
      "n=14\t    28.95\t    29.58\t  29.2682\t 60\n",
      "n=15\t    29.58\t    30.23\t   29.911\t 60\n",
      "n=16\t    30.25\t    30.88\t  30.5598\t 60\n",
      "n=17\t    30.89\t    31.56\t  31.2198\t 60\n",
      "n=18\t    31.58\t     32.2\t  31.8872\t 60\n",
      "n=19\t     32.2\t    32.84\t  32.5212\t 60\n"
     ]
    },
    {
     "name": "stderr",
     "output_type": "stream",
     "text": [
      "2024-10-14 16:09:25,875 xpcs_viewer.fileIO.hdf_reader: key not found: /exchange/partition-mean-partial\n",
      "2024-10-14 16:09:25,878 utils                   : failed to read file /gdata/s8id-dmdtn/2022-1/babnigg202203/cluster_results_QZ/E0110_S3_4_Ramp_340C10p_att00_Rq0_00493_0001-100000.hdf, skip this file\n",
      "2024-10-14 16:09:25,885 xpcs_viewer.fileIO.hdf_reader: key not found: /exchange/partition-mean-partial\n",
      "2024-10-14 16:09:25,888 utils                   : failed to read file /gdata/s8id-dmdtn/2022-1/babnigg202203/cluster_results_QZ/E0110_S3_4_Ramp_340C10p_att00_Rq0_00618_0001-100000.hdf, skip this file\n",
      "2024-10-14 16:09:26,819 utils                   : label='E0110_section_16': remove 7 datasets out of 60\n",
      "2024-10-14 16:09:26,820 utils                   : label='E0110_section_17': remove 6 datasets out of 60\n",
      "2024-10-14 16:09:26,820 utils                   : label='E0110_section_03': remove 6 datasets out of 60\n",
      "2024-10-14 16:09:26,822 utils                   : label='E0110_section_18': remove 6 datasets out of 60\n",
      "2024-10-14 16:09:26,824 utils                   : label='E0110_section_19': remove 8 datasets out of 60\n",
      "2024-10-14 16:09:26,829 utils                   : label='E0110_section_10': remove 8 datasets out of 59\n",
      "2024-10-14 16:09:26,835 utils                   : label='E0110_section_06': remove 8 datasets out of 60\n",
      "2024-10-14 16:09:26,836 utils                   : label='E0110_section_00': remove 8 datasets out of 60\n",
      "2024-10-14 16:09:26,840 utils                   : label='E0110_section_01': remove 9 datasets out of 60\n",
      "2024-10-14 16:09:26,841 utils                   : label='E0110_section_02': remove 7 datasets out of 60\n",
      "2024-10-14 16:09:26,843 utils                   : label='E0110_section_04': remove 8 datasets out of 60\n",
      "2024-10-14 16:09:26,845 utils                   : label='E0110_section_05': remove 7 datasets out of 60\n",
      "2024-10-14 16:09:26,847 utils                   : label='E0110_section_13': remove 9 datasets out of 60\n",
      "2024-10-14 16:09:26,847 utils                   : label='E0110_section_07': remove 9 datasets out of 60\n",
      "2024-10-14 16:09:26,849 utils                   : label='E0110_section_08': remove 7 datasets out of 59\n",
      "2024-10-14 16:09:26,852 utils                   : label='E0110_section_09': remove 8 datasets out of 60\n",
      "2024-10-14 16:09:26,854 utils                   : label='E0110_section_11': remove 8 datasets out of 60\n",
      "2024-10-14 16:09:26,855 utils                   : label='E0110_section_15': remove 7 datasets out of 60\n",
      "2024-10-14 16:09:26,856 utils                   : label='E0110_section_12': remove 8 datasets out of 60\n",
      "2024-10-14 16:09:26,859 utils                   : label='E0110_section_14': remove 7 datasets out of 60\n"
     ]
    }
   ],
   "source": [
    "\n",
    "avg_H06, t_el, ql_dyn, ql_sta = process_group(group='E0110', \n",
    "                                              num_sections=20,\n",
    "                                              prefix=fpath2,\n",
    "                                              zone_idx='auto',\n",
    "                                              num_cores=24)"
   ]
  },
  {
   "cell_type": "markdown",
   "id": "4b3e317c-d6aa-4af9-8f56-b92f3b9c73b2",
   "metadata": {},
   "source": [
    "### Dump the results into `.pickle` file"
   ]
  },
  {
   "cell_type": "code",
   "execution_count": 6,
   "id": "fdd7c182",
   "metadata": {},
   "outputs": [],
   "source": [
    "\n",
    "with open('checkpoint.pickle', 'wb') as f: \n",
    "    pickle.dump(avg_H02, f)  \n",
    "    pickle.dump(avg_H04, f)\n",
    "    pickle.dump(avg_H06, f)\n",
    "    pickle.dump(t_el, f)\n",
    "    pickle.dump(ql_dyn, f)\n",
    "    pickle.dump(ql_sta, f)\n",
    "    "
   ]
  },
  {
   "cell_type": "code",
   "execution_count": null,
   "id": "7ce308f8-89bc-4996-87a5-8703afdb9864",
   "metadata": {},
   "outputs": [],
   "source": []
  }
 ],
 "metadata": {
  "kernelspec": {
   "display_name": "Python 3 (ipykernel)",
   "language": "python",
   "name": "python3"
  },
  "language_info": {
   "codemirror_mode": {
    "name": "ipython",
    "version": 3
   },
   "file_extension": ".py",
   "mimetype": "text/x-python",
   "name": "python",
   "nbconvert_exporter": "python",
   "pygments_lexer": "ipython3",
   "version": "3.9.7"
  }
 },
 "nbformat": 4,
 "nbformat_minor": 5
}
