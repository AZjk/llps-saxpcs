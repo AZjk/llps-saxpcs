{
 "cells": [
  {
   "cell_type": "markdown",
   "id": "fc73eed2-6a02-4a7c-a6ae-cda5ac791c96",
   "metadata": {},
   "source": [
    "### Synopsis\n",
    "This code plots the g2 value at the delay point closest to $\\Delta$t= 0.1 s as a function of temperature, for all sample conditions.   \n",
    "Need to run the analysis code first to generate the `checkpoint.pickle` file that contains the averaged g2s."
   ]
  },
  {
   "cell_type": "code",
   "execution_count": 1,
   "id": "9208e4d8",
   "metadata": {},
   "outputs": [],
   "source": [
    "\n",
    "import numpy as np\n",
    "import matplotlib.pyplot as plt\n",
    "import pickle\n",
    "import matplotlib.ticker as ticker\n",
    "from scipy.optimize import curve_fit\n",
    "\n",
    "import itertools\n",
    "marker = itertools.cycle(('+', 's', '*')) \n"
   ]
  },
  {
   "cell_type": "markdown",
   "id": "f52b6eff-0fda-4ee9-9da6-719767f8834a",
   "metadata": {},
   "source": [
    "### Loading data from `.pickle` file"
   ]
  },
  {
   "cell_type": "code",
   "execution_count": 2,
   "id": "386591be-b782-4732-b135-ca3b68e48b9f",
   "metadata": {},
   "outputs": [],
   "source": [
    "\n",
    "with open('checkpoint.pickle', 'rb') as f:  # 'rb' for binary read mode\n",
    "    avg_H02 = pickle.load(f)  # Load the object from the file\n",
    "    avg_H04 = pickle.load(f)\n",
    "    avg_H06 = pickle.load(f)\n",
    "    t_el = pickle.load(f)\n",
    "    ql_dyn = pickle.load(f)\n",
    "    ql_sta = pickle.load(f)\n"
   ]
  },
  {
   "cell_type": "markdown",
   "id": "8d6940b1-22aa-4bb2-b8f3-8ba8c0caaa8f",
   "metadata": {},
   "source": [
    "### Initializing fonts in `Matplotlib`"
   ]
  },
  {
   "cell_type": "code",
   "execution_count": 3,
   "id": "6b06b7f3",
   "metadata": {},
   "outputs": [],
   "source": [
    "plt.rcParams['pdf.fonttype'] = 42\n",
    "plt.rcParams['font.size'] = 8\n",
    "plt.rcParams['figure.dpi'] = 300\n",
    "plt.rcParams[\"font.family\"] = \"Times New Roman\"\n"
   ]
  },
  {
   "cell_type": "code",
   "execution_count": 4,
   "id": "28efd4a5-a84c-4a6f-9f85-94e29ac7ca48",
   "metadata": {},
   "outputs": [],
   "source": [
    "\n",
    "diff = 0\n",
    "\n",
    "n_H02 = 8+diff\n",
    "contrast = 0.19   # originally at 0.19 \n",
    "_ = avg_H02[n_H02][\"g2\"]\n",
    "g2_H02 = (_[:,0]-1)/contrast\n",
    "_ = avg_H02[n_H02][\"g2_err\"]\n",
    "g2_err_H02 = _[:,0]/contrast\n",
    "saxs_1d_H02 = avg_H02[n_H02][\"saxs_1d\"]\n",
    "temp_H02 = 31.0986\n",
    "\n",
    "n_H04 = 10+diff\n",
    "contrast = 0.195 # originally at 0.195\n",
    "_ = avg_H04[n_H04][\"g2\"]\n",
    "g2_H04 = (_[:,0]-1)/contrast\n",
    "_ = avg_H04[n_H04][\"g2_err\"]\n",
    "g2_err_H04 = _[:,0]/contrast\n",
    "saxs_1d_H04 = avg_H04[n_H04][\"saxs_1d\"]\n",
    "temp_H06 = 31.2451\n",
    "\n",
    "n_H06 = 17+diff\n",
    "contrast = 0.135  # originally at 0.135\n",
    "_ = avg_H06[n_H06][\"g2\"]\n",
    "g2_H06 = (_[:,0]-1)/contrast\n",
    "_ = avg_H06[n_H06][\"g2_err\"]\n",
    "g2_err_H06 = _[:,0]/contrast\n",
    "saxs_1d_H06 = avg_H06[n_H06][\"saxs_1d\"]\n",
    "temp_H06 = 31.2198\n"
   ]
  },
  {
   "cell_type": "code",
   "execution_count": 5,
   "id": "79667034-3276-4871-b191-0c94946338f1",
   "metadata": {},
   "outputs": [
    {
     "name": "stdout",
     "output_type": "stream",
     "text": [
      "H02, a1=0.330±0.005,         τ1=0.0109±0.0008,         τ2=3.52±0.09,         p1=0.4430±0.0208,         p2=1.35±0.06\n",
      "H04, a1=0.271±0.003,         τ1=0.0015±0.0001,         τ2=82.64±15.74,         p1=0.5239±0.0319,         p2=0.50±0.03\n",
      "H06, a1=0.270±0.004,         τ1=0.0014±0.0001,         τ2=39.86±5.17,         p1=0.6026±0.0518,         p2=0.51±0.03\n"
     ]
    }
   ],
   "source": [
    "\n",
    "\n",
    "def double_exp(x, a1, tau1, tau2, p1, p2):\n",
    "    # return amplitude * np.sin(frequency * x + phase) + offset\n",
    "    return (a1*np.exp(-(x/tau1)**p1) + (1-a1)*np.exp(-(x/tau2)**p2))**2\n",
    "\n",
    "x_fit = np.logspace(np.log10(2e-5), np.log10(2), 100) \n",
    "\n",
    "bounds = ([0, 1e-6, 1e-6, 0, 0], [1, 1e3, 1e3, 2, 2]) \n",
    "popt, pcov = curve_fit(double_exp, t_el, g2_H02, p0=[0.5, 1e-3, 1, 1, 1], bounds=bounds, sigma=g2_err_H02) \n",
    "g2_H02_fit = double_exp(x_fit, *popt)\n",
    "H02_fit = popt\n",
    "H02_fit_err = np.sqrt(np.diag(pcov))\n",
    "print(f\"H02, a1={H02_fit[0]:.3f}\\u00B1{H02_fit_err[0]:.3f}, \\\n",
    "        τ1={H02_fit[1]:.4f}\\u00B1{H02_fit_err[1]:.4f}, \\\n",
    "        τ2={H02_fit[2]:.2f}\\u00B1{H02_fit_err[2]:.2f}, \\\n",
    "        p1={H02_fit[3]:.4f}\\u00B1{H02_fit_err[3]:.4f}, \\\n",
    "        p2={H02_fit[4]:.2f}\\u00B1{H02_fit_err[4]:.2f}\")\n",
    "\n",
    "bounds = ([0, 1e-6, 1e-6, 0, 0], [1, 1e3, 1e3, 3, 3]) \n",
    "popt, pcov = curve_fit(double_exp, t_el, g2_H04, p0=[0.5, 1e-3, 1, 1, 1], bounds=bounds, sigma=g2_err_H02) \n",
    "g2_H04_fit = double_exp(x_fit, *popt)\n",
    "H04_fit = popt\n",
    "H04_fit_err = np.sqrt(np.diag(pcov))\n",
    "print(f\"H04, a1={H04_fit[0]:.3f}\\u00B1{H04_fit_err[0]:.3f}, \\\n",
    "        τ1={H04_fit[1]:.4f}\\u00B1{H04_fit_err[1]:.4f}, \\\n",
    "        τ2={H04_fit[2]:.2f}\\u00B1{H04_fit_err[2]:.2f}, \\\n",
    "        p1={H04_fit[3]:.4f}\\u00B1{H04_fit_err[3]:.4f}, \\\n",
    "        p2={H04_fit[4]:.2f}\\u00B1{H04_fit_err[4]:.2f}\")\n",
    "\n",
    "bounds = ([0, 1e-6, 1e-6, 0, 0], [1, 1e3, 1e3, 3, 3]) \n",
    "popt, pcov = curve_fit(double_exp, t_el, g2_H06, p0=[0.5, 1e-3, 1, 1, 1], bounds=bounds, sigma=g2_err_H02)  \n",
    "g2_H06_fit = double_exp(x_fit, *popt)\n",
    "H06_fit = popt\n",
    "H06_fit_err = np.sqrt(np.diag(pcov))\n",
    "print(f\"H06, a1={H06_fit[0]:.3f}\\u00B1{H06_fit_err[0]:.3f}, \\\n",
    "        τ1={H06_fit[1]:.4f}\\u00B1{H06_fit_err[1]:.4f}, \\\n",
    "        τ2={H06_fit[2]:.2f}\\u00B1{H06_fit_err[2]:.2f}, \\\n",
    "        p1={H06_fit[3]:.4f}\\u00B1{H06_fit_err[3]:.4f}, \\\n",
    "        p2={H06_fit[4]:.2f}\\u00B1{H06_fit_err[4]:.2f}\")\n",
    "\n"
   ]
  },
  {
   "cell_type": "code",
   "execution_count": 11,
   "id": "605009c0-6d8c-419d-a478-aedb6e8c3e69",
   "metadata": {},
   "outputs": [
    {
     "data": {
      "image/png": "[encoded data removed]",
      "text/plain": [
       "<Figure size 244.8x324 with 1 Axes>"
      ]
     },
     "metadata": {
      "needs_background": "light"
     },
     "output_type": "display_data"
    }
   ],
   "source": [
    "\n",
    "fig, ax = plt.subplots(1, 1, figsize=(3.4, 4.5))  # Match the figure size to the first script\n",
    "ax.errorbar(t_el, g2_H02, g2_err_H02, marker='o', color='r', ms=2, lw=0.6, \n",
    "            label='(VPAVG)$\\mathdefault{_{10}}$ at 31.1$^\\circ$C')\n",
    "ax.errorbar(t_el, g2_H04, g2_err_H04, marker='+', color='b', ms=2, lw=0.6, \n",
    "            label='(VPAVG)$\\mathdefault{_{20}}$ at 31.2$^\\circ$C')\n",
    "ax.errorbar(t_el, g2_H06, g2_err_H06, marker='d', color='k', ms=2, lw=0.6, \n",
    "            label='(VPAVG)$\\mathdefault{_{30}}$ at 31.2$^\\circ$C')\n",
    "ax.plot(x_fit, g2_H02_fit, '-', color='r', linewidth=0.6)  # Thinner line\n",
    "ax.plot(x_fit, g2_H04_fit, '-', color='b', linewidth=0.6)  # Thinner line\n",
    "ax.plot(x_fit, g2_H06_fit, '-', color='k', linewidth=0.6)  # Thinner line\n",
    "ax.set_xscale('log')\n",
    "ax.set_ylim(0, 1.18)\n",
    "ax.set_xlim(0.000013,3)  # Adjust x-axis limits to add white space\n",
    "ax.set_xlabel('Delay Time $\\mathdefault{\\Delta}$t (s)', fontname=\"Times New Roman\")\n",
    "ax.set_ylabel('$\\mathdefault{g_1^2}$ (Q = 0.03 nm$^{-1}$)', fontname=\"Times New Roman\")\n",
    "plt.legend(fontsize=8)\n",
    "\n",
    "# Set minor ticks and grid, matching the first script\n",
    "ax.grid(which='major', linestyle='-', linewidth='0.4', color='gray')\n",
    "ax.minorticks_on()\n",
    "ax.grid(which='minor', linestyle=':', linewidth='0.4', color='gray')\n",
    "\n",
    "# Adjust minor ticks for log scale\n",
    "ax.xaxis.set_minor_locator(ticker.LogLocator(base=10.0, subs=np.linspace(0.1, 1.0, 10), numticks=12))\n",
    "ax.yaxis.set_minor_locator(ticker.MultipleLocator(0.05))\n",
    "\n",
    "# Add dashed black vertical line at Δt = 0.1 s\n",
    "ax.axvline(x=0.1, color='black', linestyle='--', linewidth=1)\n",
    "\n",
    "data = [\n",
    "        ['','a$_1$','$\\mathdefault{τ_1}$ (ms)','$\\mathdefault{τ_2}$ (s)','p$_1$','p$_2$'],\n",
    "        ['(VPAVG)$\\mathdefault{_{10}}$', \\\n",
    "         f\"{H02_fit[0]:.3f}\\u00B1{H02_fit_err[0]:.3f}\", \\\n",
    "         f\"{H02_fit[1]*1e3:.1f}\\u00B1{H02_fit_err[1]*1e3:.1f}\", \\\n",
    "         f\"{H02_fit[2]:.1f}\\u00B1{H02_fit_err[2]:.1f}\", \\\n",
    "         f\"{H02_fit[3]:.2f}\\u00B1{H02_fit_err[3]:.2f}\", \\\n",
    "         f\"{H02_fit[4]:.2f}\\u00B1{H02_fit_err[4]:.2f}\"],\\\n",
    "        ['(VPAVG)$\\mathdefault{_{20}}$', \\\n",
    "         f\"{H04_fit[0]:.3f}\\u00B1{H04_fit_err[0]:.3f}\", \\\n",
    "         f\"{H04_fit[1]*1e3:.1f}\\u00B1{H04_fit_err[1]*1e3:.1f}\", \\\n",
    "         f\"{H04_fit[2]:.1f}\\u00B1{H04_fit_err[2]:.1f}\", \\\n",
    "         f\"{H04_fit[3]:.2f}\\u00B1{H04_fit_err[3]:.2f}\", \\\n",
    "         f\"{H04_fit[4]:.2f}\\u00B1{H04_fit_err[4]:.2f}\"],\\\n",
    "        ['(VPAVG)$\\mathdefault{_{30}}$', \\\n",
    "         f\"{H06_fit[0]:.3f}\\u00B1{H06_fit_err[0]:.3f}\", \\\n",
    "         f\"{H06_fit[1]*1e3:.1f}\\u00B1{H06_fit_err[1]*1e3:.1f}\", \\\n",
    "         f\"{H06_fit[2]:.1f}\\u00B1{H06_fit_err[2]:.1f}\", \\\n",
    "         f\"{H06_fit[3]:.2f}\\u00B1{H06_fit_err[3]:.2f}\", \\\n",
    "         f\"{H06_fit[4]:.2f}\\u00B1{H06_fit_err[4]:.2f}\"]\\\n",
    "        ]\n",
    "        \n",
    "table = ax.table(cellText=data, loc='bottom', bbox=[-0.17, -0.6, 1.17, 0.3])  # xstart, ystart, xsize, ysize\n",
    "table.auto_set_font_size(False)\n",
    "table.set_fontsize(6)\n",
    "\n",
    "for cell in table.get_celld().values():\n",
    "    cell.set_linewidth(0.5)  # Adjust the line width as desired\n",
    "\n",
    "plt.tight_layout()\n",
    "plt.savefig('g2_overlap.pdf', bbox_inches='tight')\n",
    "plt.show()\n",
    "\n",
    "\n",
    "\n"
   ]
  },
  {
   "cell_type": "code",
   "execution_count": 10,
   "id": "36a2f057-06f7-40c9-b690-6d35c6909a29",
   "metadata": {},
   "outputs": [
    {
     "data": {
      "image/png": "[encoded data removed]",
      "text/plain": [
       "<Figure size 360x288 with 1 Axes>"
      ]
     },
     "metadata": {
      "needs_background": "light"
     },
     "output_type": "display_data"
    }
   ],
   "source": [
    "\n",
    "q_crop = 5\n",
    "\n",
    "fig, ax = plt.subplots(1, 1, figsize=(5, 4))\n",
    "ax.plot(ql_sta[:-q_crop], saxs_1d_H02[:-q_crop], marker='o', color='r', ms=3, lw=1, \n",
    "        label='(VPAVG)$\\mathdefault{_{10}}$ at 31.1$^\\circ$C')\n",
    "ax.plot(ql_sta[:-q_crop], saxs_1d_H04[:-q_crop], marker='+', color='b', ms=3, lw=1, \n",
    "        label='(VPAVG)$\\mathdefault{_{20}}$ at 31.1$^\\circ$C')\n",
    "ax.plot(ql_sta[:-q_crop], saxs_1d_H06[:-q_crop], marker='d', color='k', ms=3, lw=1, \n",
    "        label='(VPAVG)$\\mathdefault{_{30}}$ at 31.1$^\\circ$C')\n",
    "ax.set_xscale('log')\n",
    "ax.set_xlabel('q ($\\mathdefault{nm^{-1}}$)')\n",
    "ax.set_ylabel('I (Q) (a.u.)')\n",
    "plt.legend(loc='upper right')\n",
    "plt.savefig('SAXS_overlap.pdf', bbox_inches='tight')\n",
    "\n",
    "\n"
   ]
  },
  {
   "cell_type": "code",
   "execution_count": null,
   "id": "d377dd31-8b53-4f18-a8b0-16fde237272f",
   "metadata": {},
   "outputs": [],
   "source": []
  }
 ],
 "metadata": {
  "kernelspec": {
   "display_name": "Python 3 (ipykernel)",
   "language": "python",
   "name": "python3"
  },
  "language_info": {
   "codemirror_mode": {
    "name": "ipython",
    "version": 3
   },
   "file_extension": ".py",
   "mimetype": "text/x-python",
   "name": "python",
   "nbconvert_exporter": "python",
   "pygments_lexer": "ipython3",
   "version": "3.9.7"
  }
 },
 "nbformat": 4,
 "nbformat_minor": 5
}
