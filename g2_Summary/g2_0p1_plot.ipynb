{
 "cells": [
  {
   "cell_type": "markdown",
   "id": "fc73eed2-6a02-4a7c-a6ae-cda5ac791c96",
   "metadata": {},
   "source": [
    "### Synopsis\n",
    "This code plots the g2 value at the delay point closest to $\\Delta$t= 0.1 s as a function of temperature, for all sample conditions.   \n",
    "Need to run the analysis code first to generate the `checkpoint.pickle` file that contains the averaged g2s."
   ]
  },
  {
   "cell_type": "code",
   "execution_count": 1,
   "id": "9208e4d8",
   "metadata": {},
   "outputs": [],
   "source": [
    "\n",
    "import numpy as np\n",
    "import matplotlib.pyplot as plt\n",
    "import pickle\n",
    "import matplotlib.ticker as ticker\n",
    "\n",
    "import itertools\n",
    "marker = itertools.cycle(('+', 's', '*')) \n"
   ]
  },
  {
   "cell_type": "markdown",
   "id": "f52b6eff-0fda-4ee9-9da6-719767f8834a",
   "metadata": {},
   "source": [
    "### Loading data from `.pickle` file"
   ]
  },
  {
   "cell_type": "code",
   "execution_count": 2,
   "id": "386591be-b782-4732-b135-ca3b68e48b9f",
   "metadata": {},
   "outputs": [],
   "source": [
    "\n",
    "with open('checkpoint.pickle', 'rb') as f:  # 'rb' for binary read mode\n",
    "    avg_H02 = pickle.load(f)  # Load the object from the file\n",
    "    avg_H04 = pickle.load(f)\n",
    "    avg_H06 = pickle.load(f)\n",
    "    t_el = pickle.load(f)\n",
    "    ql_dyn = pickle.load(f)\n"
   ]
  },
  {
   "cell_type": "markdown",
   "id": "8d6940b1-22aa-4bb2-b8f3-8ba8c0caaa8f",
   "metadata": {},
   "source": [
    "### Initializing fonts in `Matplotlib`"
   ]
  },
  {
   "cell_type": "code",
   "execution_count": 3,
   "id": "6b06b7f3",
   "metadata": {},
   "outputs": [],
   "source": [
    "plt.rcParams['pdf.fonttype'] = 42\n",
    "# plt.rcParams['font.sans-serif'] = 'Helvetica'   # not installed on tanzanite\n",
    "# plt.rcParams['font.sans-serif'] = 'Arial'\n",
    "plt.rcParams['font.size'] = 6\n",
    "plt.rcParams['figure.dpi'] = 300\n",
    "plt.rcParams[\"font.family\"] = \"Times New Roman\""
   ]
  },
  {
   "cell_type": "markdown",
   "id": "c5a0ba69-128e-4ca0-aeb3-933feb69f66d",
   "metadata": {},
   "source": [
    " ### Find the delay point closest to $\\Delta$t=0.1 s"
   ]
  },
  {
   "cell_type": "code",
   "execution_count": 4,
   "id": "ca49f843",
   "metadata": {},
   "outputs": [
    {
     "name": "stdout",
     "output_type": "stream",
     "text": [
      "[1.99999995e-05 3.99999990e-05 5.99999985e-05 7.99999980e-05\n",
      " 9.99999975e-05 1.19999997e-04 1.39999996e-04 1.59999996e-04\n",
      " 1.99999995e-04 2.39999994e-04 2.79999993e-04 3.19999992e-04\n",
      " 3.99999990e-04 4.79999988e-04 5.59999986e-04 6.39999984e-04\n",
      " 7.99999980e-04 9.59999976e-04 1.11999997e-03 1.27999997e-03\n",
      " 1.59999996e-03 1.91999995e-03 2.23999994e-03 2.55999994e-03\n",
      " 3.19999992e-03 3.83999990e-03 4.47999989e-03 5.11999987e-03\n",
      " 6.39999984e-03 7.67999981e-03 8.95999977e-03 1.02399997e-02\n",
      " 1.27999997e-02 1.53599996e-02 1.79199995e-02 2.04799995e-02\n",
      " 2.55999994e-02 3.07199992e-02 3.58399991e-02 4.09599990e-02\n",
      " 5.11999987e-02 6.14399984e-02 7.16799982e-02 8.19199979e-02\n",
      " 1.02399997e-01 1.22879997e-01 1.43359996e-01 1.63839996e-01\n",
      " 2.04799995e-01 2.45759994e-01 2.86719993e-01 3.27679992e-01\n",
      " 4.09599990e-01 4.91519988e-01 5.73439986e-01 6.55359983e-01\n",
      " 8.19199979e-01 9.83039975e-01 1.14687997e+00 1.31071997e+00\n",
      " 1.63839996e+00]\n",
      "44 0.10239999741315842 second\n"
     ]
    }
   ],
   "source": [
    "print(t_el)\n",
    "target_idx = np.argmin(np.abs(t_el - 0.1))\n",
    "print(target_idx, t_el[target_idx], 'second')"
   ]
  },
  {
   "cell_type": "markdown",
   "id": "a56b0e70-fd18-4e00-88df-b19d0f2fd442",
   "metadata": {},
   "source": [
    "### Extract the g2 value for $\\Delta$t=0.1 s from the averaged files"
   ]
  },
  {
   "cell_type": "code",
   "execution_count": 5,
   "id": "26bb5347",
   "metadata": {},
   "outputs": [],
   "source": [
    "def get_temperature_and_g2(avg_data_list, target_idx=44, g2_idx=0):\n",
    "    xy = []\n",
    "    for avg_dict in avg_data_list:\n",
    "        t = np.nanmean(avg_dict['temperature'])\n",
    "        g2 = avg_dict['g2'][target_idx][g2_idx]\n",
    "        g2_err = avg_dict['g2_err'][target_idx][g2_idx]\n",
    "        xy.append((t, g2, g2_err))\n",
    "    xy = np.array(xy)\n",
    "    return xy"
   ]
  },
  {
   "cell_type": "markdown",
   "id": "1a9df68c-d44e-45dc-bafa-221825a77529",
   "metadata": {},
   "source": [
    "### Figure rendering"
   ]
  },
  {
   "cell_type": "code",
   "execution_count": 6,
   "id": "7c388f9b-322a-4210-be2f-e5e609ca8f1e",
   "metadata": {},
   "outputs": [
    {
     "data": {
      "image/png": "[encoded data removed]",
      "text/plain": [
       "<Figure size 244.8x216 with 1 Axes>"
      ]
     },
     "metadata": {
      "needs_background": "light"
     },
     "output_type": "display_data"
    }
   ],
   "source": [
    "\n",
    "with open('checkpoint.pickle', 'rb') as f:  \n",
    "    avg_H02 = pickle.load(f)  \n",
    "    avg_H04 = pickle.load(f)\n",
    "    avg_H06 = pickle.load(f)\n",
    "    t_el = pickle.load(f)\n",
    "    ql_dyn = pickle.load(f)\n",
    "\n",
    "plt.rcParams['pdf.fonttype'] = 42\n",
    "plt.rcParams['font.size'] = 8\n",
    "plt.rcParams['figure.dpi'] = 300\n",
    "plt.rcParams[\"font.family\"] = \"Times New Roman\"\n",
    "\n",
    "def get_temperature_and_g2(avg_data_list, target_idx=44, g2_idx=0):\n",
    "    xy = []\n",
    "    for avg_dict in avg_data_list:\n",
    "        t = np.nanmean(avg_dict['temperature'])\n",
    "        g2 = avg_dict['g2'][target_idx][g2_idx]\n",
    "        g2_err = avg_dict['g2_err'][target_idx][g2_idx]\n",
    "        xy.append((t, g2, g2_err))\n",
    "    xy = np.array(xy)\n",
    "    return xy\n",
    "\n",
    "fig, ax = plt.subplots(1, 1, figsize=(3.4, 3))\n",
    "labels = ['(VPAVG)$\\mathdefault{_{10}}$', '(VPAVG)$\\mathdefault{_{20}}$', '(VPAVG)$\\mathdefault{_{30}}$']\n",
    "marker = itertools.cycle(('+', 's', '*')) \n",
    "colors = ['red', 'blue', 'black']\n",
    "\n",
    "for n, avg_data_list in enumerate([avg_H02, avg_H04, avg_H06]):\n",
    "    t_g2 = get_temperature_and_g2(avg_data_list)\n",
    "    \n",
    "    # Remove baseline and normalize g2 for H02\n",
    "    if labels[n] == '(VPAVG)$\\mathdefault{_{10}}$':\n",
    "        t_g2[:, 1] = (t_g2[:, 1]-1)/0.19\n",
    "\n",
    "    # Remove baseline and normalize g2 for H04\n",
    "    if labels[n] == '(VPAVG)$\\mathdefault{_{20}}$':\n",
    "        t_g2[:, 1] = (t_g2[:, 1]-1)/0.195\n",
    "\n",
    "    # Remove baseline and normalize g2 for H04\n",
    "    # Also removing H06 data before x-axis value 27 due to insufficient statistics\n",
    "    if labels[n] == '(VPAVG)$\\mathdefault{_{30}}$':  \n",
    "        t_g2 = t_g2[t_g2[:, 0] >= 27]\n",
    "        t_g2[:, 1] = (t_g2[:, 1]-1)/0.135\n",
    "        t_g2 = t_g2[3:]\n",
    "    ax.errorbar(t_g2[:, 0], t_g2[:, 1], yerr=t_g2[:, 2], marker=next(marker), \\\n",
    "                label=labels[n], ms=3, lw=1, color=colors[n])\n",
    "\n",
    "ax.set_xlabel('Temperature ($^\\circ$C)', fontname=\"Times New Roman\")\n",
    "ax.set_ylabel('$\\mathdefault{g_1^2}$(Q = 0.03 nm$\\mathdefault{^{-1}}$, $\\mathdefault{Δt}$ = 0.1 s)', \n",
    "              fontname=\"Times New Roman\")\n",
    "ax.set_ylim(-0.05, 1.1)  # Adjusted y-axis range for the full figure\n",
    "plt.legend()\n",
    "\n",
    "# Adjusted spacing\n",
    "plt.subplots_adjust(wspace=0)\n",
    "plt.tight_layout()\n",
    "\n",
    "# Set minor ticks\n",
    "ax.grid(which='major', linestyle='-', linewidth='0.4', color='gray')\n",
    "ax.minorticks_on()\n",
    "ax.grid(which='minor', linestyle=':', linewidth='0.4', color='gray')\n",
    "ax.xaxis.set_minor_locator(ticker.MultipleLocator(1))\n",
    "ax.yaxis.set_minor_locator(ticker.MultipleLocator(0.05))\n",
    "\n",
    "plt.savefig('Del_g2_t0p1.pdf')\n",
    "plt.show()\n",
    "\n"
   ]
  },
  {
   "cell_type": "code",
   "execution_count": null,
   "id": "69bf0106-1011-48ff-bf8b-9df654de037c",
   "metadata": {},
   "outputs": [],
   "source": []
  }
 ],
 "metadata": {
  "kernelspec": {
   "display_name": "Python 3 (ipykernel)",
   "language": "python",
   "name": "python3"
  },
  "language_info": {
   "codemirror_mode": {
    "name": "ipython",
    "version": 3
   },
   "file_extension": ".py",
   "mimetype": "text/x-python",
   "name": "python",
   "nbconvert_exporter": "python",
   "pygments_lexer": "ipython3",
   "version": "3.9.7"
  }
 },
 "nbformat": 4,
 "nbformat_minor": 5
}
