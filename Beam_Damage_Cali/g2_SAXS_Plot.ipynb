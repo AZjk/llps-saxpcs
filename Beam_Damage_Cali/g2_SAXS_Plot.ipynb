{
 "cells": [
  {
   "cell_type": "markdown",
   "id": "f04345fc-fe8d-4906-aafc-0066da25a472",
   "metadata": {},
   "source": [
    "## Initialization"
   ]
  },
  {
   "cell_type": "code",
   "execution_count": 1,
   "id": "05d68cbe-1057-43b2-9b85-ff2dd95e09ed",
   "metadata": {},
   "outputs": [],
   "source": [
    "\n",
    "import h5py\n",
    "import numpy as np\n",
    "import matplotlib.pyplot as plt\n"
   ]
  },
  {
   "cell_type": "markdown",
   "id": "29bea544-3c1f-4811-ba16-d93cdde79491",
   "metadata": {},
   "source": [
    "## Read the results"
   ]
  },
  {
   "cell_type": "code",
   "execution_count": 2,
   "id": "d3f28d88-67da-49f7-b127-293ec00b3fa1",
   "metadata": {},
   "outputs": [],
   "source": [
    "\n",
    "fdir = '/home/beams/8IDIUSER/Documents/llps-saxpcs/reanalysis_2025_0806/cluster_results/'\n",
    "\n",
    "fn_1 = 'E0172_H06-c6c5-4_a0011_f100000_r00001_results.hdf'\n",
    "fn_2 = 'E0171_H06-c6c5-4_a0014_f100000_r00001_results.hdf'\n",
    "fn_3 = 'E0173_H06-c6c5-4_a0009_f100000_r00001_results.hdf'\n",
    "fn_4 = 'E0174_H06-c6c5-4_a0007_f100000_r00001_results.hdf'\n",
    "\n",
    "with h5py.File(fdir+fn_1, \"r\") as hf:\n",
    "    g2_1 = hf[\"xpcs\"][\"multitau\"][\"normalized_g2\"][:]\n",
    "    g2_err_1 = hf[\"xpcs\"][\"multitau\"][\"normalized_g2_err\"][:]\n",
    "    saxs_1d_1 = np.squeeze(hf[\"xpcs\"][\"temporal_mean\"][\"scattering_1d\"][:])\n",
    "    \n",
    "    t_el = hf[\"xpcs\"][\"multitau\"][\"delay_list\"][:]\n",
    "    t0 = hf[\"entry\"][\"instrument\"][\"detector_1\"][\"frame_time\"][()]\n",
    "    ql_dyn = hf[\"xpcs\"][\"qmap\"][\"dynamic_v_list_dim0\"][:]\n",
    "    ql_sta = hf[\"xpcs\"][\"qmap\"][\"static_v_list_dim0\"][:]\n",
    "\n",
    "with h5py.File(fdir+fn_2, \"r\") as hf:\n",
    "    g2_2 = hf[\"xpcs\"][\"multitau\"][\"normalized_g2\"][:]\n",
    "    g2_err_2 = hf[\"xpcs\"][\"multitau\"][\"normalized_g2_err\"][:]\n",
    "    saxs_1d_2 = np.squeeze(hf[\"xpcs\"][\"temporal_mean\"][\"scattering_1d\"][:])\n",
    "\n",
    "with h5py.File(fdir+fn_3, \"r\") as hf:\n",
    "    g2_3 = hf[\"xpcs\"][\"multitau\"][\"normalized_g2\"][:]\n",
    "    g2_err_3 = hf[\"xpcs\"][\"multitau\"][\"normalized_g2_err\"][:]\n",
    "    saxs_1d_3 = np.squeeze(hf[\"xpcs\"][\"temporal_mean\"][\"scattering_1d\"][:])\n",
    "\n",
    "with h5py.File(fdir+fn_4, \"r\") as hf:\n",
    "    g2_4 = hf[\"xpcs\"][\"multitau\"][\"normalized_g2\"][:]\n",
    "    g2_err_4 = hf[\"xpcs\"][\"multitau\"][\"normalized_g2_err\"][:]\n",
    "    saxs_1d_4 = np.squeeze(hf[\"xpcs\"][\"temporal_mean\"][\"scattering_1d\"][:])\n",
    "\n"
   ]
  },
  {
   "cell_type": "markdown",
   "id": "6839ebcb-dc6b-4c93-9194-f03c52fa713d",
   "metadata": {},
   "source": [
    "## Define formatting for the plots"
   ]
  },
  {
   "cell_type": "code",
   "execution_count": null,
   "id": "ad003124-4b55-40ac-901c-202f95896a1e",
   "metadata": {},
   "outputs": [],
   "source": [
    "\n",
    "def plot_style(ax, x, y, label, color=None):\n",
    "    ax.plot(x, y,\n",
    "            marker='o',\n",
    "            mfc='None',\n",
    "            mec=color,\n",
    "            mew=0.5,\n",
    "            ms=2,\n",
    "            color=color,\n",
    "            label=label,\n",
    "            linestyle='',\n",
    "            linewidth=1.0) \n",
    "\n",
    "def plot_error_style(ax, x, y, y_err, label, color=None):\n",
    "    ax.errorbar(x, y, y_err,\n",
    "            marker='o',\n",
    "            mfc='None',\n",
    "            mec=color,\n",
    "            mew=0.5,\n",
    "            ms=5,\n",
    "            color=color,\n",
    "            label=label,\n",
    "            linestyle='',\n",
    "            linewidth=1.0)\n"
   ]
  },
  {
   "cell_type": "markdown",
   "id": "7b0b23ab-17f0-4ed6-9350-7a754c5406d7",
   "metadata": {},
   "source": [
    "## Generation the figures"
   ]
  },
  {
   "cell_type": "code",
   "execution_count": null,
   "id": "18b8f95b-f011-4696-97ff-72300da0d7cc",
   "metadata": {},
   "outputs": [],
   "source": [
    "\n",
    "\n",
    "x_saxs = ql_sta*10\n",
    "x_g2 = t_el*t0\n",
    "\n",
    "fig, axs = plt.subplots(1, 2, figsize=(10, 4), constrained_layout=True)\n",
    "\n",
    "plt.rcParams[\"font.size\"] = 10 \n",
    "plt.rcParams[\"font.family\"] = \"Times New Roman\"\n",
    "\n",
    "# Left panel\n",
    "plot_style(axs[0], x_saxs, saxs_1d_1, \"att 5.2\", color='C0')\n",
    "plot_style(axs[0], x_saxs, saxs_1d_2, \"att 6.6\", color='C1')\n",
    "plot_style(axs[0], x_saxs, saxs_1d_3, \"att 7.8\", color='C2')\n",
    "plot_style(axs[0], x_saxs, saxs_1d_4, \"att 10.3\", color='C3')\n",
    "axs[0].set_xlabel(\"Q (nm$^{-1}$)\")\n",
    "axs[0].set_ylabel(\"Intensity (photon/pixel/frame)\")\n",
    "axs[0].set_title(\"SAXS\")\n",
    "axs[0].set_xscale('log')\n",
    "axs[0].set_yscale('log')\n",
    "axs[0].minorticks_on()\n",
    "axs[0].grid(True, which='both', ls='--', alpha=0.5)\n",
    "axs[0].legend()\n",
    "\n",
    "# Right panel\n",
    "plot_error_style(axs[1], x_g2, g2_1[:,0], g2_err_1[:,0], \"att 5.2\", 'C0')\n",
    "plot_error_style(axs[1], x_g2, g2_2[:,0], g2_err_2[:,0], \"att 6.6\", 'C1')\n",
    "plot_error_style(axs[1], x_g2, g2_3[:,0], g2_err_3[:,0], \"att 7.8\", 'C2')\n",
    "plot_error_style(axs[1], x_g2, g2_4[:,0], g2_err_4[:,0], \"att 10.3\", 'C3')\n",
    "axs[1].set_xlabel(\"Delay Time (s)\")\n",
    "axs[1].set_ylabel(\"g$_2$\")\n",
    "axs[1].set_title(\"XPCS\")\n",
    "axs[1].set_xscale('log')\n",
    "axs[1].minorticks_on()\n",
    "axs[1].grid(True, which='both', ls='--', alpha=0.5)\n",
    "axs[1].legend()\n",
    "\n",
    "plt.show()\n"
   ]
  }
 ],
 "metadata": {
  "kernelspec": {
   "display_name": "Python 3 (ipykernel)",
   "language": "python",
   "name": "python3"
  },
  "language_info": {
   "codemirror_mode": {
    "name": "ipython",
    "version": 3
   },
   "file_extension": ".py",
   "mimetype": "text/x-python",
   "name": "python",
   "nbconvert_exporter": "python",
   "pygments_lexer": "ipython3",
   "version": "3.12.8"
  }
 },
 "nbformat": 4,
 "nbformat_minor": 5
}
