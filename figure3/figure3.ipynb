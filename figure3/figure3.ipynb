{
 "cells": [
  {
   "cell_type": "code",
   "execution_count": 9,
   "id": "5ff3ceb8",
   "metadata": {},
   "outputs": [],
   "source": [
    "import numpy as np\n",
    "import matplotlib.pyplot as plt\n",
    "\n",
    "import sys\n",
    "sys.path.append('../common')\n",
    "from utils import process_group"
   ]
  },
  {
   "cell_type": "code",
   "execution_count": 10,
   "id": "ca75cca3",
   "metadata": {},
   "outputs": [
    {
     "name": "stderr",
     "output_type": "stream",
     "text": [
      "2023-11-23 22:20:25,737 utils                   : total number of files in E0110  is 1196\n",
      "2023-11-23 22:21:32,772 utils                   : label='E0110_section_01': remove 13 datasets out of 120\n",
      "2023-11-23 22:21:32,803 utils                   : label='E0110_section_00': remove 17 datasets out of 120\n",
      "2023-11-23 22:21:32,810 utils                   : label='E0110_section_03': remove 15 datasets out of 120\n",
      "2023-11-23 22:21:32,824 utils                   : label='E0110_section_02': remove 14 datasets out of 120\n",
      "2023-11-23 22:21:32,930 utils                   : label='E0110_section_04': remove 14 datasets out of 120\n",
      "2023-11-23 22:21:33,029 utils                   : label='E0110_section_06': remove 16 datasets out of 119\n",
      "2023-11-23 22:21:33,068 utils                   : label='E0110_section_07': remove 12 datasets out of 119\n",
      "2023-11-23 22:21:33,090 utils                   : label='E0110_section_09': remove 13 datasets out of 119\n",
      "2023-11-23 22:21:33,238 utils                   : label='E0110_section_05': remove 16 datasets out of 120\n",
      "2023-11-23 22:21:33,242 utils                   : label='E0110_section_08': remove 15 datasets out of 119\n"
     ]
    }
   ],
   "source": [
    "avg_110, t_el, ql_dyn, ql_sta = process_group(group='E0110', \n",
    "                                              # prefix='/data/xpcs8/2022-1/babnigg202203/cluster_results_reanalysis',\n",
    "                                              prefix='/home/8ididata/2022-1/babnigg202203/cluster_results_reanalysis',\n",
    "                                              zone_idx='auto',\n",
    "                                              num_cores=24)"
   ]
  },
  {
   "cell_type": "code",
   "execution_count": 11,
   "id": "e84e82ad",
   "metadata": {},
   "outputs": [
    {
     "name": "stderr",
     "output_type": "stream",
     "text": [
      "2023-11-23 22:23:05,344 utils                   : total number of files in E0111  is 1197\n",
      "2023-11-23 22:24:12,533 utils                   : label='E0111_section_02': remove 15 datasets out of 120\n",
      "2023-11-23 22:24:12,535 utils                   : label='E0111_section_01': remove 14 datasets out of 120\n",
      "2023-11-23 22:24:12,539 utils                   : label='E0111_section_00': remove 14 datasets out of 120\n",
      "2023-11-23 22:24:12,647 utils                   : label='E0111_section_04': remove 14 datasets out of 120\n",
      "2023-11-23 22:24:12,758 utils                   : label='E0111_section_08': remove 17 datasets out of 119\n",
      "2023-11-23 22:24:12,762 utils                   : label='E0111_section_03': remove 14 datasets out of 120\n",
      "2023-11-23 22:24:12,829 utils                   : label='E0111_section_05': remove 16 datasets out of 120\n",
      "2023-11-23 22:24:12,973 utils                   : label='E0111_section_09': remove 17 datasets out of 119\n",
      "2023-11-23 22:24:13,036 utils                   : label='E0111_section_06': remove 15 datasets out of 120\n",
      "2023-11-23 22:24:13,086 utils                   : label='E0111_section_07': remove 15 datasets out of 119\n"
     ]
    }
   ],
   "source": [
    "avg_111, _, _, _ = process_group(group='E0111', \n",
    "                                 prefix='/home/8ididata/2022-1/babnigg202203/cluster_results_reanalysis',\n",
    "                                 zone_idx='auto',\n",
    "                                 num_cores=24)"
   ]
  },
  {
   "cell_type": "code",
   "execution_count": 12,
   "id": "46520768",
   "metadata": {},
   "outputs": [],
   "source": [
    "plt.rcParams['pdf.fonttype'] = 42\n",
    "# plt.rcParams['font.sans-serif'] = 'Helvetica'   # not installed on tanzanite\n",
    "plt.rcParams['font.sans-serif'] = 'Arial'\n",
    "plt.rcParams['font.size'] = 6\n",
    "plt.rcParams['figure.dpi'] = 300"
   ]
  },
  {
   "cell_type": "code",
   "execution_count": 13,
   "id": "878df6cb",
   "metadata": {
    "scrolled": true
   },
   "outputs": [
    {
     "data": {
      "image/png": "[encoded data removed]",
      "text/plain": [
       "<Figure size 273.6x288 with 6 Axes>"
      ]
     },
     "metadata": {
      "needs_background": "light"
     },
     "output_type": "display_data"
    }
   ],
   "source": [
    "fig, ax = plt.subplots(3, 2, figsize=(3.8, 4.0))\n",
    "for n in range(3):\n",
    "    ax[n, 1].get_yaxis().set_visible(False)\n",
    "    # ax[n, 0].xaxis.set_label_coords(0.9, -0.25)\n",
    "\n",
    "def plot_one_column(ax, avg_data_list, omit_label=False, g2_idx=0):\n",
    "    for avg_dict in avg_data_list:\n",
    "        ax[0].plot(avg_dict['temperature_x'], avg_dict['temperature'])\n",
    "        \n",
    "        # have to remove the last few points\n",
    "        ax[1].loglog(ql_sta[:-4], avg_dict['saxs_1d'][:-4], 'o--', lw=1, ms=2, mew=0.5, mfc='none')\n",
    "        \n",
    "        # x = np.\n",
    "        ax[2].plot(t_el, avg_dict['g2'][:, g2_idx], 'o--', lw=1, ms=2, mew=0.5, mfc='none')\n",
    "    \n",
    "    if not omit_label:\n",
    "        ax[0].set_ylabel('Temperature ($^\\circ$ C)')\n",
    "        ax[1].set_ylabel('I (cm$^{-1}$)')\n",
    "        ax[2].set_ylabel('g2')\n",
    "\n",
    "        ax[0].set_xlabel('Time (s)')\n",
    "        ax[1].set_xlabel('q ($\\\\AA^{-1}$)')\n",
    "        ax[2].set_xlabel('Time (s)')\n",
    "        ax[0].xaxis.set_label_coords(1.0, -0.5)\n",
    "        ax[1].xaxis.set_label_coords(1.0, -0.5)\n",
    "        ax[2].xaxis.set_label_coords(1.0, -0.5)\n",
    "\n",
    "    # additional setup\n",
    "    ax[0].set_xlim(0, None)\n",
    "    ax[2].set_xscale('log')\n",
    "        \n",
    "plot_one_column(ax[:, 0], avg_110)\n",
    "plot_one_column(ax[:, 1], avg_111, omit_label=True)\n",
    " \n",
    "plt.tight_layout(w_pad=-1, h_pad=0.125)\n",
    "plt.savefig('figure3.png', dpi=300)\n",
    "# plt.savefig('figure2.pdf')\n",
    "# plt.tight_layout()"
   ]
  },
  {
   "cell_type": "code",
   "execution_count": 14,
   "id": "9199db3c",
   "metadata": {},
   "outputs": [
    {
     "name": "stdout",
     "output_type": "stream",
     "text": [
      "[0.    0.    0.    0.    0.    0.    0.    0.    0.    0.    0.    0.\n",
      " 0.    0.    0.001 0.001 0.001 0.001 0.001 0.001 0.002 0.002 0.002 0.003\n",
      " 0.003 0.004 0.004 0.005 0.006 0.008 0.009 0.01  0.013 0.015 0.018 0.02\n",
      " 0.026 0.031 0.036 0.041 0.051 0.061 0.072 0.082 0.102 0.123 0.143 0.164\n",
      " 0.205 0.246 0.287 0.328 0.41  0.492 0.573 0.655 0.819 0.983 1.147 1.311\n",
      " 1.638]\n"
     ]
    }
   ],
   "source": [
    "print(t_el)"
   ]
  },
  {
   "cell_type": "code",
   "execution_count": null,
   "id": "7c31c06b",
   "metadata": {},
   "outputs": [],
   "source": []
  }
 ],
 "metadata": {
  "kernelspec": {
   "display_name": "Python 3 (ipykernel)",
   "language": "python",
   "name": "python3"
  },
  "language_info": {
   "codemirror_mode": {
    "name": "ipython",
    "version": 3
   },
   "file_extension": ".py",
   "mimetype": "text/x-python",
   "name": "python",
   "nbconvert_exporter": "python",
   "pygments_lexer": "ipython3",
   "version": "3.9.7"
  }
 },
 "nbformat": 4,
 "nbformat_minor": 5
}
