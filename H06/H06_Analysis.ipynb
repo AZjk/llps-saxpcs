{
 "cells": [
  {
   "cell_type": "markdown",
   "id": "3547a1de-57b4-417a-b836-0077d42a3bde",
   "metadata": {},
   "source": [
    "### Synopsis\n",
    "This code averages and reduces g2 for temperature ramping (up and down) of protein H06"
   ]
  },
  {
   "cell_type": "code",
   "execution_count": 1,
   "id": "5ff3ceb8",
   "metadata": {},
   "outputs": [],
   "source": [
    "\n",
    "import numpy as np\n",
    "import matplotlib.pyplot as plt\n",
    "import h5py\n",
    "import pickle\n",
    "\n",
    "import sys\n",
    "sys.path.append('../common')\n",
    "from utils import process_group\n",
    "\n",
    "mount_point = '/gdata/s8id-dmdtn/'\n",
    "\n",
    "fpath1 = mount_point + '2021-2/babnigg202107_2/cluster_results_QZ'\n",
    "fpath2 = mount_point + '2022-1/babnigg202203/cluster_results_QZ'\n",
    "coef_sam = 6.93e4  # Absolute scattering cross-section coefficient for the samples\n",
    "coef_buf = 7.62e4  # Absolute scattering cross-section coefficient for the buffer\n"
   ]
  },
  {
   "cell_type": "markdown",
   "id": "25ee6ff3-0c39-46c6-bbf3-0f2ac3690660",
   "metadata": {},
   "source": [
    "### Averaging of SA-XPCS results, temperature ramp up"
   ]
  },
  {
   "cell_type": "code",
   "execution_count": 2,
   "id": "ca75cca3",
   "metadata": {},
   "outputs": [
    {
     "name": "stderr",
     "output_type": "stream",
     "text": [
      "2024-10-14 16:22:09,636 utils                   : total number of files in E0110  is 1200\n",
      "2024-10-14 16:22:09,637 utils                   : skip_first_files=0, skip_last_files=0\n",
      "2024-10-14 16:22:25,702 utils                   : Failed to get temperature for file /gdata/s8id-dmdtn/2022-1/babnigg202203/cluster_results_QZ/E0110_S3_4_Ramp_340C10p_att00_Rq0_00493_0001-100000.hdf, return nan\n",
      "2024-10-14 16:22:29,439 utils                   : Failed to get temperature for file /gdata/s8id-dmdtn/2022-1/babnigg202203/cluster_results_QZ/E0110_S3_4_Ramp_340C10p_att00_Rq0_00618_0001-100000.hdf, return nan\n"
     ]
    },
    {
     "name": "stdout",
     "output_type": "stream",
     "text": [
      "index\t T-min(C)\t T-max(C)\t T-mean(C)\t points\n",
      "n=00\t    20.01\t    21.28\t  20.6458\t 120\n",
      "n=01\t     21.3\t    22.54\t  21.9169\t 120\n",
      "n=02\t    22.55\t    23.81\t  23.1837\t 120\n",
      "n=03\t    23.82\t    25.07\t  24.4436\t 120\n",
      "n=04\t      nan\t      nan\t      nan\t 120\n",
      "n=05\t      nan\t      nan\t      nan\t 120\n",
      "n=06\t    27.64\t    28.94\t  28.2932\t 120\n",
      "n=07\t    28.95\t    30.23\t  29.5896\t 120\n",
      "n=08\t    30.25\t    31.56\t  30.8898\t 120\n",
      "n=09\t    31.58\t    32.84\t  32.2042\t 120\n"
     ]
    },
    {
     "name": "stderr",
     "output_type": "stream",
     "text": [
      "2024-10-14 16:22:48,529 xpcs_viewer.fileIO.hdf_reader: key not found: /measurement/instrument/detector/y_pixel_size\n",
      "2024-10-14 16:22:48,532 utils                   : failed to read file /gdata/s8id-dmdtn/2022-1/babnigg202203/cluster_results_QZ/E0110_S3_4_Ramp_340C10p_att00_Rq0_00493_0001-100000.hdf, skip this file\n",
      "2024-10-14 16:22:48,581 xpcs_viewer.fileIO.hdf_reader: key not found: /measurement/instrument/detector/y_pixel_size\n",
      "2024-10-14 16:22:48,583 utils                   : failed to read file /gdata/s8id-dmdtn/2022-1/babnigg202203/cluster_results_QZ/E0110_S3_4_Ramp_340C10p_att00_Rq0_00618_0001-100000.hdf, skip this file\n",
      "2024-10-14 16:22:50,055 utils                   : label='E0110_section_00': remove 16 datasets out of 120\n",
      "2024-10-14 16:22:50,059 utils                   : label='E0110_section_02': remove 17 datasets out of 120\n",
      "2024-10-14 16:22:50,064 utils                   : label='E0110_section_05': remove 15 datasets out of 119\n",
      "2024-10-14 16:22:50,073 utils                   : label='E0110_section_06': remove 15 datasets out of 120\n",
      "2024-10-14 16:22:50,130 utils                   : label='E0110_section_03': remove 18 datasets out of 120\n",
      "2024-10-14 16:22:50,132 utils                   : label='E0110_section_04': remove 14 datasets out of 119\n",
      "2024-10-14 16:22:50,145 utils                   : label='E0110_section_08': remove 15 datasets out of 120\n",
      "2024-10-14 16:22:50,150 utils                   : label='E0110_section_09': remove 15 datasets out of 120\n",
      "2024-10-14 16:22:50,191 utils                   : label='E0110_section_01': remove 15 datasets out of 120\n",
      "2024-10-14 16:22:50,207 utils                   : label='E0110_section_07': remove 12 datasets out of 120\n"
     ]
    }
   ],
   "source": [
    "\n",
    "avg_ramp_up, t_el, ql_dyn, ql_sta = process_group(group='E0110', \n",
    "                                              prefix=fpath2,\n",
    "                                              zone_idx='auto',\n",
    "                                              num_cores=24)\n"
   ]
  },
  {
   "cell_type": "markdown",
   "id": "d94d4542-ab1b-47b2-b0df-76e65c1a895f",
   "metadata": {},
   "source": [
    "### Averaging of SA-XPCS results, temperature ramp up"
   ]
  },
  {
   "cell_type": "code",
   "execution_count": 3,
   "id": "e84e82ad",
   "metadata": {},
   "outputs": [
    {
     "name": "stderr",
     "output_type": "stream",
     "text": [
      "2024-10-14 16:22:50,248 utils                   : total number of files in E0111  is 1200\n",
      "2024-10-14 16:22:50,249 utils                   : skip_first_files=0, skip_last_files=0\n"
     ]
    },
    {
     "name": "stdout",
     "output_type": "stream",
     "text": [
      "index\t T-min(C)\t T-max(C)\t T-mean(C)\t points\n",
      "n=00\t    31.53\t    32.83\t  32.1746\t 120\n",
      "n=01\t    30.23\t    31.51\t  30.8656\t 120\n",
      "n=02\t    28.96\t    30.22\t  29.5842\t 120\n",
      "n=03\t    27.65\t    28.95\t  28.3089\t 120\n",
      "n=04\t    26.39\t    27.64\t  27.0105\t 120\n",
      "n=05\t     25.1\t    26.37\t  25.7341\t 120\n",
      "n=06\t     23.8\t    25.09\t  24.4358\t 120\n",
      "n=07\t    22.49\t    23.79\t  23.1409\t 120\n",
      "n=08\t     21.2\t    22.48\t  21.8515\t 120\n",
      "n=09\t    19.99\t    21.19\t  20.5596\t 120\n"
     ]
    },
    {
     "name": "stderr",
     "output_type": "stream",
     "text": [
      "2024-10-14 16:23:25,681 xpcs_viewer.fileIO.hdf_reader: key not found: /measurement/instrument/detector/y_pixel_size\n",
      "2024-10-14 16:23:25,684 utils                   : failed to read file /gdata/s8id-dmdtn/2022-1/babnigg202203/cluster_results_QZ/E0111_S3_4_Ramp_200C10p_att00_Rq0_00485_0001-100000.hdf, skip this file\n",
      "2024-10-14 16:23:25,692 xpcs_viewer.fileIO.hdf_reader: key not found: /measurement/instrument/detector/y_pixel_size\n",
      "2024-10-14 16:23:25,694 utils                   : failed to read file /gdata/s8id-dmdtn/2022-1/babnigg202203/cluster_results_QZ/E0111_S3_4_Ramp_200C10p_att00_Rq0_00006_0001-100000.hdf, skip this file\n",
      "2024-10-14 16:23:26,368 xpcs_viewer.fileIO.hdf_reader: key not found: /measurement/instrument/detector/y_pixel_size\n",
      "2024-10-14 16:23:26,370 utils                   : failed to read file /gdata/s8id-dmdtn/2022-1/babnigg202203/cluster_results_QZ/E0111_S3_4_Ramp_200C10p_att00_Rq0_00777_0001-100000.hdf, skip this file\n",
      "2024-10-14 16:23:27,376 utils                   : label='E0111_section_00': remove 14 datasets out of 119\n",
      "2024-10-14 16:23:27,386 utils                   : label='E0111_section_02': remove 15 datasets out of 120\n",
      "2024-10-14 16:23:27,388 utils                   : label='E0111_section_03': remove 16 datasets out of 120\n",
      "2024-10-14 16:23:27,388 utils                   : label='E0111_section_04': remove 16 datasets out of 119\n",
      "2024-10-14 16:23:27,398 utils                   : label='E0111_section_05': remove 18 datasets out of 120\n",
      "2024-10-14 16:23:27,405 utils                   : label='E0111_section_08': remove 15 datasets out of 120\n",
      "2024-10-14 16:23:27,459 utils                   : label='E0111_section_06': remove 14 datasets out of 119\n",
      "2024-10-14 16:23:27,467 utils                   : label='E0111_section_07': remove 15 datasets out of 120\n",
      "2024-10-14 16:23:27,528 utils                   : label='E0111_section_01': remove 15 datasets out of 120\n",
      "2024-10-14 16:23:27,546 utils                   : label='E0111_section_09': remove 17 datasets out of 120\n"
     ]
    }
   ],
   "source": [
    "\n",
    "avg_ramp_down, _, _, _ = process_group(group='E0111', \n",
    "                                 prefix=fpath2,\n",
    "                                 zone_idx='auto',\n",
    "                                 num_cores=24)\n"
   ]
  },
  {
   "cell_type": "markdown",
   "id": "247f6d12-f65d-446b-bad7-c313e83f98ff",
   "metadata": {},
   "source": [
    "### Averaging of background"
   ]
  },
  {
   "cell_type": "code",
   "execution_count": 4,
   "id": "100f94f2-7fdf-4135-9297-5dd68bb0ab51",
   "metadata": {},
   "outputs": [
    {
     "name": "stderr",
     "output_type": "stream",
     "text": [
      "2024-10-14 16:23:27,584 utils                   : total number of files in D0138  is 50\n",
      "2024-10-14 16:23:27,585 utils                   : skip_first_files=0, skip_last_files=0\n"
     ]
    },
    {
     "name": "stdout",
     "output_type": "stream",
     "text": [
      "index\t T-min(C)\t T-max(C)\t T-mean(C)\t points\n",
      "n=00\t     5.99\t     6.01\t   5.9998\t 50\n"
     ]
    },
    {
     "name": "stderr",
     "output_type": "stream",
     "text": [
      "2024-10-14 16:23:29,654 utils                   : label='D0138_section_00': remove 7 datasets out of 50\n"
     ]
    }
   ],
   "source": [
    "\n",
    "avg_bg, _, _, _ = process_group(group='D0138',\n",
    "                                 num_sections=1,\n",
    "                                 prefix=fpath2,\n",
    "                                 zone_idx='auto',\n",
    "                                 num_cores=24)\n"
   ]
  },
  {
   "cell_type": "markdown",
   "id": "c1895a4c-d652-48af-ae27-6e99dc1c8b6b",
   "metadata": {},
   "source": [
    "### Data reduction\n",
    "\n",
    "Subtracting I(Q) with background, converting to absolute scattering cross-section, and dump to pickle file for plotting"
   ]
  },
  {
   "cell_type": "code",
   "execution_count": 5,
   "id": "ba921795-d3c3-4eac-8352-005ff6f4f0c5",
   "metadata": {},
   "outputs": [],
   "source": [
    "\n",
    "for ii in range(len(avg_ramp_up)):\n",
    "    avg_ramp_up[ii][\"saxs_1d\"] = coef_sam*avg_ramp_up[ii][\"saxs_1d\"] - coef_buf*avg_bg[0][\"saxs_1d\"]\n",
    "\n",
    "for ii in range(len(avg_ramp_down)):\n",
    "    avg_ramp_down[ii][\"saxs_1d\"] = coef_sam*avg_ramp_down[ii][\"saxs_1d\"] - coef_buf*avg_bg[0][\"saxs_1d\"]\n",
    "\n",
    "with open('checkpoint.pickle', 'wb') as f:  # 'wb' for binary write mode\n",
    "    pickle.dump(avg_ramp_up, f)  # Dump the object to the file\n",
    "    pickle.dump(avg_ramp_down, f)\n",
    "    pickle.dump(t_el, f)\n",
    "    pickle.dump(ql_sta, f)\n",
    "    pickle.dump(ql_dyn, f)\n",
    "    "
   ]
  },
  {
   "cell_type": "code",
   "execution_count": null,
   "id": "7c31c06b",
   "metadata": {},
   "outputs": [],
   "source": []
  }
 ],
 "metadata": {
  "kernelspec": {
   "display_name": "Python 3 (ipykernel)",
   "language": "python",
   "name": "python3"
  },
  "language_info": {
   "codemirror_mode": {
    "name": "ipython",
    "version": 3
   },
   "file_extension": ".py",
   "mimetype": "text/x-python",
   "name": "python",
   "nbconvert_exporter": "python",
   "pygments_lexer": "ipython3",
   "version": "3.9.7"
  }
 },
 "nbformat": 4,
 "nbformat_minor": 5
}
