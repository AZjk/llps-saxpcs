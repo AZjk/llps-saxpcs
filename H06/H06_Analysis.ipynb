{
 "cells": [
  {
   "cell_type": "markdown",
   "id": "3547a1de-57b4-417a-b836-0077d42a3bde",
   "metadata": {},
   "source": [
    "### Synopsis\n",
    "This code averages and reduces g2 for temperature ramping (up and down) of protein H06"
   ]
  },
  {
   "cell_type": "code",
   "execution_count": 1,
   "id": "5ff3ceb8",
   "metadata": {},
   "outputs": [],
   "source": [
    "\n",
    "import numpy as np\n",
    "import matplotlib.pyplot as plt\n",
    "import h5py\n",
    "import pickle\n",
    "\n",
    "import sys\n",
    "sys.path.append('../common')\n",
    "from utils import process_group\n",
    "\n",
    "# mount_point = '/gdata/s8id-dmdtn/'\n",
    "# fpath1 = mount_point + '2021-2/babnigg202107_2/cluster_results_QZ'\n",
    "# fpath2 = mount_point + '2022-1/babnigg202203/cluster_results_QZ'\n",
    "\n",
    "mount_point = \"/home/8-id-i/2024-3/2024_1228_qz_llps_analysis/2025_08_analysis/\"\n",
    "fpath1 = mount_point + '2021-2/cluster_results_all'\n",
    "fpath2 = mount_point + '2022-2/cluster_results_all'\n",
    "\n",
    "coef_sam = 6.93e4  # Absolute scattering cross-section coefficient for the samples\n",
    "coef_buf = 7.62e4  # Absolute scattering cross-section coefficient for the buffer\n"
   ]
  },
  {
   "cell_type": "markdown",
   "id": "25ee6ff3-0c39-46c6-bbf3-0f2ac3690660",
   "metadata": {},
   "source": [
    "### Averaging of SA-XPCS results, temperature ramp up"
   ]
  },
  {
   "cell_type": "code",
   "execution_count": 2,
   "id": "ca75cca3",
   "metadata": {},
   "outputs": [
    {
     "name": "stdout",
     "output_type": "stream",
     "text": [
      "index\t T-min(C)\t T-max(C)\t T-mean(C)\t points\n",
      "n=00\t    20.01\t    21.28\t  20.6458\t 120\n",
      "n=01\t     21.3\t    22.54\t  21.9169\t 120\n",
      "n=02\t    22.55\t    23.81\t  23.1837\t 120\n",
      "n=03\t    23.82\t    25.07\t  24.4436\t 120\n",
      "n=04\t    25.08\t    26.35\t  25.7158\t 120\n",
      "n=05\t    26.36\t    27.65\t  27.0078\t 120\n",
      "n=06\t    27.67\t    28.97\t  28.3151\t 120\n",
      "n=07\t    28.98\t    30.26\t  29.6112\t 120\n",
      "n=08\t    30.27\t    31.58\t  30.9063\t 119\n",
      "n=09\t    31.59\t    32.84\t  32.2094\t 119\n"
     ]
    }
   ],
   "source": [
    "\n",
    "avg_ramp_up, t_el, ql_dyn, ql_sta = process_group(group='E0110', \n",
    "                                              prefix=fpath2,\n",
    "                                              zone_idx='auto',\n",
    "                                              num_cores=24)\n"
   ]
  },
  {
   "cell_type": "markdown",
   "id": "d94d4542-ab1b-47b2-b0df-76e65c1a895f",
   "metadata": {},
   "source": [
    "### Averaging of SA-XPCS results, temperature ramp up"
   ]
  },
  {
   "cell_type": "code",
   "execution_count": 3,
   "id": "e84e82ad",
   "metadata": {},
   "outputs": [
    {
     "name": "stdout",
     "output_type": "stream",
     "text": [
      "index\t T-min(C)\t T-max(C)\t T-mean(C)\t points\n",
      "n=00\t    31.51\t    32.83\t  32.1641\t 120\n",
      "n=01\t    30.22\t     31.5\t  30.8548\t 120\n",
      "n=02\t    28.95\t    30.21\t  29.5736\t 120\n",
      "n=03\t    27.64\t    28.94\t   28.298\t 120\n",
      "n=04\t    26.37\t    27.62\t  26.9898\t 120\n",
      "n=05\t    25.08\t    26.36\t  25.7127\t 120\n",
      "n=06\t    23.77\t    25.06\t  24.4083\t 120\n",
      "n=07\t    22.47\t    23.76\t  23.1137\t 119\n",
      "n=08\t    21.19\t    22.46\t  21.8355\t 119\n",
      "n=09\t    19.99\t    21.19\t  20.5543\t 119\n"
     ]
    }
   ],
   "source": [
    "\n",
    "avg_ramp_down, _, _, _ = process_group(group='E0111', \n",
    "                                 prefix=fpath2,\n",
    "                                 zone_idx='auto',\n",
    "                                 num_cores=24)\n"
   ]
  },
  {
   "cell_type": "markdown",
   "id": "247f6d12-f65d-446b-bad7-c313e83f98ff",
   "metadata": {},
   "source": [
    "### Averaging of background"
   ]
  },
  {
   "cell_type": "code",
   "execution_count": 4,
   "id": "100f94f2-7fdf-4135-9297-5dd68bb0ab51",
   "metadata": {},
   "outputs": [
    {
     "name": "stdout",
     "output_type": "stream",
     "text": [
      "index\t T-min(C)\t T-max(C)\t T-mean(C)\t points\n",
      "n=00\t     5.99\t     6.01\t   5.9998\t 50\n"
     ]
    }
   ],
   "source": [
    "\n",
    "avg_bg, _, _, _ = process_group(group='D0138',\n",
    "                                 num_sections=1,\n",
    "                                 prefix=fpath2,\n",
    "                                 zone_idx='auto',\n",
    "                                 num_cores=24)\n"
   ]
  },
  {
   "cell_type": "markdown",
   "id": "c1895a4c-d652-48af-ae27-6e99dc1c8b6b",
   "metadata": {},
   "source": [
    "### Data reduction\n",
    "\n",
    "Subtracting I(Q) with background, converting to absolute scattering cross-section, and dump to pickle file for plotting"
   ]
  },
  {
   "cell_type": "code",
   "execution_count": 5,
   "id": "ba921795-d3c3-4eac-8352-005ff6f4f0c5",
   "metadata": {},
   "outputs": [],
   "source": [
    "\n",
    "for ii in range(len(avg_ramp_up)):\n",
    "    avg_ramp_up[ii][\"saxs_1d\"] = coef_sam*avg_ramp_up[ii][\"saxs_1d\"] - coef_buf*avg_bg[0][\"saxs_1d\"]\n",
    "\n",
    "for ii in range(len(avg_ramp_down)):\n",
    "    avg_ramp_down[ii][\"saxs_1d\"] = coef_sam*avg_ramp_down[ii][\"saxs_1d\"] - coef_buf*avg_bg[0][\"saxs_1d\"]\n",
    "\n",
    "with open('checkpoint.pickle', 'wb') as f:  # 'wb' for binary write mode\n",
    "    pickle.dump(avg_ramp_up, f)  # Dump the object to the file\n",
    "    pickle.dump(avg_ramp_down, f)\n",
    "    pickle.dump(t_el, f)\n",
    "    pickle.dump(ql_sta, f)\n",
    "    pickle.dump(ql_dyn, f)\n",
    "    "
   ]
  },
  {
   "cell_type": "code",
   "execution_count": null,
   "id": "7c31c06b",
   "metadata": {},
   "outputs": [],
   "source": []
  }
 ],
 "metadata": {
  "kernelspec": {
   "display_name": "Python 3 (ipykernel)",
   "language": "python",
   "name": "python3"
  },
  "language_info": {
   "codemirror_mode": {
    "name": "ipython",
    "version": 3
   },
   "file_extension": ".py",
   "mimetype": "text/x-python",
   "name": "python",
   "nbconvert_exporter": "python",
   "pygments_lexer": "ipython3",
   "version": "3.12.8"
  }
 },
 "nbformat": 4,
 "nbformat_minor": 5
}
