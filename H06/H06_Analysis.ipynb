{
 "cells": [
  {
   "cell_type": "markdown",
   "id": "3547a1de-57b4-417a-b836-0077d42a3bde",
   "metadata": {},
   "source": [
    "### Initialization"
   ]
  },
  {
   "cell_type": "code",
   "execution_count": 1,
   "id": "5ff3ceb8",
   "metadata": {},
   "outputs": [],
   "source": [
    "import numpy as np\n",
    "import matplotlib.pyplot as plt\n",
    "import h5py\n",
    "import pickle\n",
    "\n",
    "import sys\n",
    "sys.path.append('../common')\n",
    "from utils import process_group\n",
    "\n",
    "fpath1 ='/home/8ididata/2021-2/babnigg202107_2/cluster_results_QZ'\n",
    "fpath2 ='/home/8ididata/2022-1/babnigg202203/cluster_results_QZ'\n"
   ]
  },
  {
   "cell_type": "markdown",
   "id": "25ee6ff3-0c39-46c6-bbf3-0f2ac3690660",
   "metadata": {},
   "source": [
    "### Averaging of SA-XPCS results, temperature ramp up"
   ]
  },
  {
   "cell_type": "code",
   "execution_count": 2,
   "id": "ca75cca3",
   "metadata": {},
   "outputs": [
    {
     "name": "stderr",
     "output_type": "stream",
     "text": [
      "2023-12-20 16:25:12,802 utils                   : total number of files in E0110  is 1200\n",
      "2023-12-20 16:25:13,495 utils                   : Failed to get temperature for file /home/8ididata/2022-1/babnigg202203/cluster_results_QZ/E0110_S3_4_Ramp_340C10p_att00_Rq0_00493_0001-100000.hdf, return nan\n",
      "2023-12-20 16:25:13,653 utils                   : Failed to get temperature for file /home/8ididata/2022-1/babnigg202203/cluster_results_QZ/E0110_S3_4_Ramp_340C10p_att00_Rq0_00618_0001-100000.hdf, return nan\n",
      "2023-12-20 16:25:14,849 xpcs_viewer.fileIO.hdf_reader: key not found: /exchange/partition-mean-total\n",
      "2023-12-20 16:25:14,856 utils                   : failed to read file /home/8ididata/2022-1/babnigg202203/cluster_results_QZ/E0110_S3_4_Ramp_340C10p_att00_Rq0_00493_0001-100000.hdf, skip this file\n",
      "2023-12-20 16:25:14,931 xpcs_viewer.fileIO.hdf_reader: key not found: /exchange/partition-mean-total\n",
      "2023-12-20 16:25:14,937 utils                   : failed to read file /home/8ididata/2022-1/babnigg202203/cluster_results_QZ/E0110_S3_4_Ramp_340C10p_att00_Rq0_00618_0001-100000.hdf, skip this file\n",
      "2023-12-20 16:25:16,772 utils                   : label='E0110_section_00': remove 16 datasets out of 120\n",
      "2023-12-20 16:25:16,782 utils                   : label='E0110_section_01': remove 15 datasets out of 120\n",
      "2023-12-20 16:25:16,888 utils                   : label='E0110_section_04': remove 14 datasets out of 119\n",
      "2023-12-20 16:25:16,914 utils                   : label='E0110_section_02': remove 17 datasets out of 120\n",
      "2023-12-20 16:25:16,931 utils                   : label='E0110_section_05': remove 15 datasets out of 119\n",
      "2023-12-20 16:25:17,054 utils                   : label='E0110_section_08': remove 15 datasets out of 120\n",
      "2023-12-20 16:25:17,056 utils                   : label='E0110_section_03': remove 18 datasets out of 120\n",
      "2023-12-20 16:25:17,147 utils                   : label='E0110_section_06': remove 15 datasets out of 120\n",
      "2023-12-20 16:25:17,172 utils                   : label='E0110_section_09': remove 15 datasets out of 120\n",
      "2023-12-20 16:25:17,261 utils                   : label='E0110_section_07': remove 12 datasets out of 120\n"
     ]
    }
   ],
   "source": [
    "\n",
    "avg_ramp_up, t_el, ql_dyn, ql_sta = process_group(group='E0110', \n",
    "                                              prefix=fpath2,\n",
    "                                              zone_idx='auto',\n",
    "                                              num_cores=24)\n"
   ]
  },
  {
   "cell_type": "markdown",
   "id": "d94d4542-ab1b-47b2-b0df-76e65c1a895f",
   "metadata": {},
   "source": [
    "### Averaging of SA-XPCS results, temperature ramp up"
   ]
  },
  {
   "cell_type": "code",
   "execution_count": 3,
   "id": "e84e82ad",
   "metadata": {},
   "outputs": [
    {
     "name": "stderr",
     "output_type": "stream",
     "text": [
      "2023-12-20 16:25:18,166 utils                   : total number of files in E0111  is 1200\n",
      "2023-12-20 16:25:20,006 xpcs_viewer.fileIO.hdf_reader: key not found: /exchange/partition-mean-total\n",
      "2023-12-20 16:25:20,013 utils                   : failed to read file /home/8ididata/2022-1/babnigg202203/cluster_results_QZ/E0111_S3_4_Ramp_200C10p_att00_Rq0_00485_0001-100000.hdf, skip this file\n",
      "2023-12-20 16:25:20,023 xpcs_viewer.fileIO.hdf_reader: key not found: /exchange/partition-mean-total\n",
      "2023-12-20 16:25:20,029 utils                   : failed to read file /home/8ididata/2022-1/babnigg202203/cluster_results_QZ/E0111_S3_4_Ramp_200C10p_att00_Rq0_00006_0001-100000.hdf, skip this file\n",
      "2023-12-20 16:25:20,720 xpcs_viewer.fileIO.hdf_reader: key not found: /exchange/partition-mean-total\n",
      "2023-12-20 16:25:20,726 utils                   : failed to read file /home/8ididata/2022-1/babnigg202203/cluster_results_QZ/E0111_S3_4_Ramp_200C10p_att00_Rq0_00777_0001-100000.hdf, skip this file\n",
      "2023-12-20 16:25:22,142 utils                   : label='E0111_section_00': remove 14 datasets out of 119\n",
      "2023-12-20 16:25:22,205 utils                   : label='E0111_section_02': remove 15 datasets out of 120\n",
      "2023-12-20 16:25:22,227 utils                   : label='E0111_section_03': remove 16 datasets out of 120\n",
      "2023-12-20 16:25:22,226 utils                   : label='E0111_section_04': remove 16 datasets out of 119\n",
      "2023-12-20 16:25:22,338 utils                   : label='E0111_section_06': remove 14 datasets out of 119\n",
      "2023-12-20 16:25:22,346 utils                   : label='E0111_section_05': remove 18 datasets out of 120\n",
      "2023-12-20 16:25:22,386 utils                   : label='E0111_section_08': remove 15 datasets out of 120\n",
      "2023-12-20 16:25:22,464 utils                   : label='E0111_section_01': remove 15 datasets out of 120\n",
      "2023-12-20 16:25:22,684 utils                   : label='E0111_section_07': remove 15 datasets out of 120\n",
      "2023-12-20 16:25:22,688 utils                   : label='E0111_section_09': remove 17 datasets out of 120\n"
     ]
    }
   ],
   "source": [
    "\n",
    "avg_ramp_down, _, _, _ = process_group(group='E0111', \n",
    "                                 prefix=fpath2,\n",
    "                                 zone_idx='auto',\n",
    "                                 num_cores=24)\n"
   ]
  },
  {
   "cell_type": "markdown",
   "id": "247f6d12-f65d-446b-bad7-c313e83f98ff",
   "metadata": {},
   "source": [
    "### Averaging of background"
   ]
  },
  {
   "cell_type": "code",
   "execution_count": 4,
   "id": "100f94f2-7fdf-4135-9297-5dd68bb0ab51",
   "metadata": {},
   "outputs": [
    {
     "name": "stderr",
     "output_type": "stream",
     "text": [
      "2023-12-20 16:25:23,611 utils                   : total number of files in D0138  is 50\n",
      "2023-12-20 16:25:24,791 utils                   : label='D0138_section_00': remove 7 datasets out of 50\n"
     ]
    }
   ],
   "source": [
    "\n",
    "avg_bg, _, _, _ = process_group(group='D0138',\n",
    "                                 num_sections=1,\n",
    "                                 prefix=fpath2,\n",
    "                                 zone_idx='auto',\n",
    "                                 num_cores=24)\n"
   ]
  },
  {
   "cell_type": "markdown",
   "id": "c1895a4c-d652-48af-ae27-6e99dc1c8b6b",
   "metadata": {},
   "source": [
    "### Data reduction\n",
    "\n",
    "Subtracting I(Q) with background, converting to absolute scattering cross-section, and dump to pickle file for plotting"
   ]
  },
  {
   "cell_type": "code",
   "execution_count": 6,
   "id": "ba921795-d3c3-4eac-8352-005ff6f4f0c5",
   "metadata": {},
   "outputs": [],
   "source": [
    "\n",
    "fname = 'E0110_S3_4_Ramp_340C10p_att00_Rq0_00001_0001-100000.hdf'\n",
    "\n",
    "with h5py.File(fpath2+'/'+fname, 'r') as f:\n",
    "    _ = f['measurement']['sample']['absolute_cross_section_scale'][()]\n",
    "    abs_coeff = _[0][0]\n",
    "    \n",
    "for ii in range(len(avg_ramp_up)):\n",
    "    avg_ramp_up[ii][\"saxs_1d\"] = abs_coeff*(avg_ramp_up[ii][\"saxs_1d\"] - avg_bg[0][\"saxs_1d\"])\n",
    "\n",
    "for ii in range(len(avg_ramp_down)):\n",
    "    avg_ramp_down[ii][\"saxs_1d\"] = abs_coeff*(avg_ramp_down[ii][\"saxs_1d\"] - avg_bg[0][\"saxs_1d\"])\n",
    "\n",
    "with open('checkpoint.pickle', 'wb') as f:  # 'wb' for binary write mode\n",
    "    pickle.dump(avg_ramp_up, f)  # Dump the object to the file\n",
    "    pickle.dump(avg_ramp_down, f)\n",
    "    pickle.dump(t_el, f)\n",
    "    pickle.dump(ql_sta, f)\n",
    "    pickle.dump(ql_dyn, f)\n",
    "    "
   ]
  },
  {
   "cell_type": "code",
   "execution_count": null,
   "id": "7c31c06b",
   "metadata": {},
   "outputs": [],
   "source": []
  }
 ],
 "metadata": {
  "kernelspec": {
   "display_name": "Python 3 (ipykernel)",
   "language": "python",
   "name": "python3"
  },
  "language_info": {
   "codemirror_mode": {
    "name": "ipython",
    "version": 3
   },
   "file_extension": ".py",
   "mimetype": "text/x-python",
   "name": "python",
   "nbconvert_exporter": "python",
   "pygments_lexer": "ipython3",
   "version": "3.9.16"
  }
 },
 "nbformat": 4,
 "nbformat_minor": 5
}
