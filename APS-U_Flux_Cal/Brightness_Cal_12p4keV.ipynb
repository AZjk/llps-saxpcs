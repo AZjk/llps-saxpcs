{
 "cells": [
  {
   "cell_type": "markdown",
   "id": "c25bd116",
   "metadata": {},
   "source": [
    "## Brightness calculation at 8-ID\n",
    "\n",
    "Flux is measured using Nino's calibrated pin diode (DP00325) mounted on the diving board of 8-ID-I. The Spectral Responsivity at 12.5 keV is 0.2293 $\\text{W/A}$.\n",
    "\n",
    "The pind saturates at attenuation 1-3. The lowest attenuation that the pind does not saturate is attenuation 5. Use the readout of the upstream ion chamber to find out the attenuation ratio at different attenuation levels, then convert the pind reading to the full flux.\n",
    "\n",
    "For the calculation, use attenuation ratios at level 5. Upstream ion chamber readout is 3.94e-8 for the full beam and 7.7e-9 for the attenuated beam. The readout current on pind is 39.8e-6 A.\n"
   ]
  },
  {
   "cell_type": "code",
   "execution_count": 1,
   "id": "29c10345",
   "metadata": {
    "vscode": {
     "languageId": "plaintext"
    }
   },
   "outputs": [],
   "source": [
    "\n",
    "Pind_Current = 39.8e-6*(3.94e-8/7.7e-9) \n",
    "Photon_Energy = 12.4e3                    # Photon energy in eV\n",
    "Spec_Res = 0.2293\n",
    "\n",
    "# Constants for flux calculation\n",
    "ev2J = 1.6e-19                          # Conversion from eV to Joule  \n",
    "E_0p1bw = 0.14\n",
    "\n",
    "# Calculation of raw and corrected flux\n",
    "Beam_Power = Pind_Current/Spec_Res\n",
    "Raw_Flux = Beam_Power/(Photon_Energy*ev2J)       # Flux in photons per second\n"
   ]
  },
  {
   "cell_type": "code",
   "execution_count": 2,
   "id": "bc120969-9f0c-4b03-ba19-2298ba993308",
   "metadata": {},
   "outputs": [
    {
     "name": "stdout",
     "output_type": "stream",
     "text": [
      "\n",
      " The measured raw flux of the 8-ID-I beamline at 12.4 keV is: 4.48e+11 photons/sec\n"
     ]
    }
   ],
   "source": [
    "\n",
    "print(f\"\\n The measured raw flux of the 8-ID-I beamline at {Photon_Energy/1e3:.1f} keV is: {Raw_Flux:.2e} \\\n",
    "photons/sec\")\n"
   ]
  }
 ],
 "metadata": {
  "kernelspec": {
   "display_name": "Python 3 (ipykernel)",
   "language": "python",
   "name": "python3"
  },
  "language_info": {
   "codemirror_mode": {
    "name": "ipython",
    "version": 3
   },
   "file_extension": ".py",
   "mimetype": "text/x-python",
   "name": "python",
   "nbconvert_exporter": "python",
   "pygments_lexer": "ipython3",
   "version": "3.12.8"
  }
 },
 "nbformat": 4,
 "nbformat_minor": 5
}
